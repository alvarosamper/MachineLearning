{
 "cells": [
  {
   "cell_type": "markdown",
   "id": "18ec3360",
   "metadata": {
    "id": "eCAQVwZAx4Cz",
    "papermill": {
     "duration": 0.02198,
     "end_time": "2022-03-09T11:56:44.508776",
     "exception": false,
     "start_time": "2022-03-09T11:56:44.486796",
     "status": "completed"
    },
    "tags": []
   },
   "source": [
    "Vamos a crear una red neuronal que sea capaz de clasificar de forma binaria si un correo es spam o no lo es"
   ]
  },
  {
   "cell_type": "code",
   "execution_count": 1,
   "id": "b17a6340",
   "metadata": {
    "execution": {
     "iopub.execute_input": "2022-03-09T11:56:44.556415Z",
     "iopub.status.busy": "2022-03-09T11:56:44.555271Z",
     "iopub.status.idle": "2022-03-09T11:56:51.223997Z",
     "shell.execute_reply": "2022-03-09T11:56:51.222935Z",
     "shell.execute_reply.started": "2022-03-08T12:04:18.927971Z"
    },
    "id": "nk0Ed2zowpV_",
    "papermill": {
     "duration": 6.693093,
     "end_time": "2022-03-09T11:56:51.224271",
     "exception": false,
     "start_time": "2022-03-09T11:56:44.531178",
     "status": "completed"
    },
    "tags": []
   },
   "outputs": [],
   "source": [
    "#IMPORTS\n",
    "import tensorflow as tf\n",
    "import numpy as np\n",
    "import pandas as pd\n",
    "import random\n",
    "import seaborn as sns\n",
    "import math\n",
    "import matplotlib.pyplot as plt\n",
    "\n",
    "\n",
    "from tensorflow import keras\n",
    "from keras.callbacks import TensorBoard\n",
    "from sklearn.model_selection import train_test_split\n",
    "from sklearn.preprocessing import StandardScaler\n",
    "from sklearn.decomposition import PCA\n",
    "from sklearn.metrics import confusion_matrix"
   ]
  },
  {
   "cell_type": "code",
   "execution_count": 2,
   "id": "ada797b0",
   "metadata": {
    "execution": {
     "iopub.execute_input": "2022-03-09T11:56:51.275554Z",
     "iopub.status.busy": "2022-03-09T11:56:51.274802Z",
     "iopub.status.idle": "2022-03-09T11:56:51.290869Z",
     "shell.execute_reply": "2022-03-09T11:56:51.291520Z",
     "shell.execute_reply.started": "2022-03-08T12:04:55.66468Z"
    },
    "id": "zAMEg7B_x90f",
    "outputId": "feacf823-5cc9-4f4e-9940-b73479d52c8c",
    "papermill": {
     "duration": 0.040984,
     "end_time": "2022-03-09T11:56:51.291710",
     "exception": false,
     "start_time": "2022-03-09T11:56:51.250726",
     "status": "completed"
    },
    "tags": []
   },
   "outputs": [],
   "source": [
    "%load_ext tensorboard "
   ]
  },
  {
   "cell_type": "markdown",
   "id": "b1c7c5f6",
   "metadata": {
    "id": "3nk2HMsLyvI9",
    "papermill": {
     "duration": 0.024064,
     "end_time": "2022-03-09T11:56:51.338044",
     "exception": false,
     "start_time": "2022-03-09T11:56:51.313980",
     "status": "completed"
    },
    "tags": []
   },
   "source": [
    "## Preparación y visualización de los datos"
   ]
  },
  {
   "cell_type": "code",
   "execution_count": 3,
   "id": "bfe1e1cd",
   "metadata": {
    "execution": {
     "iopub.execute_input": "2022-03-09T11:56:51.387040Z",
     "iopub.status.busy": "2022-03-09T11:56:51.386308Z",
     "iopub.status.idle": "2022-03-09T11:56:53.511119Z",
     "shell.execute_reply": "2022-03-09T11:56:53.511618Z",
     "shell.execute_reply.started": "2022-03-08T12:04:58.220231Z"
    },
    "id": "7t7f95ELyknJ",
    "outputId": "af88f907-5ce1-4f44-8c60-76504c53546d",
    "papermill": {
     "duration": 2.151743,
     "end_time": "2022-03-09T11:56:53.511782",
     "exception": false,
     "start_time": "2022-03-09T11:56:51.360039",
     "status": "completed"
    },
    "tags": []
   },
   "outputs": [
    {
     "data": {
      "text/html": [
       "<div>\n",
       "<style scoped>\n",
       "    .dataframe tbody tr th:only-of-type {\n",
       "        vertical-align: middle;\n",
       "    }\n",
       "\n",
       "    .dataframe tbody tr th {\n",
       "        vertical-align: top;\n",
       "    }\n",
       "\n",
       "    .dataframe thead th {\n",
       "        text-align: right;\n",
       "    }\n",
       "</style>\n",
       "<table border=\"1\" class=\"dataframe\">\n",
       "  <thead>\n",
       "    <tr style=\"text-align: right;\">\n",
       "      <th></th>\n",
       "      <th>Email No.</th>\n",
       "      <th>the</th>\n",
       "      <th>to</th>\n",
       "      <th>ect</th>\n",
       "      <th>and</th>\n",
       "      <th>for</th>\n",
       "      <th>of</th>\n",
       "      <th>a</th>\n",
       "      <th>you</th>\n",
       "      <th>hou</th>\n",
       "      <th>...</th>\n",
       "      <th>connevey</th>\n",
       "      <th>jay</th>\n",
       "      <th>valued</th>\n",
       "      <th>lay</th>\n",
       "      <th>infrastructure</th>\n",
       "      <th>military</th>\n",
       "      <th>allowing</th>\n",
       "      <th>ff</th>\n",
       "      <th>dry</th>\n",
       "      <th>Prediction</th>\n",
       "    </tr>\n",
       "  </thead>\n",
       "  <tbody>\n",
       "    <tr>\n",
       "      <th>0</th>\n",
       "      <td>Email 1</td>\n",
       "      <td>0</td>\n",
       "      <td>0</td>\n",
       "      <td>1</td>\n",
       "      <td>0</td>\n",
       "      <td>0</td>\n",
       "      <td>0</td>\n",
       "      <td>2</td>\n",
       "      <td>0</td>\n",
       "      <td>0</td>\n",
       "      <td>...</td>\n",
       "      <td>0</td>\n",
       "      <td>0</td>\n",
       "      <td>0</td>\n",
       "      <td>0</td>\n",
       "      <td>0</td>\n",
       "      <td>0</td>\n",
       "      <td>0</td>\n",
       "      <td>0</td>\n",
       "      <td>0</td>\n",
       "      <td>0</td>\n",
       "    </tr>\n",
       "    <tr>\n",
       "      <th>1</th>\n",
       "      <td>Email 2</td>\n",
       "      <td>8</td>\n",
       "      <td>13</td>\n",
       "      <td>24</td>\n",
       "      <td>6</td>\n",
       "      <td>6</td>\n",
       "      <td>2</td>\n",
       "      <td>102</td>\n",
       "      <td>1</td>\n",
       "      <td>27</td>\n",
       "      <td>...</td>\n",
       "      <td>0</td>\n",
       "      <td>0</td>\n",
       "      <td>0</td>\n",
       "      <td>0</td>\n",
       "      <td>0</td>\n",
       "      <td>0</td>\n",
       "      <td>0</td>\n",
       "      <td>1</td>\n",
       "      <td>0</td>\n",
       "      <td>0</td>\n",
       "    </tr>\n",
       "    <tr>\n",
       "      <th>2</th>\n",
       "      <td>Email 3</td>\n",
       "      <td>0</td>\n",
       "      <td>0</td>\n",
       "      <td>1</td>\n",
       "      <td>0</td>\n",
       "      <td>0</td>\n",
       "      <td>0</td>\n",
       "      <td>8</td>\n",
       "      <td>0</td>\n",
       "      <td>0</td>\n",
       "      <td>...</td>\n",
       "      <td>0</td>\n",
       "      <td>0</td>\n",
       "      <td>0</td>\n",
       "      <td>0</td>\n",
       "      <td>0</td>\n",
       "      <td>0</td>\n",
       "      <td>0</td>\n",
       "      <td>0</td>\n",
       "      <td>0</td>\n",
       "      <td>0</td>\n",
       "    </tr>\n",
       "    <tr>\n",
       "      <th>3</th>\n",
       "      <td>Email 4</td>\n",
       "      <td>0</td>\n",
       "      <td>5</td>\n",
       "      <td>22</td>\n",
       "      <td>0</td>\n",
       "      <td>5</td>\n",
       "      <td>1</td>\n",
       "      <td>51</td>\n",
       "      <td>2</td>\n",
       "      <td>10</td>\n",
       "      <td>...</td>\n",
       "      <td>0</td>\n",
       "      <td>0</td>\n",
       "      <td>0</td>\n",
       "      <td>0</td>\n",
       "      <td>0</td>\n",
       "      <td>0</td>\n",
       "      <td>0</td>\n",
       "      <td>0</td>\n",
       "      <td>0</td>\n",
       "      <td>0</td>\n",
       "    </tr>\n",
       "    <tr>\n",
       "      <th>4</th>\n",
       "      <td>Email 5</td>\n",
       "      <td>7</td>\n",
       "      <td>6</td>\n",
       "      <td>17</td>\n",
       "      <td>1</td>\n",
       "      <td>5</td>\n",
       "      <td>2</td>\n",
       "      <td>57</td>\n",
       "      <td>0</td>\n",
       "      <td>9</td>\n",
       "      <td>...</td>\n",
       "      <td>0</td>\n",
       "      <td>0</td>\n",
       "      <td>0</td>\n",
       "      <td>0</td>\n",
       "      <td>0</td>\n",
       "      <td>0</td>\n",
       "      <td>0</td>\n",
       "      <td>1</td>\n",
       "      <td>0</td>\n",
       "      <td>0</td>\n",
       "    </tr>\n",
       "  </tbody>\n",
       "</table>\n",
       "<p>5 rows × 3002 columns</p>\n",
       "</div>"
      ],
      "text/plain": [
       "  Email No.  the  to  ect  and  for  of    a  you  hou  ...  connevey  jay  \\\n",
       "0   Email 1    0   0    1    0    0   0    2    0    0  ...         0    0   \n",
       "1   Email 2    8  13   24    6    6   2  102    1   27  ...         0    0   \n",
       "2   Email 3    0   0    1    0    0   0    8    0    0  ...         0    0   \n",
       "3   Email 4    0   5   22    0    5   1   51    2   10  ...         0    0   \n",
       "4   Email 5    7   6   17    1    5   2   57    0    9  ...         0    0   \n",
       "\n",
       "   valued  lay  infrastructure  military  allowing  ff  dry  Prediction  \n",
       "0       0    0               0         0         0   0    0           0  \n",
       "1       0    0               0         0         0   1    0           0  \n",
       "2       0    0               0         0         0   0    0           0  \n",
       "3       0    0               0         0         0   0    0           0  \n",
       "4       0    0               0         0         0   1    0           0  \n",
       "\n",
       "[5 rows x 3002 columns]"
      ]
     },
     "execution_count": 3,
     "metadata": {},
     "output_type": "execute_result"
    }
   ],
   "source": [
    "data=pd.read_csv('../input/email-spam-classification-dataset-csv/emails.csv')\n",
    "data.head()"
   ]
  },
  {
   "cell_type": "code",
   "execution_count": 4,
   "id": "30962df4",
   "metadata": {
    "execution": {
     "iopub.execute_input": "2022-03-09T11:56:53.563380Z",
     "iopub.status.busy": "2022-03-09T11:56:53.562632Z",
     "iopub.status.idle": "2022-03-09T11:56:53.632081Z",
     "shell.execute_reply": "2022-03-09T11:56:53.631417Z",
     "shell.execute_reply.started": "2022-03-08T12:05:04.639425Z"
    },
    "id": "wwimZ1f1AV7_",
    "outputId": "3940de74-7dc3-4b57-fd8a-147bacbaadac",
    "papermill": {
     "duration": 0.098753,
     "end_time": "2022-03-09T11:56:53.632234",
     "exception": false,
     "start_time": "2022-03-09T11:56:53.533481",
     "status": "completed"
    },
    "tags": []
   },
   "outputs": [
    {
     "data": {
      "text/plain": [
       "Index([], dtype='object')"
      ]
     },
     "execution_count": 4,
     "metadata": {},
     "output_type": "execute_result"
    }
   ],
   "source": [
    "#Eliminamos la columna email:\n",
    "data.drop([\"Email No.\"],axis=1,inplace=True)\n",
    "\n",
    "#Debemos ahora investigar sobre la cantidad de NaN que tenemos\n",
    "data.columns[data.isnull().any()]"
   ]
  },
  {
   "cell_type": "markdown",
   "id": "9d68bfab",
   "metadata": {
    "id": "nbqYPNgvBSyV",
    "papermill": {
     "duration": 0.021566,
     "end_time": "2022-03-09T11:56:53.675888",
     "exception": false,
     "start_time": "2022-03-09T11:56:53.654322",
     "status": "completed"
    },
    "tags": []
   },
   "source": [
    "Por suerte no disponemos de ninguna columna con valores vacíos, luego eso nos facilita mucho las cosas.\n",
    "También hemos eliminado la columna email ya que es un índice que molestaba."
   ]
  },
  {
   "cell_type": "markdown",
   "id": "24137219",
   "metadata": {
    "id": "CIVphfLZBigL",
    "papermill": {
     "duration": 0.021356,
     "end_time": "2022-03-09T11:56:53.719494",
     "exception": false,
     "start_time": "2022-03-09T11:56:53.698138",
     "status": "completed"
    },
    "tags": []
   },
   "source": [
    "Echamos ahora un vistazo a ver como se distribuyen de manera estadística las variables y ver si alguna no aparece y así nos damos cuenta de que no es numérica."
   ]
  },
  {
   "cell_type": "code",
   "execution_count": 5,
   "id": "d75a37c7",
   "metadata": {
    "execution": {
     "iopub.execute_input": "2022-03-09T11:56:53.769347Z",
     "iopub.status.busy": "2022-03-09T11:56:53.768624Z",
     "iopub.status.idle": "2022-03-09T11:56:59.225142Z",
     "shell.execute_reply": "2022-03-09T11:56:59.224586Z",
     "shell.execute_reply.started": "2022-03-08T12:05:08.87418Z"
    },
    "id": "miehlX21yqCE",
    "outputId": "60fc345b-1f8e-46db-e6ef-d7ca14b91625",
    "papermill": {
     "duration": 5.481968,
     "end_time": "2022-03-09T11:56:59.225277",
     "exception": false,
     "start_time": "2022-03-09T11:56:53.743309",
     "status": "completed"
    },
    "tags": []
   },
   "outputs": [
    {
     "data": {
      "text/html": [
       "<div>\n",
       "<style scoped>\n",
       "    .dataframe tbody tr th:only-of-type {\n",
       "        vertical-align: middle;\n",
       "    }\n",
       "\n",
       "    .dataframe tbody tr th {\n",
       "        vertical-align: top;\n",
       "    }\n",
       "\n",
       "    .dataframe thead th {\n",
       "        text-align: right;\n",
       "    }\n",
       "</style>\n",
       "<table border=\"1\" class=\"dataframe\">\n",
       "  <thead>\n",
       "    <tr style=\"text-align: right;\">\n",
       "      <th></th>\n",
       "      <th>the</th>\n",
       "      <th>to</th>\n",
       "      <th>ect</th>\n",
       "      <th>and</th>\n",
       "      <th>for</th>\n",
       "      <th>of</th>\n",
       "      <th>a</th>\n",
       "      <th>you</th>\n",
       "      <th>hou</th>\n",
       "      <th>in</th>\n",
       "      <th>...</th>\n",
       "      <th>connevey</th>\n",
       "      <th>jay</th>\n",
       "      <th>valued</th>\n",
       "      <th>lay</th>\n",
       "      <th>infrastructure</th>\n",
       "      <th>military</th>\n",
       "      <th>allowing</th>\n",
       "      <th>ff</th>\n",
       "      <th>dry</th>\n",
       "      <th>Prediction</th>\n",
       "    </tr>\n",
       "  </thead>\n",
       "  <tbody>\n",
       "    <tr>\n",
       "      <th>count</th>\n",
       "      <td>5172.000000</td>\n",
       "      <td>5172.000000</td>\n",
       "      <td>5172.000000</td>\n",
       "      <td>5172.000000</td>\n",
       "      <td>5172.000000</td>\n",
       "      <td>5172.000000</td>\n",
       "      <td>5172.000000</td>\n",
       "      <td>5172.000000</td>\n",
       "      <td>5172.000000</td>\n",
       "      <td>5172.000000</td>\n",
       "      <td>...</td>\n",
       "      <td>5172.000000</td>\n",
       "      <td>5172.000000</td>\n",
       "      <td>5172.000000</td>\n",
       "      <td>5172.000000</td>\n",
       "      <td>5172.000000</td>\n",
       "      <td>5172.000000</td>\n",
       "      <td>5172.000000</td>\n",
       "      <td>5172.000000</td>\n",
       "      <td>5172.000000</td>\n",
       "      <td>5172.000000</td>\n",
       "    </tr>\n",
       "    <tr>\n",
       "      <th>mean</th>\n",
       "      <td>6.640565</td>\n",
       "      <td>6.188128</td>\n",
       "      <td>5.143852</td>\n",
       "      <td>3.075599</td>\n",
       "      <td>3.124710</td>\n",
       "      <td>2.627030</td>\n",
       "      <td>55.517401</td>\n",
       "      <td>2.466551</td>\n",
       "      <td>2.024362</td>\n",
       "      <td>10.600155</td>\n",
       "      <td>...</td>\n",
       "      <td>0.005027</td>\n",
       "      <td>0.012568</td>\n",
       "      <td>0.010634</td>\n",
       "      <td>0.098028</td>\n",
       "      <td>0.004254</td>\n",
       "      <td>0.006574</td>\n",
       "      <td>0.004060</td>\n",
       "      <td>0.914733</td>\n",
       "      <td>0.006961</td>\n",
       "      <td>0.290023</td>\n",
       "    </tr>\n",
       "    <tr>\n",
       "      <th>std</th>\n",
       "      <td>11.745009</td>\n",
       "      <td>9.534576</td>\n",
       "      <td>14.101142</td>\n",
       "      <td>6.045970</td>\n",
       "      <td>4.680522</td>\n",
       "      <td>6.229845</td>\n",
       "      <td>87.574172</td>\n",
       "      <td>4.314444</td>\n",
       "      <td>6.967878</td>\n",
       "      <td>19.281892</td>\n",
       "      <td>...</td>\n",
       "      <td>0.105788</td>\n",
       "      <td>0.199682</td>\n",
       "      <td>0.116693</td>\n",
       "      <td>0.569532</td>\n",
       "      <td>0.096252</td>\n",
       "      <td>0.138908</td>\n",
       "      <td>0.072145</td>\n",
       "      <td>2.780203</td>\n",
       "      <td>0.098086</td>\n",
       "      <td>0.453817</td>\n",
       "    </tr>\n",
       "    <tr>\n",
       "      <th>min</th>\n",
       "      <td>0.000000</td>\n",
       "      <td>0.000000</td>\n",
       "      <td>1.000000</td>\n",
       "      <td>0.000000</td>\n",
       "      <td>0.000000</td>\n",
       "      <td>0.000000</td>\n",
       "      <td>0.000000</td>\n",
       "      <td>0.000000</td>\n",
       "      <td>0.000000</td>\n",
       "      <td>0.000000</td>\n",
       "      <td>...</td>\n",
       "      <td>0.000000</td>\n",
       "      <td>0.000000</td>\n",
       "      <td>0.000000</td>\n",
       "      <td>0.000000</td>\n",
       "      <td>0.000000</td>\n",
       "      <td>0.000000</td>\n",
       "      <td>0.000000</td>\n",
       "      <td>0.000000</td>\n",
       "      <td>0.000000</td>\n",
       "      <td>0.000000</td>\n",
       "    </tr>\n",
       "    <tr>\n",
       "      <th>25%</th>\n",
       "      <td>0.000000</td>\n",
       "      <td>1.000000</td>\n",
       "      <td>1.000000</td>\n",
       "      <td>0.000000</td>\n",
       "      <td>1.000000</td>\n",
       "      <td>0.000000</td>\n",
       "      <td>12.000000</td>\n",
       "      <td>0.000000</td>\n",
       "      <td>0.000000</td>\n",
       "      <td>1.000000</td>\n",
       "      <td>...</td>\n",
       "      <td>0.000000</td>\n",
       "      <td>0.000000</td>\n",
       "      <td>0.000000</td>\n",
       "      <td>0.000000</td>\n",
       "      <td>0.000000</td>\n",
       "      <td>0.000000</td>\n",
       "      <td>0.000000</td>\n",
       "      <td>0.000000</td>\n",
       "      <td>0.000000</td>\n",
       "      <td>0.000000</td>\n",
       "    </tr>\n",
       "    <tr>\n",
       "      <th>50%</th>\n",
       "      <td>3.000000</td>\n",
       "      <td>3.000000</td>\n",
       "      <td>1.000000</td>\n",
       "      <td>1.000000</td>\n",
       "      <td>2.000000</td>\n",
       "      <td>1.000000</td>\n",
       "      <td>28.000000</td>\n",
       "      <td>1.000000</td>\n",
       "      <td>0.000000</td>\n",
       "      <td>5.000000</td>\n",
       "      <td>...</td>\n",
       "      <td>0.000000</td>\n",
       "      <td>0.000000</td>\n",
       "      <td>0.000000</td>\n",
       "      <td>0.000000</td>\n",
       "      <td>0.000000</td>\n",
       "      <td>0.000000</td>\n",
       "      <td>0.000000</td>\n",
       "      <td>0.000000</td>\n",
       "      <td>0.000000</td>\n",
       "      <td>0.000000</td>\n",
       "    </tr>\n",
       "    <tr>\n",
       "      <th>75%</th>\n",
       "      <td>8.000000</td>\n",
       "      <td>7.000000</td>\n",
       "      <td>4.000000</td>\n",
       "      <td>3.000000</td>\n",
       "      <td>4.000000</td>\n",
       "      <td>2.000000</td>\n",
       "      <td>62.250000</td>\n",
       "      <td>3.000000</td>\n",
       "      <td>1.000000</td>\n",
       "      <td>12.000000</td>\n",
       "      <td>...</td>\n",
       "      <td>0.000000</td>\n",
       "      <td>0.000000</td>\n",
       "      <td>0.000000</td>\n",
       "      <td>0.000000</td>\n",
       "      <td>0.000000</td>\n",
       "      <td>0.000000</td>\n",
       "      <td>0.000000</td>\n",
       "      <td>1.000000</td>\n",
       "      <td>0.000000</td>\n",
       "      <td>1.000000</td>\n",
       "    </tr>\n",
       "    <tr>\n",
       "      <th>max</th>\n",
       "      <td>210.000000</td>\n",
       "      <td>132.000000</td>\n",
       "      <td>344.000000</td>\n",
       "      <td>89.000000</td>\n",
       "      <td>47.000000</td>\n",
       "      <td>77.000000</td>\n",
       "      <td>1898.000000</td>\n",
       "      <td>70.000000</td>\n",
       "      <td>167.000000</td>\n",
       "      <td>223.000000</td>\n",
       "      <td>...</td>\n",
       "      <td>4.000000</td>\n",
       "      <td>7.000000</td>\n",
       "      <td>2.000000</td>\n",
       "      <td>12.000000</td>\n",
       "      <td>3.000000</td>\n",
       "      <td>4.000000</td>\n",
       "      <td>3.000000</td>\n",
       "      <td>114.000000</td>\n",
       "      <td>4.000000</td>\n",
       "      <td>1.000000</td>\n",
       "    </tr>\n",
       "  </tbody>\n",
       "</table>\n",
       "<p>8 rows × 3001 columns</p>\n",
       "</div>"
      ],
      "text/plain": [
       "               the           to          ect          and          for  \\\n",
       "count  5172.000000  5172.000000  5172.000000  5172.000000  5172.000000   \n",
       "mean      6.640565     6.188128     5.143852     3.075599     3.124710   \n",
       "std      11.745009     9.534576    14.101142     6.045970     4.680522   \n",
       "min       0.000000     0.000000     1.000000     0.000000     0.000000   \n",
       "25%       0.000000     1.000000     1.000000     0.000000     1.000000   \n",
       "50%       3.000000     3.000000     1.000000     1.000000     2.000000   \n",
       "75%       8.000000     7.000000     4.000000     3.000000     4.000000   \n",
       "max     210.000000   132.000000   344.000000    89.000000    47.000000   \n",
       "\n",
       "                of            a          you          hou           in  ...  \\\n",
       "count  5172.000000  5172.000000  5172.000000  5172.000000  5172.000000  ...   \n",
       "mean      2.627030    55.517401     2.466551     2.024362    10.600155  ...   \n",
       "std       6.229845    87.574172     4.314444     6.967878    19.281892  ...   \n",
       "min       0.000000     0.000000     0.000000     0.000000     0.000000  ...   \n",
       "25%       0.000000    12.000000     0.000000     0.000000     1.000000  ...   \n",
       "50%       1.000000    28.000000     1.000000     0.000000     5.000000  ...   \n",
       "75%       2.000000    62.250000     3.000000     1.000000    12.000000  ...   \n",
       "max      77.000000  1898.000000    70.000000   167.000000   223.000000  ...   \n",
       "\n",
       "          connevey          jay       valued          lay  infrastructure  \\\n",
       "count  5172.000000  5172.000000  5172.000000  5172.000000     5172.000000   \n",
       "mean      0.005027     0.012568     0.010634     0.098028        0.004254   \n",
       "std       0.105788     0.199682     0.116693     0.569532        0.096252   \n",
       "min       0.000000     0.000000     0.000000     0.000000        0.000000   \n",
       "25%       0.000000     0.000000     0.000000     0.000000        0.000000   \n",
       "50%       0.000000     0.000000     0.000000     0.000000        0.000000   \n",
       "75%       0.000000     0.000000     0.000000     0.000000        0.000000   \n",
       "max       4.000000     7.000000     2.000000    12.000000        3.000000   \n",
       "\n",
       "          military     allowing           ff          dry   Prediction  \n",
       "count  5172.000000  5172.000000  5172.000000  5172.000000  5172.000000  \n",
       "mean      0.006574     0.004060     0.914733     0.006961     0.290023  \n",
       "std       0.138908     0.072145     2.780203     0.098086     0.453817  \n",
       "min       0.000000     0.000000     0.000000     0.000000     0.000000  \n",
       "25%       0.000000     0.000000     0.000000     0.000000     0.000000  \n",
       "50%       0.000000     0.000000     0.000000     0.000000     0.000000  \n",
       "75%       0.000000     0.000000     1.000000     0.000000     1.000000  \n",
       "max       4.000000     3.000000   114.000000     4.000000     1.000000  \n",
       "\n",
       "[8 rows x 3001 columns]"
      ]
     },
     "execution_count": 5,
     "metadata": {},
     "output_type": "execute_result"
    }
   ],
   "source": [
    "data.describe()"
   ]
  },
  {
   "cell_type": "markdown",
   "id": "e6d2f5d2",
   "metadata": {
    "id": "sJX9lqAqFNrT",
    "papermill": {
     "duration": 0.022434,
     "end_time": "2022-03-09T11:56:59.270644",
     "exception": false,
     "start_time": "2022-03-09T11:56:59.248210",
     "status": "completed"
    },
    "tags": []
   },
   "source": [
    "## Selección de variables\n",
    "Como tenemos muchas columnas el ordenador va a tardar demasiado. Por lo que vamos a aplicar PCA con una varianza explicativa del 70% para reducir la dimensionalidad"
   ]
  },
  {
   "cell_type": "code",
   "execution_count": 6,
   "id": "6a109bfa",
   "metadata": {
    "execution": {
     "iopub.execute_input": "2022-03-09T11:56:59.319528Z",
     "iopub.status.busy": "2022-03-09T11:56:59.318942Z",
     "iopub.status.idle": "2022-03-09T11:57:20.157301Z",
     "shell.execute_reply": "2022-03-09T11:57:20.156363Z",
     "shell.execute_reply.started": "2022-03-08T12:05:55.913456Z"
    },
    "id": "6jWhfVKDKuEr",
    "outputId": "e1e8f2c8-1028-469e-cde7-0644db079c95",
    "papermill": {
     "duration": 20.863846,
     "end_time": "2022-03-09T11:57:20.157453",
     "exception": false,
     "start_time": "2022-03-09T11:56:59.293607",
     "status": "completed"
    },
    "tags": []
   },
   "outputs": [
    {
     "data": {
      "text/plain": [
       "(5172, 309)"
      ]
     },
     "execution_count": 6,
     "metadata": {},
     "output_type": "execute_result"
    }
   ],
   "source": [
    "x_=data.iloc[:,:-1]\n",
    "normal=StandardScaler()\n",
    "x_=normal.fit_transform(x_)\n",
    "\n",
    "pca_var= PCA(n_components=0.7, svd_solver='full')\n",
    "\n",
    "X_pca = pca_var.fit_transform(x_)\n",
    "X_pca.shape"
   ]
  },
  {
   "cell_type": "code",
   "execution_count": 7,
   "id": "aab45f09",
   "metadata": {
    "execution": {
     "iopub.execute_input": "2022-03-09T11:57:20.210086Z",
     "iopub.status.busy": "2022-03-09T11:57:20.209371Z",
     "iopub.status.idle": "2022-03-09T11:57:41.796301Z",
     "shell.execute_reply": "2022-03-09T11:57:41.796800Z",
     "shell.execute_reply.started": "2022-03-08T12:06:17.29568Z"
    },
    "id": "m3asmJrnFLZK",
    "outputId": "088c3860-5b77-4987-ec78-1ef1eb722c13",
    "papermill": {
     "duration": 21.616513,
     "end_time": "2022-03-09T11:57:41.797027",
     "exception": false,
     "start_time": "2022-03-09T11:57:20.180514",
     "status": "completed"
    },
    "tags": []
   },
   "outputs": [
    {
     "name": "stdout",
     "output_type": "stream",
     "text": [
      "Nº de componentes: 309\n",
      "Ratio de varianza explicada:\n",
      "[0.07181724 0.02393477 0.01537363 0.0130559  0.01198736 0.01122417\n",
      " 0.00993453 0.0095416  0.00848721 0.00789056 0.00732223 0.00705226\n",
      " 0.00639642 0.00605365 0.00590974 0.00566777 0.00559672 0.00553174\n",
      " 0.00529718 0.00509747 0.00505381 0.00476423 0.00465053 0.00444924\n",
      " 0.00426842 0.00421941 0.00408709 0.00398178 0.00389677 0.00380031\n",
      " 0.00375309 0.00359757 0.00357718 0.00350277 0.00343986 0.00335709\n",
      " 0.00329503 0.00328796 0.00324901 0.00317379 0.00313284 0.00310412\n",
      " 0.00305739 0.00303361 0.00299838 0.00295039 0.00292866 0.00290814\n",
      " 0.00285953 0.00282347 0.0027766  0.00275929 0.00269387 0.00268407\n",
      " 0.0026471  0.00259389 0.00257838 0.00254471 0.00251263 0.00248937\n",
      " 0.00247231 0.00243835 0.00242549 0.00236972 0.00235033 0.00232327\n",
      " 0.00231985 0.0022993  0.00228721 0.00225772 0.00223772 0.00223033\n",
      " 0.0022106  0.00218653 0.00216964 0.00214117 0.00213162 0.00211678\n",
      " 0.00211458 0.00208925 0.00207298 0.00206966 0.00205746 0.00202857\n",
      " 0.00202243 0.00197103 0.00196462 0.00196184 0.00194926 0.00193871\n",
      " 0.00192931 0.00192312 0.00190719 0.00190396 0.00188735 0.00187269\n",
      " 0.00185709 0.00185076 0.00182878 0.00182252 0.00180234 0.00179527\n",
      " 0.00178064 0.00177897 0.001758   0.00174994 0.00174268 0.00173267\n",
      " 0.00172066 0.00171486 0.00170538 0.00169317 0.00168543 0.00167039\n",
      " 0.00165924 0.00165427 0.0016507  0.00163813 0.00163524 0.00161972\n",
      " 0.00161057 0.00160313 0.00158713 0.00158233 0.0015744  0.0015617\n",
      " 0.0015564  0.00154599 0.00153556 0.00152626 0.00152372 0.00152006\n",
      " 0.00150827 0.00149486 0.00148918 0.00148057 0.00147326 0.00146914\n",
      " 0.00145913 0.00144619 0.00144339 0.00143492 0.00142757 0.00142321\n",
      " 0.00141809 0.00140968 0.00140605 0.00139653 0.00139127 0.00137994\n",
      " 0.00137434 0.0013719  0.00136561 0.001362   0.0013495  0.00134711\n",
      " 0.00134209 0.00133272 0.00132863 0.00132353 0.00130526 0.00129943\n",
      " 0.0012958  0.00128948 0.00128287 0.00127562 0.00126826 0.001266\n",
      " 0.00126122 0.00125816 0.00125164 0.00124562 0.00124056 0.00123614\n",
      " 0.00123179 0.00122321 0.00121753 0.0012144  0.00120911 0.00120321\n",
      " 0.00119375 0.00118989 0.00118576 0.00117941 0.00117273 0.00116913\n",
      " 0.0011659  0.00116308 0.0011612  0.00115556 0.00115237 0.00114482\n",
      " 0.00113942 0.00113843 0.00112907 0.00112663 0.00112387 0.00111595\n",
      " 0.00111069 0.00110638 0.00109953 0.00109132 0.00108921 0.00108724\n",
      " 0.00108661 0.00108233 0.00107359 0.00107099 0.00106884 0.00106493\n",
      " 0.001061   0.0010585  0.00105528 0.00105101 0.00104687 0.00104415\n",
      " 0.00104008 0.00103782 0.00103147 0.00102993 0.00102317 0.00101951\n",
      " 0.00101281 0.0010107  0.00100703 0.00100103 0.00099661 0.0009947\n",
      " 0.00099175 0.00098726 0.00098471 0.00098151 0.00097942 0.00097705\n",
      " 0.00097043 0.00096976 0.00096277 0.00095968 0.00095433 0.00095335\n",
      " 0.00095047 0.00094528 0.00094251 0.00093785 0.00093637 0.00093144\n",
      " 0.00092813 0.00092637 0.00092147 0.00091895 0.00091841 0.00091099\n",
      " 0.00090732 0.00090623 0.00090361 0.00090107 0.00090016 0.00089653\n",
      " 0.00089133 0.00088989 0.00088147 0.00087996 0.00087979 0.00087626\n",
      " 0.00087478 0.00087163 0.00086767 0.00086333 0.00085943 0.00085449\n",
      " 0.00085171 0.0008471  0.0008433  0.00084321 0.00084125 0.0008384\n",
      " 0.00083646 0.0008339  0.00083007 0.00082462 0.00082033 0.00081865\n",
      " 0.00081612 0.00081429 0.00081119 0.00080967 0.00080672 0.00080505\n",
      " 0.00080329 0.0007974  0.00079721 0.00079355 0.00078758 0.0007869\n",
      " 0.00078267 0.00078232 0.00078108 0.00077903 0.00077639 0.00077426\n",
      " 0.00077119 0.0007691  0.00076659 0.00076563 0.00076333 0.00076007\n",
      " 0.00075944 0.00075806 0.00075751]\n"
     ]
    }
   ],
   "source": [
    "min_var = 0.7    # Varianza mín. a preservar\n",
    "\n",
    "pca_var= PCA(n_components=min_var, svd_solver='full')\n",
    "\n",
    "X_pca2 = pca_var.fit(x_)\n",
    "\n",
    "print('Nº de componentes:', len(X_pca2.components_))\n",
    "print('Ratio de varianza explicada:')\n",
    "print(X_pca2.explained_variance_ratio_)"
   ]
  },
  {
   "cell_type": "markdown",
   "id": "cef4d60f",
   "metadata": {
    "id": "a_fuJQFDB6a6",
    "papermill": {
     "duration": 0.023456,
     "end_time": "2022-03-09T11:57:41.844946",
     "exception": false,
     "start_time": "2022-03-09T11:57:41.821490",
     "status": "completed"
    },
    "tags": []
   },
   "source": [
    "vamos ahora a preparar los datos para que puedan ser utilizados por nuestros algoritmos"
   ]
  },
  {
   "cell_type": "code",
   "execution_count": 8,
   "id": "fc53b256",
   "metadata": {
    "execution": {
     "iopub.execute_input": "2022-03-09T11:57:41.896786Z",
     "iopub.status.busy": "2022-03-09T11:57:41.896125Z",
     "iopub.status.idle": "2022-03-09T11:57:41.948796Z",
     "shell.execute_reply": "2022-03-09T11:57:41.949320Z",
     "shell.execute_reply.started": "2022-03-08T12:06:58.475195Z"
    },
    "id": "U6gAJy_A-YTo",
    "papermill": {
     "duration": 0.080809,
     "end_time": "2022-03-09T11:57:41.949492",
     "exception": false,
     "start_time": "2022-03-09T11:57:41.868683",
     "status": "completed"
    },
    "tags": []
   },
   "outputs": [
    {
     "name": "stderr",
     "output_type": "stream",
     "text": [
      "2022-03-09 11:57:41.925341: I tensorflow/core/common_runtime/process_util.cc:146] Creating new thread pool with default inter op setting: 2. Tune using inter_op_parallelism_threads for best performance.\n"
     ]
    }
   ],
   "source": [
    "#Separación de los conjuntos\n",
    "x_train,x_test,y_train,y_test=train_test_split(X_pca,\n",
    "                                               data.iloc[:,-1],test_size=0.1, random_state=95134)\n",
    "\n",
    "#Preparación para trabajar con tensorflow\n",
    "X_train=tf.convert_to_tensor(x_train,np.float32)\n",
    "y_train=tf.convert_to_tensor(y_train,np.int8)\n",
    "\n",
    "X_test=tf.convert_to_tensor(x_test,np.float32)\n",
    "y_test=tf.convert_to_tensor(y_test,np.int8)"
   ]
  },
  {
   "cell_type": "markdown",
   "id": "765fbd2c",
   "metadata": {
    "id": "aKEvsk-6PzJ0",
    "papermill": {
     "duration": 0.023395,
     "end_time": "2022-03-09T11:57:41.996748",
     "exception": false,
     "start_time": "2022-03-09T11:57:41.973353",
     "status": "completed"
    },
    "tags": []
   },
   "source": [
    "## Creación y entrenamiento del modelo"
   ]
  },
  {
   "cell_type": "code",
   "execution_count": 9,
   "id": "147300ae",
   "metadata": {
    "execution": {
     "iopub.execute_input": "2022-03-09T11:57:42.047843Z",
     "iopub.status.busy": "2022-03-09T11:57:42.047204Z",
     "iopub.status.idle": "2022-03-09T11:57:42.558487Z",
     "shell.execute_reply": "2022-03-09T11:57:42.559107Z",
     "shell.execute_reply.started": "2022-03-08T12:07:04.176904Z"
    },
    "id": "dokpjPk6B43b",
    "outputId": "5c1b0c3b-e9af-4f45-bcc4-1731bd377798",
    "papermill": {
     "duration": 0.538733,
     "end_time": "2022-03-09T11:57:42.559284",
     "exception": false,
     "start_time": "2022-03-09T11:57:42.020551",
     "status": "completed"
    },
    "tags": []
   },
   "outputs": [
    {
     "name": "stdout",
     "output_type": "stream",
     "text": [
      "Model: \"ClasificacionBinaria\"\n",
      "_________________________________________________________________\n",
      "Layer (type)                 Output Shape              Param #   \n",
      "=================================================================\n",
      "flatten (Flatten)            (None, 309)               0         \n",
      "_________________________________________________________________\n",
      "dense (Dense)                (None, 500)               155000    \n",
      "_________________________________________________________________\n",
      "dense_1 (Dense)              (None, 800)               400800    \n",
      "_________________________________________________________________\n",
      "dense_2 (Dense)              (None, 1)                 801       \n",
      "=================================================================\n",
      "Total params: 556,601\n",
      "Trainable params: 556,601\n",
      "Non-trainable params: 0\n",
      "_________________________________________________________________\n"
     ]
    }
   ],
   "source": [
    "#Definición de los layers\n",
    "layers=[keras.layers.Flatten(input_shape=(309,)),\n",
    "        keras.layers.Dense(500, activation=tf.nn.relu),\n",
    "        keras.layers.Dense(800, activation=tf.nn.relu),\n",
    "        keras.layers.Dense(1, activation=tf.nn.sigmoid)]\n",
    "\n",
    "#Definición del modelo de tipo Secuencial\n",
    "model=keras.Sequential(layers,name=\"ClasificacionBinaria\")\n",
    "\n",
    "model.summary()\n",
    "\n",
    "model.compile(optimizer=\"sgd\",\n",
    "              loss=\"binary_crossentropy\",\n",
    "              metrics=[tf.keras.metrics.BinaryAccuracy()])"
   ]
  },
  {
   "cell_type": "code",
   "execution_count": 10,
   "id": "d7d12352",
   "metadata": {
    "execution": {
     "iopub.execute_input": "2022-03-09T11:57:42.613297Z",
     "iopub.status.busy": "2022-03-09T11:57:42.612651Z",
     "iopub.status.idle": "2022-03-09T11:58:02.167371Z",
     "shell.execute_reply": "2022-03-09T11:58:02.167872Z",
     "shell.execute_reply.started": "2022-03-08T12:07:08.382453Z"
    },
    "id": "sIEblvdAPyP6",
    "outputId": "dd1af7d2-69b7-4bc0-e815-79677b33b701",
    "papermill": {
     "duration": 19.584624,
     "end_time": "2022-03-09T11:58:02.168066",
     "exception": false,
     "start_time": "2022-03-09T11:57:42.583442",
     "status": "completed"
    },
    "tags": []
   },
   "outputs": [
    {
     "name": "stderr",
     "output_type": "stream",
     "text": [
      "2022-03-09 11:57:42.613711: I tensorflow/core/profiler/lib/profiler_session.cc:131] Profiler session initializing.\n",
      "2022-03-09 11:57:42.613885: I tensorflow/core/profiler/lib/profiler_session.cc:146] Profiler session started.\n",
      "2022-03-09 11:57:42.615170: I tensorflow/core/profiler/lib/profiler_session.cc:164] Profiler session tear down.\n",
      "2022-03-09 11:57:42.712428: I tensorflow/compiler/mlir/mlir_graph_optimization_pass.cc:185] None of the MLIR Optimization Passes are enabled (registered 2)\n"
     ]
    },
    {
     "name": "stdout",
     "output_type": "stream",
     "text": [
      "Epoch 1/100\n",
      "3/4 [=====================>........] - ETA: 0s - loss: 0.7565 - binary_accuracy: 0.5622"
     ]
    },
    {
     "name": "stderr",
     "output_type": "stream",
     "text": [
      "2022-03-09 11:57:43.469496: I tensorflow/core/profiler/lib/profiler_session.cc:131] Profiler session initializing.\n",
      "2022-03-09 11:57:43.469665: I tensorflow/core/profiler/lib/profiler_session.cc:146] Profiler session started.\n",
      "2022-03-09 11:57:43.510354: I tensorflow/core/profiler/lib/profiler_session.cc:66] Profiler session collecting data.\n",
      "2022-03-09 11:57:43.515857: I tensorflow/core/profiler/lib/profiler_session.cc:164] Profiler session tear down.\n",
      "2022-03-09 11:57:43.523023: I tensorflow/core/profiler/rpc/client/save_profile.cc:136] Creating directory: logs/train/plugins/profile/2022_03_09_11_57_43\n",
      "\n",
      "2022-03-09 11:57:43.524104: I tensorflow/core/profiler/rpc/client/save_profile.cc:142] Dumped gzipped tool data for trace.json.gz to logs/train/plugins/profile/2022_03_09_11_57_43/d02916a8d1e4.trace.json.gz\n",
      "2022-03-09 11:57:43.537026: I tensorflow/core/profiler/rpc/client/save_profile.cc:136] Creating directory: logs/train/plugins/profile/2022_03_09_11_57_43\n",
      "\n",
      "2022-03-09 11:57:43.537784: I tensorflow/core/profiler/rpc/client/save_profile.cc:142] Dumped gzipped tool data for memory_profile.json.gz to logs/train/plugins/profile/2022_03_09_11_57_43/d02916a8d1e4.memory_profile.json.gz\n",
      "2022-03-09 11:57:43.538319: I tensorflow/core/profiler/rpc/client/capture_profile.cc:251] Creating directory: logs/train/plugins/profile/2022_03_09_11_57_43\n",
      "Dumped tool data for xplane.pb to logs/train/plugins/profile/2022_03_09_11_57_43/d02916a8d1e4.xplane.pb\n",
      "Dumped tool data for overview_page.pb to logs/train/plugins/profile/2022_03_09_11_57_43/d02916a8d1e4.overview_page.pb\n",
      "Dumped tool data for input_pipeline.pb to logs/train/plugins/profile/2022_03_09_11_57_43/d02916a8d1e4.input_pipeline.pb\n",
      "Dumped tool data for tensorflow_stats.pb to logs/train/plugins/profile/2022_03_09_11_57_43/d02916a8d1e4.tensorflow_stats.pb\n",
      "Dumped tool data for kernel_stats.pb to logs/train/plugins/profile/2022_03_09_11_57_43/d02916a8d1e4.kernel_stats.pb\n",
      "\n"
     ]
    },
    {
     "name": "stdout",
     "output_type": "stream",
     "text": [
      "4/4 [==============================] - 1s 125ms/step - loss: 0.7299 - binary_accuracy: 0.5891 - val_loss: 0.6312 - val_binary_accuracy: 0.7078\n",
      "Epoch 2/100\n",
      "4/4 [==============================] - 0s 45ms/step - loss: 0.5798 - binary_accuracy: 0.7286 - val_loss: 0.5731 - val_binary_accuracy: 0.7239\n",
      "Epoch 3/100\n",
      "4/4 [==============================] - 0s 45ms/step - loss: 0.5298 - binary_accuracy: 0.7470 - val_loss: 0.5359 - val_binary_accuracy: 0.7373\n",
      "Epoch 4/100\n",
      "4/4 [==============================] - 0s 45ms/step - loss: 0.4935 - binary_accuracy: 0.7629 - val_loss: 0.5079 - val_binary_accuracy: 0.7587\n",
      "Epoch 5/100\n",
      "4/4 [==============================] - 0s 44ms/step - loss: 0.4672 - binary_accuracy: 0.7725 - val_loss: 0.4872 - val_binary_accuracy: 0.7587\n",
      "Epoch 6/100\n",
      "4/4 [==============================] - 0s 44ms/step - loss: 0.4459 - binary_accuracy: 0.7865 - val_loss: 0.4694 - val_binary_accuracy: 0.7775\n",
      "Epoch 7/100\n",
      "4/4 [==============================] - 0s 45ms/step - loss: 0.4284 - binary_accuracy: 0.7916 - val_loss: 0.4545 - val_binary_accuracy: 0.7775\n",
      "Epoch 8/100\n",
      "4/4 [==============================] - 0s 45ms/step - loss: 0.4126 - binary_accuracy: 0.8028 - val_loss: 0.4413 - val_binary_accuracy: 0.7775\n",
      "Epoch 9/100\n",
      "4/4 [==============================] - 0s 44ms/step - loss: 0.3990 - binary_accuracy: 0.8075 - val_loss: 0.4297 - val_binary_accuracy: 0.7855\n",
      "Epoch 10/100\n",
      "4/4 [==============================] - 0s 44ms/step - loss: 0.3867 - binary_accuracy: 0.8134 - val_loss: 0.4196 - val_binary_accuracy: 0.8016\n",
      "Epoch 11/100\n",
      "4/4 [==============================] - 0s 45ms/step - loss: 0.3756 - binary_accuracy: 0.8215 - val_loss: 0.4091 - val_binary_accuracy: 0.8070\n",
      "Epoch 12/100\n",
      "4/4 [==============================] - 0s 62ms/step - loss: 0.3647 - binary_accuracy: 0.8313 - val_loss: 0.3996 - val_binary_accuracy: 0.8070\n",
      "Epoch 13/100\n",
      "4/4 [==============================] - 0s 45ms/step - loss: 0.3552 - binary_accuracy: 0.8351 - val_loss: 0.3910 - val_binary_accuracy: 0.8150\n",
      "Epoch 14/100\n",
      "4/4 [==============================] - 0s 44ms/step - loss: 0.3460 - binary_accuracy: 0.8430 - val_loss: 0.3831 - val_binary_accuracy: 0.8231\n",
      "Epoch 15/100\n",
      "4/4 [==============================] - 0s 44ms/step - loss: 0.3375 - binary_accuracy: 0.8475 - val_loss: 0.3757 - val_binary_accuracy: 0.8338\n",
      "Epoch 16/100\n",
      "4/4 [==============================] - 0s 44ms/step - loss: 0.3295 - binary_accuracy: 0.8542 - val_loss: 0.3686 - val_binary_accuracy: 0.8365\n",
      "Epoch 17/100\n",
      "4/4 [==============================] - 0s 44ms/step - loss: 0.3219 - binary_accuracy: 0.8580 - val_loss: 0.3621 - val_binary_accuracy: 0.8472\n",
      "Epoch 18/100\n",
      "4/4 [==============================] - 0s 46ms/step - loss: 0.3148 - binary_accuracy: 0.8643 - val_loss: 0.3558 - val_binary_accuracy: 0.8606\n",
      "Epoch 19/100\n",
      "4/4 [==============================] - 0s 44ms/step - loss: 0.3079 - binary_accuracy: 0.8687 - val_loss: 0.3497 - val_binary_accuracy: 0.8713\n",
      "Epoch 20/100\n",
      "4/4 [==============================] - 0s 44ms/step - loss: 0.3014 - binary_accuracy: 0.8750 - val_loss: 0.3438 - val_binary_accuracy: 0.8740\n",
      "Epoch 21/100\n",
      "4/4 [==============================] - 0s 44ms/step - loss: 0.2952 - binary_accuracy: 0.8790 - val_loss: 0.3382 - val_binary_accuracy: 0.8713\n",
      "Epoch 22/100\n",
      "4/4 [==============================] - 0s 45ms/step - loss: 0.2893 - binary_accuracy: 0.8809 - val_loss: 0.3331 - val_binary_accuracy: 0.8713\n",
      "Epoch 23/100\n",
      "4/4 [==============================] - 0s 45ms/step - loss: 0.2836 - binary_accuracy: 0.8834 - val_loss: 0.3279 - val_binary_accuracy: 0.8740\n",
      "Epoch 24/100\n",
      "4/4 [==============================] - 0s 45ms/step - loss: 0.2781 - binary_accuracy: 0.8869 - val_loss: 0.3228 - val_binary_accuracy: 0.8794\n",
      "Epoch 25/100\n",
      "4/4 [==============================] - 0s 45ms/step - loss: 0.2729 - binary_accuracy: 0.8907 - val_loss: 0.3180 - val_binary_accuracy: 0.8820\n",
      "Epoch 26/100\n",
      "4/4 [==============================] - 0s 45ms/step - loss: 0.2679 - binary_accuracy: 0.8916 - val_loss: 0.3136 - val_binary_accuracy: 0.8820\n",
      "Epoch 27/100\n",
      "4/4 [==============================] - 0s 44ms/step - loss: 0.2630 - binary_accuracy: 0.8937 - val_loss: 0.3091 - val_binary_accuracy: 0.8874\n",
      "Epoch 28/100\n",
      "4/4 [==============================] - 0s 44ms/step - loss: 0.2581 - binary_accuracy: 0.8993 - val_loss: 0.3046 - val_binary_accuracy: 0.8901\n",
      "Epoch 29/100\n",
      "4/4 [==============================] - 0s 44ms/step - loss: 0.2536 - binary_accuracy: 0.9047 - val_loss: 0.3006 - val_binary_accuracy: 0.8954\n",
      "Epoch 30/100\n",
      "4/4 [==============================] - 0s 45ms/step - loss: 0.2491 - binary_accuracy: 0.9080 - val_loss: 0.2966 - val_binary_accuracy: 0.8954\n",
      "Epoch 31/100\n",
      "4/4 [==============================] - 0s 46ms/step - loss: 0.2449 - binary_accuracy: 0.9096 - val_loss: 0.2927 - val_binary_accuracy: 0.8981\n",
      "Epoch 32/100\n",
      "4/4 [==============================] - 0s 44ms/step - loss: 0.2407 - binary_accuracy: 0.9115 - val_loss: 0.2887 - val_binary_accuracy: 0.9035\n",
      "Epoch 33/100\n",
      "4/4 [==============================] - 0s 44ms/step - loss: 0.2367 - binary_accuracy: 0.9143 - val_loss: 0.2850 - val_binary_accuracy: 0.9035\n",
      "Epoch 34/100\n",
      "4/4 [==============================] - 0s 45ms/step - loss: 0.2329 - binary_accuracy: 0.9157 - val_loss: 0.2814 - val_binary_accuracy: 0.9088\n",
      "Epoch 35/100\n",
      "4/4 [==============================] - 0s 44ms/step - loss: 0.2290 - binary_accuracy: 0.9187 - val_loss: 0.2777 - val_binary_accuracy: 0.9088\n",
      "Epoch 36/100\n",
      "4/4 [==============================] - 0s 45ms/step - loss: 0.2254 - binary_accuracy: 0.9206 - val_loss: 0.2744 - val_binary_accuracy: 0.9088\n",
      "Epoch 37/100\n",
      "4/4 [==============================] - 0s 59ms/step - loss: 0.2218 - binary_accuracy: 0.9241 - val_loss: 0.2711 - val_binary_accuracy: 0.9088\n",
      "Epoch 38/100\n",
      "4/4 [==============================] - 0s 45ms/step - loss: 0.2183 - binary_accuracy: 0.9271 - val_loss: 0.2680 - val_binary_accuracy: 0.9115\n",
      "Epoch 39/100\n",
      "4/4 [==============================] - 0s 46ms/step - loss: 0.2150 - binary_accuracy: 0.9292 - val_loss: 0.2649 - val_binary_accuracy: 0.9196\n",
      "Epoch 40/100\n",
      "4/4 [==============================] - 0s 45ms/step - loss: 0.2117 - binary_accuracy: 0.9320 - val_loss: 0.2618 - val_binary_accuracy: 0.9196\n",
      "Epoch 41/100\n",
      "4/4 [==============================] - 0s 46ms/step - loss: 0.2085 - binary_accuracy: 0.9337 - val_loss: 0.2587 - val_binary_accuracy: 0.9223\n",
      "Epoch 42/100\n",
      "4/4 [==============================] - 0s 45ms/step - loss: 0.2054 - binary_accuracy: 0.9372 - val_loss: 0.2559 - val_binary_accuracy: 0.9223\n",
      "Epoch 43/100\n",
      "4/4 [==============================] - 0s 45ms/step - loss: 0.2024 - binary_accuracy: 0.9383 - val_loss: 0.2531 - val_binary_accuracy: 0.9249\n",
      "Epoch 44/100\n",
      "4/4 [==============================] - 0s 44ms/step - loss: 0.1995 - binary_accuracy: 0.9397 - val_loss: 0.2504 - val_binary_accuracy: 0.9249\n",
      "Epoch 45/100\n",
      "4/4 [==============================] - 0s 45ms/step - loss: 0.1967 - binary_accuracy: 0.9400 - val_loss: 0.2477 - val_binary_accuracy: 0.9249\n",
      "Epoch 46/100\n",
      "4/4 [==============================] - 0s 44ms/step - loss: 0.1939 - binary_accuracy: 0.9428 - val_loss: 0.2449 - val_binary_accuracy: 0.9249\n",
      "Epoch 47/100\n",
      "4/4 [==============================] - 0s 45ms/step - loss: 0.1912 - binary_accuracy: 0.9453 - val_loss: 0.2425 - val_binary_accuracy: 0.9249\n",
      "Epoch 48/100\n",
      "4/4 [==============================] - 0s 50ms/step - loss: 0.1886 - binary_accuracy: 0.9453 - val_loss: 0.2400 - val_binary_accuracy: 0.9276\n",
      "Epoch 49/100\n",
      "4/4 [==============================] - 0s 45ms/step - loss: 0.1860 - binary_accuracy: 0.9477 - val_loss: 0.2375 - val_binary_accuracy: 0.9276\n",
      "Epoch 50/100\n",
      "4/4 [==============================] - 0s 45ms/step - loss: 0.1835 - binary_accuracy: 0.9484 - val_loss: 0.2351 - val_binary_accuracy: 0.9303\n",
      "Epoch 51/100\n",
      "4/4 [==============================] - 0s 45ms/step - loss: 0.1811 - binary_accuracy: 0.9484 - val_loss: 0.2326 - val_binary_accuracy: 0.9330\n",
      "Epoch 52/100\n",
      "4/4 [==============================] - 0s 45ms/step - loss: 0.1787 - binary_accuracy: 0.9484 - val_loss: 0.2304 - val_binary_accuracy: 0.9330\n",
      "Epoch 53/100\n",
      "4/4 [==============================] - 0s 44ms/step - loss: 0.1764 - binary_accuracy: 0.9495 - val_loss: 0.2282 - val_binary_accuracy: 0.9357\n",
      "Epoch 54/100\n",
      "4/4 [==============================] - 0s 44ms/step - loss: 0.1741 - binary_accuracy: 0.9514 - val_loss: 0.2261 - val_binary_accuracy: 0.9357\n",
      "Epoch 55/100\n",
      "4/4 [==============================] - 0s 45ms/step - loss: 0.1719 - binary_accuracy: 0.9514 - val_loss: 0.2238 - val_binary_accuracy: 0.9357\n",
      "Epoch 56/100\n",
      "4/4 [==============================] - 0s 45ms/step - loss: 0.1698 - binary_accuracy: 0.9533 - val_loss: 0.2219 - val_binary_accuracy: 0.9357\n",
      "Epoch 57/100\n",
      "4/4 [==============================] - 0s 45ms/step - loss: 0.1676 - binary_accuracy: 0.9537 - val_loss: 0.2199 - val_binary_accuracy: 0.9383\n",
      "Epoch 58/100\n",
      "4/4 [==============================] - 0s 44ms/step - loss: 0.1656 - binary_accuracy: 0.9554 - val_loss: 0.2180 - val_binary_accuracy: 0.9357\n",
      "Epoch 59/100\n",
      "4/4 [==============================] - 0s 45ms/step - loss: 0.1636 - binary_accuracy: 0.9559 - val_loss: 0.2157 - val_binary_accuracy: 0.9383\n",
      "Epoch 60/100\n",
      "4/4 [==============================] - 0s 45ms/step - loss: 0.1616 - binary_accuracy: 0.9566 - val_loss: 0.2138 - val_binary_accuracy: 0.9410\n",
      "Epoch 61/100\n",
      "4/4 [==============================] - 0s 45ms/step - loss: 0.1597 - binary_accuracy: 0.9584 - val_loss: 0.2120 - val_binary_accuracy: 0.9410\n",
      "Epoch 62/100\n",
      "4/4 [==============================] - 0s 45ms/step - loss: 0.1579 - binary_accuracy: 0.9587 - val_loss: 0.2098 - val_binary_accuracy: 0.9410\n",
      "Epoch 63/100\n",
      "4/4 [==============================] - 0s 45ms/step - loss: 0.1560 - binary_accuracy: 0.9605 - val_loss: 0.2081 - val_binary_accuracy: 0.9410\n",
      "Epoch 64/100\n",
      "4/4 [==============================] - 0s 45ms/step - loss: 0.1542 - binary_accuracy: 0.9617 - val_loss: 0.2064 - val_binary_accuracy: 0.9410\n",
      "Epoch 65/100\n",
      "4/4 [==============================] - 0s 45ms/step - loss: 0.1525 - binary_accuracy: 0.9615 - val_loss: 0.2047 - val_binary_accuracy: 0.9410\n",
      "Epoch 66/100\n",
      "4/4 [==============================] - 0s 45ms/step - loss: 0.1508 - binary_accuracy: 0.9629 - val_loss: 0.2030 - val_binary_accuracy: 0.9410\n",
      "Epoch 67/100\n",
      "4/4 [==============================] - 0s 46ms/step - loss: 0.1491 - binary_accuracy: 0.9652 - val_loss: 0.2014 - val_binary_accuracy: 0.9437\n",
      "Epoch 68/100\n",
      "4/4 [==============================] - 0s 45ms/step - loss: 0.1476 - binary_accuracy: 0.9652 - val_loss: 0.1998 - val_binary_accuracy: 0.9437\n",
      "Epoch 69/100\n",
      "4/4 [==============================] - 0s 44ms/step - loss: 0.1459 - binary_accuracy: 0.9650 - val_loss: 0.1981 - val_binary_accuracy: 0.9464\n",
      "Epoch 70/100\n",
      "4/4 [==============================] - 0s 44ms/step - loss: 0.1444 - binary_accuracy: 0.9657 - val_loss: 0.1965 - val_binary_accuracy: 0.9464\n",
      "Epoch 71/100\n",
      "4/4 [==============================] - 0s 44ms/step - loss: 0.1428 - binary_accuracy: 0.9664 - val_loss: 0.1950 - val_binary_accuracy: 0.9464\n",
      "Epoch 72/100\n",
      "4/4 [==============================] - 0s 44ms/step - loss: 0.1413 - binary_accuracy: 0.9666 - val_loss: 0.1935 - val_binary_accuracy: 0.9464\n",
      "Epoch 73/100\n",
      "4/4 [==============================] - 0s 44ms/step - loss: 0.1399 - binary_accuracy: 0.9678 - val_loss: 0.1920 - val_binary_accuracy: 0.9464\n",
      "Epoch 74/100\n",
      "4/4 [==============================] - 0s 44ms/step - loss: 0.1384 - binary_accuracy: 0.9685 - val_loss: 0.1904 - val_binary_accuracy: 0.9464\n",
      "Epoch 75/100\n",
      "4/4 [==============================] - 0s 45ms/step - loss: 0.1371 - binary_accuracy: 0.9685 - val_loss: 0.1891 - val_binary_accuracy: 0.9464\n",
      "Epoch 76/100\n",
      "4/4 [==============================] - 0s 94ms/step - loss: 0.1357 - binary_accuracy: 0.9689 - val_loss: 0.1878 - val_binary_accuracy: 0.9464\n",
      "Epoch 77/100\n",
      "4/4 [==============================] - 0s 104ms/step - loss: 0.1343 - binary_accuracy: 0.9694 - val_loss: 0.1864 - val_binary_accuracy: 0.9464\n",
      "Epoch 78/100\n",
      "4/4 [==============================] - 0s 84ms/step - loss: 0.1330 - binary_accuracy: 0.9710 - val_loss: 0.1849 - val_binary_accuracy: 0.9464\n",
      "Epoch 79/100\n",
      "4/4 [==============================] - 0s 44ms/step - loss: 0.1317 - binary_accuracy: 0.9708 - val_loss: 0.1836 - val_binary_accuracy: 0.9464\n",
      "Epoch 80/100\n",
      "4/4 [==============================] - 0s 44ms/step - loss: 0.1305 - binary_accuracy: 0.9715 - val_loss: 0.1824 - val_binary_accuracy: 0.9464\n",
      "Epoch 81/100\n",
      "4/4 [==============================] - 0s 45ms/step - loss: 0.1293 - binary_accuracy: 0.9717 - val_loss: 0.1813 - val_binary_accuracy: 0.9464\n",
      "Epoch 82/100\n",
      "4/4 [==============================] - 0s 45ms/step - loss: 0.1280 - binary_accuracy: 0.9722 - val_loss: 0.1801 - val_binary_accuracy: 0.9491\n",
      "Epoch 83/100\n",
      "4/4 [==============================] - 0s 45ms/step - loss: 0.1268 - binary_accuracy: 0.9731 - val_loss: 0.1788 - val_binary_accuracy: 0.9464\n",
      "Epoch 84/100\n",
      "4/4 [==============================] - 0s 45ms/step - loss: 0.1257 - binary_accuracy: 0.9727 - val_loss: 0.1776 - val_binary_accuracy: 0.9491\n",
      "Epoch 85/100\n",
      "4/4 [==============================] - 0s 45ms/step - loss: 0.1245 - binary_accuracy: 0.9727 - val_loss: 0.1763 - val_binary_accuracy: 0.9464\n",
      "Epoch 86/100\n",
      "4/4 [==============================] - 0s 44ms/step - loss: 0.1234 - binary_accuracy: 0.9738 - val_loss: 0.1752 - val_binary_accuracy: 0.9464\n",
      "Epoch 87/100\n",
      "4/4 [==============================] - 0s 45ms/step - loss: 0.1224 - binary_accuracy: 0.9736 - val_loss: 0.1741 - val_binary_accuracy: 0.9491\n",
      "Epoch 88/100\n",
      "4/4 [==============================] - 0s 45ms/step - loss: 0.1212 - binary_accuracy: 0.9738 - val_loss: 0.1728 - val_binary_accuracy: 0.9464\n",
      "Epoch 89/100\n",
      "4/4 [==============================] - 0s 45ms/step - loss: 0.1202 - binary_accuracy: 0.9734 - val_loss: 0.1717 - val_binary_accuracy: 0.9491\n",
      "Epoch 90/100\n",
      "4/4 [==============================] - 0s 46ms/step - loss: 0.1191 - binary_accuracy: 0.9736 - val_loss: 0.1707 - val_binary_accuracy: 0.9517\n",
      "Epoch 91/100\n",
      "4/4 [==============================] - 0s 46ms/step - loss: 0.1181 - binary_accuracy: 0.9764 - val_loss: 0.1696 - val_binary_accuracy: 0.9544\n",
      "Epoch 92/100\n",
      "4/4 [==============================] - 0s 45ms/step - loss: 0.1171 - binary_accuracy: 0.9759 - val_loss: 0.1686 - val_binary_accuracy: 0.9571\n",
      "Epoch 93/100\n",
      "4/4 [==============================] - 0s 46ms/step - loss: 0.1162 - binary_accuracy: 0.9785 - val_loss: 0.1675 - val_binary_accuracy: 0.9544\n",
      "Epoch 94/100\n",
      "4/4 [==============================] - 0s 45ms/step - loss: 0.1152 - binary_accuracy: 0.9787 - val_loss: 0.1665 - val_binary_accuracy: 0.9544\n",
      "Epoch 95/100\n",
      "4/4 [==============================] - 0s 46ms/step - loss: 0.1142 - binary_accuracy: 0.9790 - val_loss: 0.1655 - val_binary_accuracy: 0.9544\n",
      "Epoch 96/100\n",
      "4/4 [==============================] - 0s 59ms/step - loss: 0.1133 - binary_accuracy: 0.9783 - val_loss: 0.1645 - val_binary_accuracy: 0.9544\n",
      "Epoch 97/100\n",
      "4/4 [==============================] - 0s 46ms/step - loss: 0.1124 - binary_accuracy: 0.9787 - val_loss: 0.1635 - val_binary_accuracy: 0.9571\n",
      "Epoch 98/100\n",
      "4/4 [==============================] - 0s 45ms/step - loss: 0.1115 - binary_accuracy: 0.9787 - val_loss: 0.1627 - val_binary_accuracy: 0.9544\n",
      "Epoch 99/100\n",
      "4/4 [==============================] - 0s 46ms/step - loss: 0.1106 - binary_accuracy: 0.9787 - val_loss: 0.1617 - val_binary_accuracy: 0.9571\n",
      "Epoch 100/100\n",
      "4/4 [==============================] - 0s 44ms/step - loss: 0.1097 - binary_accuracy: 0.9787 - val_loss: 0.1607 - val_binary_accuracy: 0.9571\n"
     ]
    },
    {
     "data": {
      "text/plain": [
       "<keras.callbacks.History at 0x7f4a7500d190>"
      ]
     },
     "execution_count": 10,
     "metadata": {},
     "output_type": "execute_result"
    }
   ],
   "source": [
    "tensorboard_callback= TensorBoard(log_dir=\"logs\")\n",
    "\n",
    "model.fit(\n",
    "    X_train,\n",
    "    y_train,\n",
    "    epochs=100, \n",
    "    batch_size=1200, \n",
    "    validation_split=0.08, \n",
    "    callbacks=[tensorboard_callback])"
   ]
  },
  {
   "cell_type": "markdown",
   "id": "c6112405",
   "metadata": {
    "id": "DdPHxN9CRYQb",
    "papermill": {
     "duration": 0.171008,
     "end_time": "2022-03-09T11:58:02.513243",
     "exception": false,
     "start_time": "2022-03-09T11:58:02.342235",
     "status": "completed"
    },
    "tags": []
   },
   "source": [
    "## Evaluación y comprobación de resultados"
   ]
  },
  {
   "cell_type": "code",
   "execution_count": 11,
   "id": "892aa8af",
   "metadata": {
    "execution": {
     "iopub.execute_input": "2022-03-09T11:58:02.862112Z",
     "iopub.status.busy": "2022-03-09T11:58:02.859042Z",
     "iopub.status.idle": "2022-03-09T11:58:02.958672Z",
     "shell.execute_reply": "2022-03-09T11:58:02.959313Z",
     "shell.execute_reply.started": "2022-03-08T12:07:32.514974Z"
    },
    "id": "m8oksa7FOuwF",
    "outputId": "fd04b2f9-8c87-4777-fae1-25472122f153",
    "papermill": {
     "duration": 0.275068,
     "end_time": "2022-03-09T11:58:02.959490",
     "exception": false,
     "start_time": "2022-03-09T11:58:02.684422",
     "status": "completed"
    },
    "tags": []
   },
   "outputs": [
    {
     "name": "stdout",
     "output_type": "stream",
     "text": [
      "17/17 [==============================] - 0s 2ms/step - loss: 0.1714 - binary_accuracy: 0.9556\n",
      "0.1714000254869461\n",
      "0.9555984735488892\n"
     ]
    }
   ],
   "source": [
    "#Hará la evaluación según la métrica y función de loss entrenada\n",
    "test_loss,test_acc= model.evaluate(X_test,y_test)\n",
    "print(test_loss)\n",
    "print(test_acc)"
   ]
  },
  {
   "cell_type": "code",
   "execution_count": 12,
   "id": "90865d8e",
   "metadata": {
    "execution": {
     "iopub.execute_input": "2022-03-09T11:58:03.304543Z",
     "iopub.status.busy": "2022-03-09T11:58:03.303540Z",
     "iopub.status.idle": "2022-03-09T11:58:08.343758Z",
     "shell.execute_reply": "2022-03-09T11:58:08.344683Z",
     "shell.execute_reply.started": "2022-03-08T12:08:17.107138Z"
    },
    "id": "7_puBF5nQWE0",
    "outputId": "8b5150ca-be3c-4fdb-e9ea-c005538e3b52",
    "papermill": {
     "duration": 5.215184,
     "end_time": "2022-03-09T11:58:08.344876",
     "exception": false,
     "start_time": "2022-03-09T11:58:03.129692",
     "status": "completed"
    },
    "tags": []
   },
   "outputs": [
    {
     "data": {
      "text/html": [
       "\n",
       "      <iframe id=\"tensorboard-frame-4a20de45dd1d336e\" width=\"100%\" height=\"800\" frameborder=\"0\">\n",
       "      </iframe>\n",
       "      <script>\n",
       "        (function() {\n",
       "          const frame = document.getElementById(\"tensorboard-frame-4a20de45dd1d336e\");\n",
       "          const url = new URL(\"/\", window.location);\n",
       "          const port = 6006;\n",
       "          if (port) {\n",
       "            url.port = port;\n",
       "          }\n",
       "          frame.src = url;\n",
       "        })();\n",
       "      </script>\n",
       "    "
      ],
      "text/plain": [
       "<IPython.core.display.HTML object>"
      ]
     },
     "metadata": {},
     "output_type": "display_data"
    }
   ],
   "source": [
    "%tensorboard --logdir logs"
   ]
  },
  {
   "cell_type": "code",
   "execution_count": 13,
   "id": "5da39107",
   "metadata": {
    "execution": {
     "iopub.execute_input": "2022-03-09T11:58:08.699879Z",
     "iopub.status.busy": "2022-03-09T11:58:08.699212Z",
     "iopub.status.idle": "2022-03-09T11:58:09.146062Z",
     "shell.execute_reply": "2022-03-09T11:58:09.145363Z"
    },
    "papermill": {
     "duration": 0.627708,
     "end_time": "2022-03-09T11:58:09.146226",
     "exception": false,
     "start_time": "2022-03-09T11:58:08.518518",
     "status": "completed"
    },
    "tags": []
   },
   "outputs": [
    {
     "data": {
      "image/png": "[encoded data removed]",
      "text/plain": [
       "<Figure size 432x288 with 2 Axes>"
      ]
     },
     "metadata": {
      "needs_background": "light"
     },
     "output_type": "display_data"
    }
   ],
   "source": [
    "confusion_mtx=tf.math.confusion_matrix(\n",
    "    y_test, tf.math.round(model.predict(X_test)) )\n",
    "\n",
    "sns.heatmap(confusion_mtx,\n",
    "            annot=True, fmt='g')\n",
    "plt.xlabel('Prediction')\n",
    "plt.ylabel('Label')\n",
    "plt.show()"
   ]
  },
  {
   "cell_type": "code",
   "execution_count": 14,
   "id": "12724e3e",
   "metadata": {
    "execution": {
     "iopub.execute_input": "2022-03-09T11:58:09.494270Z",
     "iopub.status.busy": "2022-03-09T11:58:09.493603Z",
     "iopub.status.idle": "2022-03-09T11:58:09.595737Z",
     "shell.execute_reply": "2022-03-09T11:58:09.596323Z"
    },
    "papermill": {
     "duration": 0.278494,
     "end_time": "2022-03-09T11:58:09.596502",
     "exception": false,
     "start_time": "2022-03-09T11:58:09.318008",
     "status": "completed"
    },
    "tags": []
   },
   "outputs": [
    {
     "name": "stdout",
     "output_type": "stream",
     "text": [
      "\n",
      "Exactitud: tf.Tensor(0.9555985, shape=(), dtype=float32)\n",
      "\n",
      "Ratio de Error: tf.Tensor(0.044401545, shape=(), dtype=float32)\n",
      "\n",
      "Precisión tf.Tensor(0.9366197, shape=(), dtype=float32)\n",
      "\n",
      "Recall tf.Tensor(0.9047619, shape=(), dtype=float32)\n",
      "\n",
      "Especifidad tf.Tensor(0.97574127, shape=(), dtype=float32)\n",
      "\n",
      "f1-score tf.Tensor(0.9204152, shape=(), dtype=float32)\n",
      "\n",
      "fb_Score tf.Tensor(0.8091875, shape=(), dtype=float32)\n"
     ]
    }
   ],
   "source": [
    "#Ponemos el valor real y el valor predicho en la misma dimensión \n",
    "actual = y_test\n",
    "predicted = tf.math.round(model.predict(X_test))\n",
    "predicted=tf.cast(predicted,tf.int64)\n",
    "predicted=predicted.numpy().reshape(518)\n",
    "\n",
    "VP = tf.math.count_nonzero(predicted * actual,dtype=tf.float32)\n",
    "VN = tf.math.count_nonzero((predicted - 1) * (actual - 1),dtype=tf.float32)\n",
    "FP = tf.math.count_nonzero(predicted * (actual - 1),dtype=tf.float32)\n",
    "FN = tf.math.count_nonzero((predicted - 1) * actual,dtype=tf.float32)\n",
    "\n",
    "#Exactitud\n",
    "print('\\nExactitud:',(VN+VP)/(VP+VN+FP+FN))\n",
    "\n",
    "#Ratio de error\n",
    "print('\\nRatio de Error:',(FN+FP)/(VP+VN+FP+FN))\n",
    "\n",
    "#Precisión\n",
    "print('\\nPrecisión', VP/(VP+FP))\n",
    "P=VP/(VP+FP)\n",
    "#Recall\n",
    "print('\\nRecall',VP/(VP+FN))\n",
    "R=VP/(VP+FN)\n",
    "#Especificidad\n",
    "print(\"\\nEspecifidad\", VN/(VN+FP))\n",
    "\n",
    "#F1-Score\n",
    "print(\"\\nf1-score\",2*(P*R)/(P+R))\n",
    "\n",
    "#FB-Score\n",
    "print('\\nfb_Score',(1+0.7*0.7)*(P*R)/((0.7*P)+R))"
   ]
  },
  {
   "cell_type": "markdown",
   "id": "134c7cf3",
   "metadata": {
    "id": "blP7RbV1TtNP",
    "papermill": {
     "duration": 0.172705,
     "end_time": "2022-03-09T11:58:09.941774",
     "exception": false,
     "start_time": "2022-03-09T11:58:09.769069",
     "status": "completed"
    },
    "tags": []
   },
   "source": [
    "Hemos reducido significativamente la dimensión del problema y hemos obtenido a pesar de usar solo un 70% de la varianza una accuracy del 0.97 y un valor de función de loss pequeño. Por lo que hemos resuelto bien el problema del spam."
   ]
  },
  {
   "cell_type": "code",
   "execution_count": null,
   "id": "925ac15f",
   "metadata": {
    "id": "akMm-8ZcX42I",
    "papermill": {
     "duration": 0.173292,
     "end_time": "2022-03-09T11:58:10.288996",
     "exception": false,
     "start_time": "2022-03-09T11:58:10.115704",
     "status": "completed"
    },
    "tags": []
   },
   "outputs": [],
   "source": []
  }
 ],
 "metadata": {
  "kernelspec": {
   "display_name": "Python 3",
   "language": "python",
   "name": "python3"
  },
  "language_info": {
   "codemirror_mode": {
    "name": "ipython",
    "version": 3
   },
   "file_extension": ".py",
   "mimetype": "text/x-python",
   "name": "python",
   "nbconvert_exporter": "python",
   "pygments_lexer": "ipython3",
   "version": "3.7.12"
  },
  "papermill": {
   "default_parameters": {},
   "duration": 98.667814,
   "end_time": "2022-03-09T11:58:13.429169",
   "environment_variables": {},
   "exception": null,
   "input_path": "__notebook__.ipynb",
   "output_path": "__notebook__.ipynb",
   "parameters": {},
   "start_time": "2022-03-09T11:56:34.761355",
   "version": "2.3.3"
  }
 },
 "nbformat": 4,
 "nbformat_minor": 5
}
