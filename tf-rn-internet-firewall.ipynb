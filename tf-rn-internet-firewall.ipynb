{
 "cells": [
  {
   "cell_type": "code",
   "execution_count": 1,
   "id": "79416bcf",
   "metadata": {
    "execution": {
     "iopub.execute_input": "2022-03-10T10:47:10.586345Z",
     "iopub.status.busy": "2022-03-10T10:47:10.584583Z",
     "iopub.status.idle": "2022-03-10T10:47:13.196419Z",
     "shell.execute_reply": "2022-03-10T10:47:13.195597Z"
    },
    "id": "B8Q2mrP6g91R",
    "outputId": "69f3960d-25d8-4d15-d96f-802e404b1123",
    "papermill": {
     "duration": 2.656486,
     "end_time": "2022-03-10T10:47:13.196592",
     "exception": false,
     "start_time": "2022-03-10T10:47:10.540106",
     "status": "completed"
    },
    "tags": []
   },
   "outputs": [
    {
     "name": "stdout",
     "output_type": "stream",
     "text": [
      "--2022-03-10 10:47:11--  https://archive.ics.uci.edu/ml/machine-learning-databases/00542/log2.csv\r\n",
      "Resolving archive.ics.uci.edu (archive.ics.uci.edu)... 128.195.10.252\r\n",
      "Connecting to archive.ics.uci.edu (archive.ics.uci.edu)|128.195.10.252|:443... connected.\r\n",
      "HTTP request sent, awaiting response... 200 OK\r\n",
      "Length: 2876998 (2.7M) [application/x-httpd-php]\r\n",
      "Saving to: ‘log2.csv’\r\n",
      "\r\n",
      "log2.csv            100%[===================>]   2.74M  2.65MB/s    in 1.0s    \r\n",
      "\r\n",
      "2022-03-10 10:47:13 (2.65 MB/s) - ‘log2.csv’ saved [2876998/2876998]\r\n",
      "\r\n"
     ]
    }
   ],
   "source": [
    "!wget --no-check-certificate \\\n",
    "    https://archive.ics.uci.edu/ml/machine-learning-databases/00542/log2.csv"
   ]
  },
  {
   "cell_type": "code",
   "execution_count": 2,
   "id": "8edd7aad",
   "metadata": {
    "execution": {
     "iopub.execute_input": "2022-03-10T10:47:13.288966Z",
     "iopub.status.busy": "2022-03-10T10:47:13.288361Z",
     "iopub.status.idle": "2022-03-10T10:47:25.784994Z",
     "shell.execute_reply": "2022-03-10T10:47:25.784379Z"
    },
    "id": "fzD4MKX9WaDw",
    "outputId": "a46f2ec6-603b-4080-fdec-6280e7e5fbcc",
    "papermill": {
     "duration": 12.545075,
     "end_time": "2022-03-10T10:47:25.785187",
     "exception": false,
     "start_time": "2022-03-10T10:47:13.240112",
     "status": "completed"
    },
    "tags": []
   },
   "outputs": [
    {
     "name": "stdout",
     "output_type": "stream",
     "text": [
      "Collecting feature_engine\r\n",
      "  Downloading feature_engine-1.2.0-py2.py3-none-any.whl (205 kB)\r\n",
      "     |████████████████████████████████| 205 kB 243 kB/s            \r\n",
      "\u001b[?25hRequirement already satisfied: statsmodels>=0.11.1 in /opt/conda/lib/python3.7/site-packages (from feature_engine) (0.13.1)\r\n",
      "Requirement already satisfied: numpy>=1.18.2 in /opt/conda/lib/python3.7/site-packages (from feature_engine) (1.20.3)\r\n",
      "Requirement already satisfied: scikit-learn>=0.22.2 in /opt/conda/lib/python3.7/site-packages (from feature_engine) (1.0.1)\r\n",
      "Requirement already satisfied: scipy>=1.4.1 in /opt/conda/lib/python3.7/site-packages (from feature_engine) (1.7.3)\r\n",
      "Requirement already satisfied: pandas>=1.0.3 in /opt/conda/lib/python3.7/site-packages (from feature_engine) (1.3.5)\r\n",
      "Requirement already satisfied: python-dateutil>=2.7.3 in /opt/conda/lib/python3.7/site-packages (from pandas>=1.0.3->feature_engine) (2.8.2)\r\n",
      "Requirement already satisfied: pytz>=2017.3 in /opt/conda/lib/python3.7/site-packages (from pandas>=1.0.3->feature_engine) (2021.3)\r\n",
      "Requirement already satisfied: joblib>=0.11 in /opt/conda/lib/python3.7/site-packages (from scikit-learn>=0.22.2->feature_engine) (1.1.0)\r\n",
      "Requirement already satisfied: threadpoolctl>=2.0.0 in /opt/conda/lib/python3.7/site-packages (from scikit-learn>=0.22.2->feature_engine) (3.0.0)\r\n",
      "Requirement already satisfied: patsy>=0.5.2 in /opt/conda/lib/python3.7/site-packages (from statsmodels>=0.11.1->feature_engine) (0.5.2)\r\n",
      "Requirement already satisfied: six in /opt/conda/lib/python3.7/site-packages (from patsy>=0.5.2->statsmodels>=0.11.1->feature_engine) (1.16.0)\r\n",
      "Installing collected packages: feature-engine\r\n",
      "Successfully installed feature-engine-1.2.0\r\n",
      "\u001b[33mWARNING: Running pip as the 'root' user can result in broken permissions and conflicting behaviour with the system package manager. It is recommended to use a virtual environment instead: https://pip.pypa.io/warnings/venv\u001b[0m\r\n"
     ]
    }
   ],
   "source": [
    "!pip install feature_engine"
   ]
  },
  {
   "cell_type": "markdown",
   "id": "775c0bec",
   "metadata": {
    "id": "XXG76XWNAOdB",
    "papermill": {
     "duration": 0.0531,
     "end_time": "2022-03-10T10:47:25.888758",
     "exception": false,
     "start_time": "2022-03-10T10:47:25.835658",
     "status": "completed"
    },
    "tags": []
   },
   "source": [
    "## Objetivos\n",
    "\n",
    "Vamos a construir un modelo de clasificación multiclase mediante redes neuronales en tensorflow que permita identificar la naturaleza peligrosa o no del firewall."
   ]
  },
  {
   "cell_type": "code",
   "execution_count": 3,
   "id": "314ebfc2",
   "metadata": {
    "execution": {
     "iopub.execute_input": "2022-03-10T10:47:25.996635Z",
     "iopub.status.busy": "2022-03-10T10:47:25.995456Z",
     "iopub.status.idle": "2022-03-10T10:47:32.797274Z",
     "shell.execute_reply": "2022-03-10T10:47:32.796606Z"
    },
    "id": "-SZfuckF_nKA",
    "papermill": {
     "duration": 6.858397,
     "end_time": "2022-03-10T10:47:32.797483",
     "exception": false,
     "start_time": "2022-03-10T10:47:25.939086",
     "status": "completed"
    },
    "tags": []
   },
   "outputs": [],
   "source": [
    "##IMPORTS \n",
    "import pandas as pd\n",
    "import numpy as np\n",
    "import tensorflow as tf\n",
    "import matplotlib.pyplot as plt\n",
    "import seaborn as sns\n",
    "import scipy.stats as stats\n",
    "\n",
    "from sklearn.model_selection import train_test_split\n",
    "from feature_engine.encoding import CountFrequencyEncoder\n",
    "from feature_engine.encoding import OneHotEncoder as Ohe\n",
    "\n",
    "from tensorflow import keras\n",
    "from keras.callbacks import TensorBoard\n",
    "from sklearn.preprocessing import StandardScaler\n",
    "\n",
    "from sklearn.metrics import confusion_matrix, classification_report"
   ]
  },
  {
   "cell_type": "code",
   "execution_count": 4,
   "id": "a8efd3f4",
   "metadata": {
    "execution": {
     "iopub.execute_input": "2022-03-10T10:47:32.902576Z",
     "iopub.status.busy": "2022-03-10T10:47:32.901815Z",
     "iopub.status.idle": "2022-03-10T10:47:32.913964Z",
     "shell.execute_reply": "2022-03-10T10:47:32.914468Z"
    },
    "id": "Qr38d8chWriK",
    "papermill": {
     "duration": 0.06848,
     "end_time": "2022-03-10T10:47:32.914689",
     "exception": false,
     "start_time": "2022-03-10T10:47:32.846209",
     "status": "completed"
    },
    "tags": []
   },
   "outputs": [],
   "source": [
    "%load_ext tensorboard"
   ]
  },
  {
   "cell_type": "markdown",
   "id": "6c2bec64",
   "metadata": {
    "id": "OTZ6o4qLBZ6v",
    "papermill": {
     "duration": 0.050369,
     "end_time": "2022-03-10T10:47:33.015073",
     "exception": false,
     "start_time": "2022-03-10T10:47:32.964704",
     "status": "completed"
    },
    "tags": []
   },
   "source": [
    "## Preparación y visualización de los datos"
   ]
  },
  {
   "cell_type": "code",
   "execution_count": 5,
   "id": "61239c52",
   "metadata": {
    "execution": {
     "iopub.execute_input": "2022-03-10T10:47:33.121921Z",
     "iopub.status.busy": "2022-03-10T10:47:33.120950Z",
     "iopub.status.idle": "2022-03-10T10:47:33.297917Z",
     "shell.execute_reply": "2022-03-10T10:47:33.298497Z"
    },
    "id": "bgG4S71pALtE",
    "outputId": "ac5194b3-4d2e-4174-cc6e-4b667b28476d",
    "papermill": {
     "duration": 0.234698,
     "end_time": "2022-03-10T10:47:33.298697",
     "exception": false,
     "start_time": "2022-03-10T10:47:33.063999",
     "status": "completed"
    },
    "tags": []
   },
   "outputs": [
    {
     "data": {
      "text/html": [
       "<div>\n",
       "<style scoped>\n",
       "    .dataframe tbody tr th:only-of-type {\n",
       "        vertical-align: middle;\n",
       "    }\n",
       "\n",
       "    .dataframe tbody tr th {\n",
       "        vertical-align: top;\n",
       "    }\n",
       "\n",
       "    .dataframe thead th {\n",
       "        text-align: right;\n",
       "    }\n",
       "</style>\n",
       "<table border=\"1\" class=\"dataframe\">\n",
       "  <thead>\n",
       "    <tr style=\"text-align: right;\">\n",
       "      <th></th>\n",
       "      <th>Source Port</th>\n",
       "      <th>Destination Port</th>\n",
       "      <th>NAT Source Port</th>\n",
       "      <th>NAT Destination Port</th>\n",
       "      <th>Action</th>\n",
       "      <th>Bytes</th>\n",
       "      <th>Bytes Sent</th>\n",
       "      <th>Bytes Received</th>\n",
       "      <th>Packets</th>\n",
       "      <th>Elapsed Time (sec)</th>\n",
       "      <th>pkts_sent</th>\n",
       "      <th>pkts_received</th>\n",
       "    </tr>\n",
       "  </thead>\n",
       "  <tbody>\n",
       "    <tr>\n",
       "      <th>0</th>\n",
       "      <td>57222</td>\n",
       "      <td>53</td>\n",
       "      <td>54587</td>\n",
       "      <td>53</td>\n",
       "      <td>allow</td>\n",
       "      <td>177</td>\n",
       "      <td>94</td>\n",
       "      <td>83</td>\n",
       "      <td>2</td>\n",
       "      <td>30</td>\n",
       "      <td>1</td>\n",
       "      <td>1</td>\n",
       "    </tr>\n",
       "    <tr>\n",
       "      <th>1</th>\n",
       "      <td>56258</td>\n",
       "      <td>3389</td>\n",
       "      <td>56258</td>\n",
       "      <td>3389</td>\n",
       "      <td>allow</td>\n",
       "      <td>4768</td>\n",
       "      <td>1600</td>\n",
       "      <td>3168</td>\n",
       "      <td>19</td>\n",
       "      <td>17</td>\n",
       "      <td>10</td>\n",
       "      <td>9</td>\n",
       "    </tr>\n",
       "    <tr>\n",
       "      <th>2</th>\n",
       "      <td>6881</td>\n",
       "      <td>50321</td>\n",
       "      <td>43265</td>\n",
       "      <td>50321</td>\n",
       "      <td>allow</td>\n",
       "      <td>238</td>\n",
       "      <td>118</td>\n",
       "      <td>120</td>\n",
       "      <td>2</td>\n",
       "      <td>1199</td>\n",
       "      <td>1</td>\n",
       "      <td>1</td>\n",
       "    </tr>\n",
       "    <tr>\n",
       "      <th>3</th>\n",
       "      <td>50553</td>\n",
       "      <td>3389</td>\n",
       "      <td>50553</td>\n",
       "      <td>3389</td>\n",
       "      <td>allow</td>\n",
       "      <td>3327</td>\n",
       "      <td>1438</td>\n",
       "      <td>1889</td>\n",
       "      <td>15</td>\n",
       "      <td>17</td>\n",
       "      <td>8</td>\n",
       "      <td>7</td>\n",
       "    </tr>\n",
       "    <tr>\n",
       "      <th>4</th>\n",
       "      <td>50002</td>\n",
       "      <td>443</td>\n",
       "      <td>45848</td>\n",
       "      <td>443</td>\n",
       "      <td>allow</td>\n",
       "      <td>25358</td>\n",
       "      <td>6778</td>\n",
       "      <td>18580</td>\n",
       "      <td>31</td>\n",
       "      <td>16</td>\n",
       "      <td>13</td>\n",
       "      <td>18</td>\n",
       "    </tr>\n",
       "  </tbody>\n",
       "</table>\n",
       "</div>"
      ],
      "text/plain": [
       "   Source Port  Destination Port  NAT Source Port  NAT Destination Port  \\\n",
       "0        57222                53            54587                    53   \n",
       "1        56258              3389            56258                  3389   \n",
       "2         6881             50321            43265                 50321   \n",
       "3        50553              3389            50553                  3389   \n",
       "4        50002               443            45848                   443   \n",
       "\n",
       "  Action  Bytes  Bytes Sent  Bytes Received  Packets  Elapsed Time (sec)  \\\n",
       "0  allow    177          94              83        2                  30   \n",
       "1  allow   4768        1600            3168       19                  17   \n",
       "2  allow    238         118             120        2                1199   \n",
       "3  allow   3327        1438            1889       15                  17   \n",
       "4  allow  25358        6778           18580       31                  16   \n",
       "\n",
       "   pkts_sent  pkts_received  \n",
       "0          1              1  \n",
       "1         10              9  \n",
       "2          1              1  \n",
       "3          8              7  \n",
       "4         13             18  "
      ]
     },
     "execution_count": 5,
     "metadata": {},
     "output_type": "execute_result"
    }
   ],
   "source": [
    "data=pd.read_csv('../input/internet-firewall-data-set/log2.csv')\n",
    "data.head()"
   ]
  },
  {
   "cell_type": "code",
   "execution_count": 6,
   "id": "71b74808",
   "metadata": {
    "execution": {
     "iopub.execute_input": "2022-03-10T10:47:33.404802Z",
     "iopub.status.busy": "2022-03-10T10:47:33.404124Z",
     "iopub.status.idle": "2022-03-10T10:47:33.418280Z",
     "shell.execute_reply": "2022-03-10T10:47:33.417665Z"
    },
    "id": "Ep286TLsSR7f",
    "outputId": "b48bce7b-91ba-4609-91f2-3584b17325ce",
    "papermill": {
     "duration": 0.068563,
     "end_time": "2022-03-10T10:47:33.418451",
     "exception": false,
     "start_time": "2022-03-10T10:47:33.349888",
     "status": "completed"
    },
    "tags": []
   },
   "outputs": [
    {
     "data": {
      "text/html": [
       "<div>\n",
       "<style scoped>\n",
       "    .dataframe tbody tr th:only-of-type {\n",
       "        vertical-align: middle;\n",
       "    }\n",
       "\n",
       "    .dataframe tbody tr th {\n",
       "        vertical-align: top;\n",
       "    }\n",
       "\n",
       "    .dataframe thead th {\n",
       "        text-align: right;\n",
       "    }\n",
       "</style>\n",
       "<table border=\"1\" class=\"dataframe\">\n",
       "  <thead>\n",
       "    <tr style=\"text-align: right;\">\n",
       "      <th></th>\n",
       "      <th>Source Port</th>\n",
       "      <th>Destination Port</th>\n",
       "      <th>NAT Source Port</th>\n",
       "      <th>NAT Destination Port</th>\n",
       "      <th>Action</th>\n",
       "      <th>Bytes</th>\n",
       "      <th>Bytes Sent</th>\n",
       "      <th>Bytes Received</th>\n",
       "      <th>Packets</th>\n",
       "      <th>Elapsed Time (sec)</th>\n",
       "      <th>pkts_sent</th>\n",
       "      <th>pkts_received</th>\n",
       "    </tr>\n",
       "  </thead>\n",
       "  <tbody>\n",
       "    <tr>\n",
       "      <th>65527</th>\n",
       "      <td>63691</td>\n",
       "      <td>80</td>\n",
       "      <td>13237</td>\n",
       "      <td>80</td>\n",
       "      <td>allow</td>\n",
       "      <td>314</td>\n",
       "      <td>192</td>\n",
       "      <td>122</td>\n",
       "      <td>6</td>\n",
       "      <td>15</td>\n",
       "      <td>4</td>\n",
       "      <td>2</td>\n",
       "    </tr>\n",
       "    <tr>\n",
       "      <th>65528</th>\n",
       "      <td>50964</td>\n",
       "      <td>80</td>\n",
       "      <td>13485</td>\n",
       "      <td>80</td>\n",
       "      <td>allow</td>\n",
       "      <td>4680740</td>\n",
       "      <td>67312</td>\n",
       "      <td>4613428</td>\n",
       "      <td>4675</td>\n",
       "      <td>77</td>\n",
       "      <td>985</td>\n",
       "      <td>3690</td>\n",
       "    </tr>\n",
       "    <tr>\n",
       "      <th>65529</th>\n",
       "      <td>54871</td>\n",
       "      <td>445</td>\n",
       "      <td>0</td>\n",
       "      <td>0</td>\n",
       "      <td>drop</td>\n",
       "      <td>70</td>\n",
       "      <td>70</td>\n",
       "      <td>0</td>\n",
       "      <td>1</td>\n",
       "      <td>0</td>\n",
       "      <td>1</td>\n",
       "      <td>0</td>\n",
       "    </tr>\n",
       "    <tr>\n",
       "      <th>65530</th>\n",
       "      <td>54870</td>\n",
       "      <td>445</td>\n",
       "      <td>0</td>\n",
       "      <td>0</td>\n",
       "      <td>drop</td>\n",
       "      <td>70</td>\n",
       "      <td>70</td>\n",
       "      <td>0</td>\n",
       "      <td>1</td>\n",
       "      <td>0</td>\n",
       "      <td>1</td>\n",
       "      <td>0</td>\n",
       "    </tr>\n",
       "    <tr>\n",
       "      <th>65531</th>\n",
       "      <td>54867</td>\n",
       "      <td>445</td>\n",
       "      <td>0</td>\n",
       "      <td>0</td>\n",
       "      <td>drop</td>\n",
       "      <td>70</td>\n",
       "      <td>70</td>\n",
       "      <td>0</td>\n",
       "      <td>1</td>\n",
       "      <td>0</td>\n",
       "      <td>1</td>\n",
       "      <td>0</td>\n",
       "    </tr>\n",
       "  </tbody>\n",
       "</table>\n",
       "</div>"
      ],
      "text/plain": [
       "       Source Port  Destination Port  NAT Source Port  NAT Destination Port  \\\n",
       "65527        63691                80            13237                    80   \n",
       "65528        50964                80            13485                    80   \n",
       "65529        54871               445                0                     0   \n",
       "65530        54870               445                0                     0   \n",
       "65531        54867               445                0                     0   \n",
       "\n",
       "      Action    Bytes  Bytes Sent  Bytes Received  Packets  \\\n",
       "65527  allow      314         192             122        6   \n",
       "65528  allow  4680740       67312         4613428     4675   \n",
       "65529   drop       70          70               0        1   \n",
       "65530   drop       70          70               0        1   \n",
       "65531   drop       70          70               0        1   \n",
       "\n",
       "       Elapsed Time (sec)  pkts_sent  pkts_received  \n",
       "65527                  15          4              2  \n",
       "65528                  77        985           3690  \n",
       "65529                   0          1              0  \n",
       "65530                   0          1              0  \n",
       "65531                   0          1              0  "
      ]
     },
     "execution_count": 6,
     "metadata": {},
     "output_type": "execute_result"
    }
   ],
   "source": [
    "df=data.copy()\n",
    "df.tail()"
   ]
  },
  {
   "cell_type": "markdown",
   "id": "4aa00e9b",
   "metadata": {
    "id": "OrjpwrhlWz2p",
    "papermill": {
     "duration": 0.050709,
     "end_time": "2022-03-10T10:47:33.520263",
     "exception": false,
     "start_time": "2022-03-10T10:47:33.469554",
     "status": "completed"
    },
    "tags": []
   },
   "source": [
    "Observemos el target:"
   ]
  },
  {
   "cell_type": "code",
   "execution_count": 7,
   "id": "d3ebe256",
   "metadata": {
    "execution": {
     "iopub.execute_input": "2022-03-10T10:47:33.629280Z",
     "iopub.status.busy": "2022-03-10T10:47:33.628567Z",
     "iopub.status.idle": "2022-03-10T10:47:33.915691Z",
     "shell.execute_reply": "2022-03-10T10:47:33.915183Z"
    },
    "id": "eRtOYdt4WzMU",
    "outputId": "36fd3b9d-a809-4b3d-b152-26af51b37473",
    "papermill": {
     "duration": 0.34579,
     "end_time": "2022-03-10T10:47:33.915855",
     "exception": false,
     "start_time": "2022-03-10T10:47:33.570065",
     "status": "completed"
    },
    "tags": []
   },
   "outputs": [
    {
     "data": {
      "text/plain": [
       "<AxesSubplot:>"
      ]
     },
     "execution_count": 7,
     "metadata": {},
     "output_type": "execute_result"
    },
    {
     "data": {
      "image/png": "[encoded data removed]",
      "text/plain": [
       "<Figure size 432x288 with 1 Axes>"
      ]
     },
     "metadata": {
      "needs_background": "light"
     },
     "output_type": "display_data"
    }
   ],
   "source": [
    "df[\"Action\"].hist()"
   ]
  },
  {
   "cell_type": "markdown",
   "id": "272d3f47",
   "metadata": {
    "id": "X6gK_hd8XB8N",
    "papermill": {
     "duration": 0.051135,
     "end_time": "2022-03-10T10:47:34.018124",
     "exception": false,
     "start_time": "2022-03-10T10:47:33.966989",
     "status": "completed"
    },
    "tags": []
   },
   "source": [
    "Viendo como se distribuye se hará casi imposible una buena clasificación para reset-both, pero para las demás categorías sí que será posible."
   ]
  },
  {
   "cell_type": "code",
   "execution_count": 8,
   "id": "7930471b",
   "metadata": {
    "execution": {
     "iopub.execute_input": "2022-03-10T10:47:34.125270Z",
     "iopub.status.busy": "2022-03-10T10:47:34.124520Z",
     "iopub.status.idle": "2022-03-10T10:47:34.128779Z",
     "shell.execute_reply": "2022-03-10T10:47:34.129438Z"
    },
    "id": "PBoEy0KLPM3N",
    "outputId": "754e8425-e4ba-477f-f2ee-24b2ea0b1eda",
    "papermill": {
     "duration": 0.060505,
     "end_time": "2022-03-10T10:47:34.129644",
     "exception": false,
     "start_time": "2022-03-10T10:47:34.069139",
     "status": "completed"
    },
    "tags": []
   },
   "outputs": [
    {
     "name": "stdout",
     "output_type": "stream",
     "text": [
      "['Source Port', 'Destination Port', 'NAT Source Port', 'NAT Destination Port', 'Action', 'Bytes', 'Bytes Sent', 'Bytes Received', 'Packets', 'Elapsed Time (sec)', 'pkts_sent', 'pkts_received']\n"
     ]
    }
   ],
   "source": [
    "columnas=data.columns.values.tolist()\n",
    "print(columnas)"
   ]
  },
  {
   "cell_type": "markdown",
   "id": "684ce022",
   "metadata": {
    "id": "hZ8XnUAUKvFR",
    "papermill": {
     "duration": 0.052077,
     "end_time": "2022-03-10T10:47:34.236066",
     "exception": false,
     "start_time": "2022-03-10T10:47:34.183989",
     "status": "completed"
    },
    "tags": []
   },
   "source": [
    "Vamos a crear una red neuronal por lo que viendo el dataset, podemos empezar a marcarnos objetivos.\n",
    "\n",
    "\n",
    "En primer lugar debemos tener en cuenta los outliers ya que las redes neuronales si tenemos demasiado outliers nos puede perjudicar. \n",
    "Por otro lado tenemos datos numéricos y categóricos, por lo que habrá que acabar escalando porque las redes de neuronas también son sensibles"
   ]
  },
  {
   "cell_type": "code",
   "execution_count": 9,
   "id": "bc15523f",
   "metadata": {
    "execution": {
     "iopub.execute_input": "2022-03-10T10:47:34.356203Z",
     "iopub.status.busy": "2022-03-10T10:47:34.344086Z",
     "iopub.status.idle": "2022-03-10T10:47:34.373419Z",
     "shell.execute_reply": "2022-03-10T10:47:34.372732Z"
    },
    "id": "u0MF3SCNLhz1",
    "outputId": "fbc78079-8b5f-414a-dc88-c6884bba5197",
    "papermill": {
     "duration": 0.085565,
     "end_time": "2022-03-10T10:47:34.373585",
     "exception": false,
     "start_time": "2022-03-10T10:47:34.288020",
     "status": "completed"
    },
    "tags": []
   },
   "outputs": [
    {
     "name": "stdout",
     "output_type": "stream",
     "text": [
      "<class 'pandas.core.frame.DataFrame'>\n",
      "RangeIndex: 65532 entries, 0 to 65531\n",
      "Data columns (total 12 columns):\n",
      " #   Column                Non-Null Count  Dtype \n",
      "---  ------                --------------  ----- \n",
      " 0   Source Port           65532 non-null  int64 \n",
      " 1   Destination Port      65532 non-null  int64 \n",
      " 2   NAT Source Port       65532 non-null  int64 \n",
      " 3   NAT Destination Port  65532 non-null  int64 \n",
      " 4   Action                65532 non-null  object\n",
      " 5   Bytes                 65532 non-null  int64 \n",
      " 6   Bytes Sent            65532 non-null  int64 \n",
      " 7   Bytes Received        65532 non-null  int64 \n",
      " 8   Packets               65532 non-null  int64 \n",
      " 9   Elapsed Time (sec)    65532 non-null  int64 \n",
      " 10  pkts_sent             65532 non-null  int64 \n",
      " 11  pkts_received         65532 non-null  int64 \n",
      "dtypes: int64(11), object(1)\n",
      "memory usage: 6.0+ MB\n"
     ]
    }
   ],
   "source": [
    "#Observamos rápidamente si hay valores faltantes\n",
    "data.info()"
   ]
  },
  {
   "cell_type": "markdown",
   "id": "f4fecc9e",
   "metadata": {
    "id": "JeJVu_KZME4i",
    "papermill": {
     "duration": 0.0547,
     "end_time": "2022-03-10T10:47:34.483863",
     "exception": false,
     "start_time": "2022-03-10T10:47:34.429163",
     "status": "completed"
    },
    "tags": []
   },
   "source": [
    "### Tipos de variables\n",
    "\n",
    "Observamos que disponemos de dos tipos de variables. \n",
    "\n",
    "Por un lado tenemos las variables categóricas que son Source Port, Destination Port, NAT Source Port, NAT Destination Port. \n",
    "\n",
    "Por otro lado vemos las variables numéricas que son las relacionadas con los bytes, los paquetes y el tiempo de repuesta."
   ]
  },
  {
   "cell_type": "markdown",
   "id": "b274a12d",
   "metadata": {
    "id": "vGJR8q2fMu7j",
    "papermill": {
     "duration": 0.053826,
     "end_time": "2022-03-10T10:47:34.590146",
     "exception": false,
     "start_time": "2022-03-10T10:47:34.536320",
     "status": "completed"
    },
    "tags": []
   },
   "source": [
    "#### Categóricas\n",
    "\n",
    "Respecto a las variables categóricas vamos a crear categorías raras y después haremos codificación por la frecuencia para poder cuando trabajemos con las numéricas normalizar y estandarizar todas las columnas."
   ]
  },
  {
   "cell_type": "code",
   "execution_count": 10,
   "id": "8e9b64af",
   "metadata": {
    "execution": {
     "iopub.execute_input": "2022-03-10T10:47:34.699963Z",
     "iopub.status.busy": "2022-03-10T10:47:34.699260Z",
     "iopub.status.idle": "2022-03-10T10:47:34.700970Z",
     "shell.execute_reply": "2022-03-10T10:47:34.701463Z"
    },
    "id": "xNEiO6nXCbin",
    "papermill": {
     "duration": 0.058908,
     "end_time": "2022-03-10T10:47:34.701643",
     "exception": false,
     "start_time": "2022-03-10T10:47:34.642735",
     "status": "completed"
    },
    "tags": []
   },
   "outputs": [],
   "source": [
    "cat=['Source Port', 'Destination Port', 'NAT Source Port', 'NAT Destination Port']"
   ]
  },
  {
   "cell_type": "code",
   "execution_count": 11,
   "id": "261eecf8",
   "metadata": {
    "execution": {
     "iopub.execute_input": "2022-03-10T10:47:34.812882Z",
     "iopub.status.busy": "2022-03-10T10:47:34.812243Z",
     "iopub.status.idle": "2022-03-10T10:47:34.836563Z",
     "shell.execute_reply": "2022-03-10T10:47:34.837206Z"
    },
    "id": "L9mBd_kGBpM3",
    "outputId": "b4276f8e-370d-4fad-efec-e39b714b9193",
    "papermill": {
     "duration": 0.081683,
     "end_time": "2022-03-10T10:47:34.837394",
     "exception": false,
     "start_time": "2022-03-10T10:47:34.755711",
     "status": "completed"
    },
    "tags": []
   },
   "outputs": [
    {
     "name": "stdout",
     "output_type": "stream",
     "text": [
      "\n",
      " Source Port\n",
      "\n",
      " 58638    0.012818\n",
      "27005    0.007828\n",
      "443      0.004166\n",
      "57470    0.003388\n",
      "49418    0.003205\n",
      "           ...   \n",
      "32996    0.000015\n",
      "60574    0.000015\n",
      "60570    0.000015\n",
      "65368    0.000015\n",
      "54871    0.000015\n",
      "Name: Source Port, Length: 22724, dtype: float64\n",
      "\n",
      " Destination Port\n",
      "\n",
      " 53       0.235213\n",
      "445      0.196713\n",
      "443      0.178295\n",
      "80       0.061573\n",
      "25174    0.016587\n",
      "           ...   \n",
      "20009    0.000015\n",
      "48608    0.000015\n",
      "10016    0.000015\n",
      "13384    0.000015\n",
      "22455    0.000015\n",
      "Name: Destination Port, Length: 3273, dtype: float64\n",
      "\n",
      " NAT Source Port\n",
      "\n",
      " 0        0.433864\n",
      "48817    0.001267\n",
      "58638    0.000778\n",
      "50116    0.000229\n",
      "7986     0.000076\n",
      "           ...   \n",
      "2063     0.000015\n",
      "33661    0.000015\n",
      "36797    0.000015\n",
      "14122    0.000015\n",
      "13485    0.000015\n",
      "Name: NAT Source Port, Length: 29152, dtype: float64\n",
      "\n",
      " NAT Destination Port\n",
      "\n",
      " 0        0.433864\n",
      "53       0.230330\n",
      "443      0.178203\n",
      "80       0.061466\n",
      "27015    0.003571\n",
      "           ...   \n",
      "45561    0.000015\n",
      "45738    0.000015\n",
      "41872    0.000015\n",
      "25760    0.000015\n",
      "32277    0.000015\n",
      "Name: NAT Destination Port, Length: 2533, dtype: float64\n"
     ]
    }
   ],
   "source": [
    "y=[]\n",
    "for x in cat:\n",
    "  print(\"\\n\",x)\n",
    "  y.append(data[x].value_counts()/len(data[x]))\n",
    "  print(\"\\n\",y[-1])"
   ]
  },
  {
   "cell_type": "markdown",
   "id": "4491c5d1",
   "metadata": {
    "id": "_vLouqLbSJIg",
    "papermill": {
     "duration": 0.052501,
     "end_time": "2022-03-10T10:47:34.943093",
     "exception": false,
     "start_time": "2022-03-10T10:47:34.890592",
     "status": "completed"
    },
    "tags": []
   },
   "source": [
    "Observando esto, podemos llegar a la conclusión de que la variable SourcePort presenta 22.000 casos diferentes que es alrededor de 1/3 del total de datos de los cuales la categoría más común presenta un 1% de los casos. \n",
    "\n",
    "Dicho esto creo que la columna tiene un nulo valor predictivo por lo que la vamos a desechar."
   ]
  },
  {
   "cell_type": "code",
   "execution_count": 12,
   "id": "cb7ef060",
   "metadata": {
    "execution": {
     "iopub.execute_input": "2022-03-10T10:47:35.054132Z",
     "iopub.status.busy": "2022-03-10T10:47:35.053454Z",
     "iopub.status.idle": "2022-03-10T10:47:35.074304Z",
     "shell.execute_reply": "2022-03-10T10:47:35.074925Z"
    },
    "id": "xV7adlVuP6N2",
    "outputId": "1118bf3b-18de-44fe-d3bf-cb9f6380f874",
    "papermill": {
     "duration": 0.078227,
     "end_time": "2022-03-10T10:47:35.075120",
     "exception": false,
     "start_time": "2022-03-10T10:47:34.996893",
     "status": "completed"
    },
    "tags": []
   },
   "outputs": [
    {
     "data": {
      "text/html": [
       "<div>\n",
       "<style scoped>\n",
       "    .dataframe tbody tr th:only-of-type {\n",
       "        vertical-align: middle;\n",
       "    }\n",
       "\n",
       "    .dataframe tbody tr th {\n",
       "        vertical-align: top;\n",
       "    }\n",
       "\n",
       "    .dataframe thead th {\n",
       "        text-align: right;\n",
       "    }\n",
       "</style>\n",
       "<table border=\"1\" class=\"dataframe\">\n",
       "  <thead>\n",
       "    <tr style=\"text-align: right;\">\n",
       "      <th></th>\n",
       "      <th>Destination Port</th>\n",
       "      <th>NAT Source Port</th>\n",
       "      <th>NAT Destination Port</th>\n",
       "      <th>Action</th>\n",
       "      <th>Bytes</th>\n",
       "      <th>Bytes Sent</th>\n",
       "      <th>Bytes Received</th>\n",
       "      <th>Packets</th>\n",
       "      <th>Elapsed Time (sec)</th>\n",
       "      <th>pkts_sent</th>\n",
       "      <th>pkts_received</th>\n",
       "    </tr>\n",
       "  </thead>\n",
       "  <tbody>\n",
       "    <tr>\n",
       "      <th>0</th>\n",
       "      <td>53</td>\n",
       "      <td>54587</td>\n",
       "      <td>53</td>\n",
       "      <td>allow</td>\n",
       "      <td>177</td>\n",
       "      <td>94</td>\n",
       "      <td>83</td>\n",
       "      <td>2</td>\n",
       "      <td>30</td>\n",
       "      <td>1</td>\n",
       "      <td>1</td>\n",
       "    </tr>\n",
       "    <tr>\n",
       "      <th>1</th>\n",
       "      <td>3389</td>\n",
       "      <td>56258</td>\n",
       "      <td>3389</td>\n",
       "      <td>allow</td>\n",
       "      <td>4768</td>\n",
       "      <td>1600</td>\n",
       "      <td>3168</td>\n",
       "      <td>19</td>\n",
       "      <td>17</td>\n",
       "      <td>10</td>\n",
       "      <td>9</td>\n",
       "    </tr>\n",
       "    <tr>\n",
       "      <th>2</th>\n",
       "      <td>50321</td>\n",
       "      <td>43265</td>\n",
       "      <td>50321</td>\n",
       "      <td>allow</td>\n",
       "      <td>238</td>\n",
       "      <td>118</td>\n",
       "      <td>120</td>\n",
       "      <td>2</td>\n",
       "      <td>1199</td>\n",
       "      <td>1</td>\n",
       "      <td>1</td>\n",
       "    </tr>\n",
       "    <tr>\n",
       "      <th>3</th>\n",
       "      <td>3389</td>\n",
       "      <td>50553</td>\n",
       "      <td>3389</td>\n",
       "      <td>allow</td>\n",
       "      <td>3327</td>\n",
       "      <td>1438</td>\n",
       "      <td>1889</td>\n",
       "      <td>15</td>\n",
       "      <td>17</td>\n",
       "      <td>8</td>\n",
       "      <td>7</td>\n",
       "    </tr>\n",
       "    <tr>\n",
       "      <th>4</th>\n",
       "      <td>443</td>\n",
       "      <td>45848</td>\n",
       "      <td>443</td>\n",
       "      <td>allow</td>\n",
       "      <td>25358</td>\n",
       "      <td>6778</td>\n",
       "      <td>18580</td>\n",
       "      <td>31</td>\n",
       "      <td>16</td>\n",
       "      <td>13</td>\n",
       "      <td>18</td>\n",
       "    </tr>\n",
       "  </tbody>\n",
       "</table>\n",
       "</div>"
      ],
      "text/plain": [
       "   Destination Port  NAT Source Port  NAT Destination Port Action  Bytes  \\\n",
       "0                53            54587                    53  allow    177   \n",
       "1              3389            56258                  3389  allow   4768   \n",
       "2             50321            43265                 50321  allow    238   \n",
       "3              3389            50553                  3389  allow   3327   \n",
       "4               443            45848                   443  allow  25358   \n",
       "\n",
       "   Bytes Sent  Bytes Received  Packets  Elapsed Time (sec)  pkts_sent  \\\n",
       "0          94              83        2                  30          1   \n",
       "1        1600            3168       19                  17         10   \n",
       "2         118             120        2                1199          1   \n",
       "3        1438            1889       15                  17          8   \n",
       "4        6778           18580       31                  16         13   \n",
       "\n",
       "   pkts_received  \n",
       "0              1  \n",
       "1              9  \n",
       "2              1  \n",
       "3              7  \n",
       "4             18  "
      ]
     },
     "execution_count": 12,
     "metadata": {},
     "output_type": "execute_result"
    }
   ],
   "source": [
    "df.drop([\"Source Port\"],axis=1, inplace=True)\n",
    "df.head()"
   ]
  },
  {
   "cell_type": "code",
   "execution_count": 13,
   "id": "1b6c5b10",
   "metadata": {
    "execution": {
     "iopub.execute_input": "2022-03-10T10:47:35.190664Z",
     "iopub.status.busy": "2022-03-10T10:47:35.189591Z",
     "iopub.status.idle": "2022-03-10T10:47:35.192687Z",
     "shell.execute_reply": "2022-03-10T10:47:35.192119Z"
    },
    "id": "ckbCkoKaTSs2",
    "papermill": {
     "duration": 0.064062,
     "end_time": "2022-03-10T10:47:35.192833",
     "exception": false,
     "start_time": "2022-03-10T10:47:35.128771",
     "status": "completed"
    },
    "tags": []
   },
   "outputs": [],
   "source": [
    "def group_rare(df, var,umbral):\n",
    "    total_ = len(df)\n",
    "\n",
    "    temp_df = pd.Series(df[var].value_counts() / total_)\n",
    "\n",
    "    grouping_dict = {\n",
    "        k: ('rare' if k not in temp_df[temp_df >= umbral].index else k)\n",
    "        for k in temp_df.index\n",
    "    }\n",
    "    \n",
    "    tmp = df[var].map(grouping_dict)\n",
    "\n",
    "    return tmp"
   ]
  },
  {
   "cell_type": "code",
   "execution_count": 14,
   "id": "28efc6cb",
   "metadata": {
    "execution": {
     "iopub.execute_input": "2022-03-10T10:47:35.304080Z",
     "iopub.status.busy": "2022-03-10T10:47:35.303397Z",
     "iopub.status.idle": "2022-03-10T10:47:43.149850Z",
     "shell.execute_reply": "2022-03-10T10:47:43.148716Z"
    },
    "id": "ZwPQvQD7UoUb",
    "papermill": {
     "duration": 7.90351,
     "end_time": "2022-03-10T10:47:43.150058",
     "exception": false,
     "start_time": "2022-03-10T10:47:35.246548",
     "status": "completed"
    },
    "tags": []
   },
   "outputs": [],
   "source": [
    "df[\"Dest_Port\"]=group_rare(df,\"Destination Port\",0.05)\n",
    "df[\"NAT_Source\"]=group_rare(df,\"NAT Source Port\",0.05)\n",
    "df[\"NAT_Desti\"]=group_rare(df,\"NAT Destination Port\",0.05)\n",
    "\n",
    "df.drop([\"Destination Port\",\"NAT Source Port\", \"NAT Destination Port\"],axis=1, inplace=True)"
   ]
  },
  {
   "cell_type": "markdown",
   "id": "e6696213",
   "metadata": {
    "id": "IE1fz6KzWK4U",
    "papermill": {
     "duration": 0.054613,
     "end_time": "2022-03-10T10:47:43.262967",
     "exception": false,
     "start_time": "2022-03-10T10:47:43.208354",
     "status": "completed"
    },
    "tags": []
   },
   "source": [
    "#### Numéricas"
   ]
  },
  {
   "cell_type": "code",
   "execution_count": 15,
   "id": "56f29c6c",
   "metadata": {
    "execution": {
     "iopub.execute_input": "2022-03-10T10:47:43.380184Z",
     "iopub.status.busy": "2022-03-10T10:47:43.379192Z",
     "iopub.status.idle": "2022-03-10T10:47:47.411915Z",
     "shell.execute_reply": "2022-03-10T10:47:47.411434Z"
    },
    "id": "9MzhSZNOVBnp",
    "outputId": "def7d30d-d922-4a2e-f7ad-4182f1c4fb2e",
    "papermill": {
     "duration": 4.092377,
     "end_time": "2022-03-10T10:47:47.412092",
     "exception": false,
     "start_time": "2022-03-10T10:47:43.319715",
     "status": "completed"
    },
    "tags": []
   },
   "outputs": [
    {
     "name": "stdout",
     "output_type": "stream",
     "text": [
      "                   Bytes  Bytes Sent  Bytes Received\n",
      "Bytes           1.000000    0.933462        0.830225\n",
      "Bytes Sent      0.933462    1.000000        0.575047\n",
      "Bytes Received  0.830225    0.575047        1.000000\n"
     ]
    },
    {
     "data": {
      "image/png": "[encoded data removed]",
      "text/plain": [
       "<Figure size 864x576 with 9 Axes>"
      ]
     },
     "metadata": {
      "needs_background": "light"
     },
     "output_type": "display_data"
    }
   ],
   "source": [
    "matrix=pd.plotting.scatter_matrix(df[['Bytes', 'Bytes Sent', 'Bytes Received']], figsize=(12,8))\n",
    "print(data[['Bytes', 'Bytes Sent', 'Bytes Received']].corr())"
   ]
  },
  {
   "cell_type": "code",
   "execution_count": 16,
   "id": "75be2667",
   "metadata": {
    "execution": {
     "iopub.execute_input": "2022-03-10T10:47:47.529404Z",
     "iopub.status.busy": "2022-03-10T10:47:47.528424Z",
     "iopub.status.idle": "2022-03-10T10:47:51.642078Z",
     "shell.execute_reply": "2022-03-10T10:47:51.641557Z"
    },
    "id": "wyCVKvhMY1Fg",
    "outputId": "3ae86009-ac20-404a-d3c8-02c26bbe7303",
    "papermill": {
     "duration": 4.1735,
     "end_time": "2022-03-10T10:47:51.642223",
     "exception": false,
     "start_time": "2022-03-10T10:47:47.468723",
     "status": "completed"
    },
    "tags": []
   },
   "outputs": [
    {
     "name": "stdout",
     "output_type": "stream",
     "text": [
      "                Packets  pkts_sent  pkts_received\n",
      "Packets        1.000000   0.961286       0.916978\n",
      "pkts_sent      0.961286   1.000000       0.771550\n",
      "pkts_received  0.916978   0.771550       1.000000\n"
     ]
    },
    {
     "data": {
      "image/png": "[encoded data removed]",
      "text/plain": [
       "<Figure size 864x576 with 9 Axes>"
      ]
     },
     "metadata": {
      "needs_background": "light"
     },
     "output_type": "display_data"
    }
   ],
   "source": [
    "matrix=pd.plotting.scatter_matrix(df[['Packets',  'pkts_sent', 'pkts_received']], figsize=(12,8))\n",
    "print(data[['Packets',  'pkts_sent', 'pkts_received']].corr())"
   ]
  },
  {
   "cell_type": "markdown",
   "id": "6e6bc0c2",
   "metadata": {
    "id": "xXBNnn3xaeKz",
    "papermill": {
     "duration": 0.056761,
     "end_time": "2022-03-10T10:47:51.757116",
     "exception": false,
     "start_time": "2022-03-10T10:47:51.700355",
     "status": "completed"
    },
    "tags": []
   },
   "source": [
    "Obviamente la cantidad de bytes y de paquetes totales está relacionado con los enviados y con los que han finalmente llegado. Pero las enviados con los recibidos están correlacionados pero no de manera tan clara, por lo que vamos a eliminar del dataset las variables bytes y paquetes"
   ]
  },
  {
   "cell_type": "code",
   "execution_count": 17,
   "id": "2ee0b16f",
   "metadata": {
    "execution": {
     "iopub.execute_input": "2022-03-10T10:47:51.881769Z",
     "iopub.status.busy": "2022-03-10T10:47:51.880856Z",
     "iopub.status.idle": "2022-03-10T10:47:51.883864Z",
     "shell.execute_reply": "2022-03-10T10:47:51.883373Z"
    },
    "id": "00fZ6xIIaM_D",
    "papermill": {
     "duration": 0.069729,
     "end_time": "2022-03-10T10:47:51.884020",
     "exception": false,
     "start_time": "2022-03-10T10:47:51.814291",
     "status": "completed"
    },
    "tags": []
   },
   "outputs": [],
   "source": [
    "df.drop([\"Bytes\",\"Packets\"],axis=1,inplace=True)"
   ]
  },
  {
   "cell_type": "code",
   "execution_count": 18,
   "id": "af68f072",
   "metadata": {
    "execution": {
     "iopub.execute_input": "2022-03-10T10:47:52.014518Z",
     "iopub.status.busy": "2022-03-10T10:47:52.013576Z",
     "iopub.status.idle": "2022-03-10T10:47:52.018127Z",
     "shell.execute_reply": "2022-03-10T10:47:52.017562Z"
    },
    "id": "knMaLc9Fa75P",
    "outputId": "6d5d2124-f29a-4e95-f3f9-2b5537f8a5b4",
    "papermill": {
     "duration": 0.076074,
     "end_time": "2022-03-10T10:47:52.018268",
     "exception": false,
     "start_time": "2022-03-10T10:47:51.942194",
     "status": "completed"
    },
    "tags": []
   },
   "outputs": [
    {
     "data": {
      "text/html": [
       "<div>\n",
       "<style scoped>\n",
       "    .dataframe tbody tr th:only-of-type {\n",
       "        vertical-align: middle;\n",
       "    }\n",
       "\n",
       "    .dataframe tbody tr th {\n",
       "        vertical-align: top;\n",
       "    }\n",
       "\n",
       "    .dataframe thead th {\n",
       "        text-align: right;\n",
       "    }\n",
       "</style>\n",
       "<table border=\"1\" class=\"dataframe\">\n",
       "  <thead>\n",
       "    <tr style=\"text-align: right;\">\n",
       "      <th></th>\n",
       "      <th>Action</th>\n",
       "      <th>Bytes Sent</th>\n",
       "      <th>Bytes Received</th>\n",
       "      <th>Elapsed Time (sec)</th>\n",
       "      <th>pkts_sent</th>\n",
       "      <th>pkts_received</th>\n",
       "      <th>Dest_Port</th>\n",
       "      <th>NAT_Source</th>\n",
       "      <th>NAT_Desti</th>\n",
       "    </tr>\n",
       "  </thead>\n",
       "  <tbody>\n",
       "    <tr>\n",
       "      <th>0</th>\n",
       "      <td>allow</td>\n",
       "      <td>94</td>\n",
       "      <td>83</td>\n",
       "      <td>30</td>\n",
       "      <td>1</td>\n",
       "      <td>1</td>\n",
       "      <td>53</td>\n",
       "      <td>rare</td>\n",
       "      <td>53</td>\n",
       "    </tr>\n",
       "    <tr>\n",
       "      <th>1</th>\n",
       "      <td>allow</td>\n",
       "      <td>1600</td>\n",
       "      <td>3168</td>\n",
       "      <td>17</td>\n",
       "      <td>10</td>\n",
       "      <td>9</td>\n",
       "      <td>rare</td>\n",
       "      <td>rare</td>\n",
       "      <td>rare</td>\n",
       "    </tr>\n",
       "    <tr>\n",
       "      <th>2</th>\n",
       "      <td>allow</td>\n",
       "      <td>118</td>\n",
       "      <td>120</td>\n",
       "      <td>1199</td>\n",
       "      <td>1</td>\n",
       "      <td>1</td>\n",
       "      <td>rare</td>\n",
       "      <td>rare</td>\n",
       "      <td>rare</td>\n",
       "    </tr>\n",
       "    <tr>\n",
       "      <th>3</th>\n",
       "      <td>allow</td>\n",
       "      <td>1438</td>\n",
       "      <td>1889</td>\n",
       "      <td>17</td>\n",
       "      <td>8</td>\n",
       "      <td>7</td>\n",
       "      <td>rare</td>\n",
       "      <td>rare</td>\n",
       "      <td>rare</td>\n",
       "    </tr>\n",
       "    <tr>\n",
       "      <th>4</th>\n",
       "      <td>allow</td>\n",
       "      <td>6778</td>\n",
       "      <td>18580</td>\n",
       "      <td>16</td>\n",
       "      <td>13</td>\n",
       "      <td>18</td>\n",
       "      <td>443</td>\n",
       "      <td>rare</td>\n",
       "      <td>443</td>\n",
       "    </tr>\n",
       "  </tbody>\n",
       "</table>\n",
       "</div>"
      ],
      "text/plain": [
       "  Action  Bytes Sent  Bytes Received  Elapsed Time (sec)  pkts_sent  \\\n",
       "0  allow          94              83                  30          1   \n",
       "1  allow        1600            3168                  17         10   \n",
       "2  allow         118             120                1199          1   \n",
       "3  allow        1438            1889                  17          8   \n",
       "4  allow        6778           18580                  16         13   \n",
       "\n",
       "   pkts_received Dest_Port NAT_Source NAT_Desti  \n",
       "0              1        53       rare        53  \n",
       "1              9      rare       rare      rare  \n",
       "2              1      rare       rare      rare  \n",
       "3              7      rare       rare      rare  \n",
       "4             18       443       rare       443  "
      ]
     },
     "execution_count": 18,
     "metadata": {},
     "output_type": "execute_result"
    }
   ],
   "source": [
    "df.head()"
   ]
  },
  {
   "cell_type": "markdown",
   "id": "03c96efc",
   "metadata": {
    "id": "2--IC40zDqix",
    "papermill": {
     "duration": 0.058378,
     "end_time": "2022-03-10T10:47:52.136484",
     "exception": false,
     "start_time": "2022-03-10T10:47:52.078106",
     "status": "completed"
    },
    "tags": []
   },
   "source": [
    "##### Observación de Outliers\n",
    "Vamos a ver si nuestros datos numéricos presentan muchos valores extremos"
   ]
  },
  {
   "cell_type": "code",
   "execution_count": 19,
   "id": "2c8280c7",
   "metadata": {
    "execution": {
     "iopub.execute_input": "2022-03-10T10:47:52.262029Z",
     "iopub.status.busy": "2022-03-10T10:47:52.261367Z",
     "iopub.status.idle": "2022-03-10T10:47:52.264087Z",
     "shell.execute_reply": "2022-03-10T10:47:52.263437Z"
    },
    "id": "MWSerPwIDrFg",
    "papermill": {
     "duration": 0.069015,
     "end_time": "2022-03-10T10:47:52.264224",
     "exception": false,
     "start_time": "2022-03-10T10:47:52.195209",
     "status": "completed"
    },
    "tags": []
   },
   "outputs": [],
   "source": [
    "def diagnostic_plots(df, variable):\n",
    "    # la función toma un dataframe (df) y\n",
    "    # la variable de interés como argumento\n",
    "\n",
    "    # define el tamaño de la gráfica\n",
    "    plt.figure(figsize=(16, 4))\n",
    "\n",
    "    # histograma\n",
    "    plt.subplot(1, 3, 1)\n",
    "    sns.histplot(df[variable], bins=30)\n",
    "    plt.title('Histogram')\n",
    "\n",
    "    # gráfica Q-Q \n",
    "    plt.subplot(1, 3, 2)\n",
    "    stats.probplot(df[variable], dist=\"norm\", plot=plt)\n",
    "    plt.ylabel('Cuantiles de la variable')\n",
    "\n",
    "    # gráfico de caja \n",
    "    plt.subplot(1, 3, 3)\n",
    "    sns.boxplot(y=df[variable])\n",
    "    plt.title('Gráfico de caja')\n",
    "\n",
    "    plt.show()"
   ]
  },
  {
   "cell_type": "code",
   "execution_count": 20,
   "id": "7bda2551",
   "metadata": {
    "execution": {
     "iopub.execute_input": "2022-03-10T10:47:52.406483Z",
     "iopub.status.busy": "2022-03-10T10:47:52.388425Z",
     "iopub.status.idle": "2022-03-10T10:47:53.059176Z",
     "shell.execute_reply": "2022-03-10T10:47:53.058480Z"
    },
    "id": "hFJbZ1CDDrII",
    "outputId": "87ffd1a2-5e4a-48c5-d3ca-1ae566dc18e3",
    "papermill": {
     "duration": 0.736622,
     "end_time": "2022-03-10T10:47:53.059354",
     "exception": false,
     "start_time": "2022-03-10T10:47:52.322732",
     "status": "completed"
    },
    "tags": []
   },
   "outputs": [
    {
     "data": {
      "image/png": "[encoded data removed]",
      "text/plain": [
       "<Figure size 1152x288 with 3 Axes>"
      ]
     },
     "metadata": {
      "needs_background": "light"
     },
     "output_type": "display_data"
    }
   ],
   "source": [
    "diagnostic_plots(df,\"Bytes Sent\")"
   ]
  },
  {
   "cell_type": "code",
   "execution_count": 21,
   "id": "216aee67",
   "metadata": {
    "execution": {
     "iopub.execute_input": "2022-03-10T10:47:53.189376Z",
     "iopub.status.busy": "2022-03-10T10:47:53.188668Z",
     "iopub.status.idle": "2022-03-10T10:47:53.894919Z",
     "shell.execute_reply": "2022-03-10T10:47:53.894308Z"
    },
    "id": "EiK-H-KjDrK5",
    "outputId": "067a5d49-867c-4b2b-9b7e-1d42b4716183",
    "papermill": {
     "duration": 0.772379,
     "end_time": "2022-03-10T10:47:53.895086",
     "exception": false,
     "start_time": "2022-03-10T10:47:53.122707",
     "status": "completed"
    },
    "tags": []
   },
   "outputs": [
    {
     "data": {
      "image/png": "[encoded data removed]",
      "text/plain": [
       "<Figure size 1152x288 with 3 Axes>"
      ]
     },
     "metadata": {
      "needs_background": "light"
     },
     "output_type": "display_data"
    }
   ],
   "source": [
    "diagnostic_plots(df,\"Bytes Received\")"
   ]
  },
  {
   "cell_type": "code",
   "execution_count": 22,
   "id": "4c91c2e9",
   "metadata": {
    "execution": {
     "iopub.execute_input": "2022-03-10T10:47:54.047570Z",
     "iopub.status.busy": "2022-03-10T10:47:54.042257Z",
     "iopub.status.idle": "2022-03-10T10:47:54.696819Z",
     "shell.execute_reply": "2022-03-10T10:47:54.697332Z"
    },
    "id": "E_R15J5rDrNg",
    "outputId": "f17ecaec-cce5-4b9c-f3f3-704b15cd36a1",
    "papermill": {
     "duration": 0.739878,
     "end_time": "2022-03-10T10:47:54.697523",
     "exception": false,
     "start_time": "2022-03-10T10:47:53.957645",
     "status": "completed"
    },
    "tags": []
   },
   "outputs": [
    {
     "data": {
      "image/png": "[encoded data removed]",
      "text/plain": [
       "<Figure size 1152x288 with 3 Axes>"
      ]
     },
     "metadata": {
      "needs_background": "light"
     },
     "output_type": "display_data"
    }
   ],
   "source": [
    "diagnostic_plots(df,\"pkts_sent\")"
   ]
  },
  {
   "cell_type": "code",
   "execution_count": 23,
   "id": "dfb8f405",
   "metadata": {
    "execution": {
     "iopub.execute_input": "2022-03-10T10:47:54.832300Z",
     "iopub.status.busy": "2022-03-10T10:47:54.831571Z",
     "iopub.status.idle": "2022-03-10T10:47:55.518817Z",
     "shell.execute_reply": "2022-03-10T10:47:55.517430Z"
    },
    "id": "Xm4YPm-7DrQM",
    "outputId": "c5102f51-3104-472c-80a4-99dcc7673fa1",
    "papermill": {
     "duration": 0.757309,
     "end_time": "2022-03-10T10:47:55.519023",
     "exception": false,
     "start_time": "2022-03-10T10:47:54.761714",
     "status": "completed"
    },
    "tags": []
   },
   "outputs": [
    {
     "data": {
      "image/png": "[encoded data removed]",
      "text/plain": [
       "<Figure size 1152x288 with 3 Axes>"
      ]
     },
     "metadata": {
      "needs_background": "light"
     },
     "output_type": "display_data"
    }
   ],
   "source": [
    "diagnostic_plots(df,\"pkts_received\")"
   ]
  },
  {
   "cell_type": "markdown",
   "id": "16ecfea6",
   "metadata": {
    "id": "tubFP7mLFckg",
    "papermill": {
     "duration": 0.065897,
     "end_time": "2022-03-10T10:47:55.654823",
     "exception": false,
     "start_time": "2022-03-10T10:47:55.588926",
     "status": "completed"
    },
    "tags": []
   },
   "source": [
    "El algoritmo de redes neuronales trabajar con valores extremos a no ser que haya muchos, como no vemos una gran cantidad de valores extremos, vamos a dejarlos."
   ]
  },
  {
   "cell_type": "markdown",
   "id": "446627b2",
   "metadata": {
    "id": "mTRgY26udC0O",
    "papermill": {
     "duration": 0.064442,
     "end_time": "2022-03-10T10:47:55.785931",
     "exception": false,
     "start_time": "2022-03-10T10:47:55.721489",
     "status": "completed"
    },
    "tags": []
   },
   "source": [
    "#### Target\n",
    "\n",
    "Vamos a codificar el target con OneHotEncoding o nos dará problemas a la hora de entrenar la red neuronal"
   ]
  },
  {
   "cell_type": "code",
   "execution_count": 24,
   "id": "c94a946a",
   "metadata": {
    "execution": {
     "iopub.execute_input": "2022-03-10T10:47:55.921315Z",
     "iopub.status.busy": "2022-03-10T10:47:55.920665Z",
     "iopub.status.idle": "2022-03-10T10:47:55.923799Z",
     "shell.execute_reply": "2022-03-10T10:47:55.923266Z"
    },
    "id": "oZBlXZuldA12",
    "papermill": {
     "duration": 0.072511,
     "end_time": "2022-03-10T10:47:55.923993",
     "exception": false,
     "start_time": "2022-03-10T10:47:55.851482",
     "status": "completed"
    },
    "tags": []
   },
   "outputs": [],
   "source": [
    "#Lo haremos una vez separados los conjuntos\n",
    "one_hot_encoder=Ohe(variables=[\"Action\"])"
   ]
  },
  {
   "cell_type": "markdown",
   "id": "b6062d92",
   "metadata": {
    "id": "HaWUpyVabwPr",
    "papermill": {
     "duration": 0.064218,
     "end_time": "2022-03-10T10:47:56.052907",
     "exception": false,
     "start_time": "2022-03-10T10:47:55.988689",
     "status": "completed"
    },
    "tags": []
   },
   "source": [
    "## Separación de los conjuntos y finalización del preprocesado de datos"
   ]
  },
  {
   "cell_type": "code",
   "execution_count": 25,
   "id": "8e9f1688",
   "metadata": {
    "execution": {
     "iopub.execute_input": "2022-03-10T10:47:56.187354Z",
     "iopub.status.busy": "2022-03-10T10:47:56.186409Z",
     "iopub.status.idle": "2022-03-10T10:47:56.208522Z",
     "shell.execute_reply": "2022-03-10T10:47:56.209072Z"
    },
    "id": "Yk4yE0dNb1oq",
    "papermill": {
     "duration": 0.090004,
     "end_time": "2022-03-10T10:47:56.209258",
     "exception": false,
     "start_time": "2022-03-10T10:47:56.119254",
     "status": "completed"
    },
    "tags": []
   },
   "outputs": [],
   "source": [
    "#Vamos a separar los conjuntos\n",
    "x_train, x_test, Y_train, Y_test = train_test_split(df.iloc[:,1:],\n",
    "                                                    df.iloc[:,:1], test_size=0.10,\n",
    "                                                    random_state=9336)\n"
   ]
  },
  {
   "cell_type": "code",
   "execution_count": 26,
   "id": "5b3e9615",
   "metadata": {
    "execution": {
     "iopub.execute_input": "2022-03-10T10:47:56.343576Z",
     "iopub.status.busy": "2022-03-10T10:47:56.342640Z",
     "iopub.status.idle": "2022-03-10T10:47:56.525203Z",
     "shell.execute_reply": "2022-03-10T10:47:56.524512Z"
    },
    "id": "8vhdERCqf-la",
    "papermill": {
     "duration": 0.250131,
     "end_time": "2022-03-10T10:47:56.525345",
     "exception": false,
     "start_time": "2022-03-10T10:47:56.275214",
     "status": "completed"
    },
    "tags": []
   },
   "outputs": [],
   "source": [
    "#Codificación de las variables categóricas por frecuencia\n",
    "Y_train=one_hot_encoder.fit_transform(Y_train)\n",
    "Y_test=one_hot_encoder.transform(Y_test)\n",
    "\n",
    "count_enc = CountFrequencyEncoder(\n",
    "    encoding_method=\"frequency\", \n",
    "    variables=['Dest_Port', 'NAT_Source', 'NAT_Desti'])\n",
    "count_enc.fit(x_train)\n",
    "x_train = count_enc.transform(x_train)\n",
    "x_test = count_enc.transform(x_test)"
   ]
  },
  {
   "cell_type": "markdown",
   "id": "e8f34f1e",
   "metadata": {
    "id": "_43dIczvh70Z",
    "papermill": {
     "duration": 0.063947,
     "end_time": "2022-03-10T10:47:56.655223",
     "exception": false,
     "start_time": "2022-03-10T10:47:56.591276",
     "status": "completed"
    },
    "tags": []
   },
   "source": [
    "Ahora por último valor a escalar todas las variables numéricas."
   ]
  },
  {
   "cell_type": "code",
   "execution_count": 27,
   "id": "68bbf1b4",
   "metadata": {
    "execution": {
     "iopub.execute_input": "2022-03-10T10:47:56.790916Z",
     "iopub.status.busy": "2022-03-10T10:47:56.789959Z",
     "iopub.status.idle": "2022-03-10T10:47:56.811403Z",
     "shell.execute_reply": "2022-03-10T10:47:56.811921Z"
    },
    "id": "PeYsT_Gnf_l8",
    "papermill": {
     "duration": 0.090719,
     "end_time": "2022-03-10T10:47:56.812117",
     "exception": false,
     "start_time": "2022-03-10T10:47:56.721398",
     "status": "completed"
    },
    "tags": []
   },
   "outputs": [],
   "source": [
    "scaler = StandardScaler()\n",
    "num=[\"Bytes Sent\",\"Bytes Received\",\"Elapsed Time (sec)\",\n",
    "                   \"pkts_sent\",\"pkts_received\"]\n",
    "# entrena el escalador en el set de entrenamiento\n",
    "# aprende los parámetros \n",
    "scaler.fit(x_train[num])\n",
    "\n",
    "# transforma los sets de entrenamiento y prueba \n",
    "x_train[num] = scaler.transform(x_train[num])\n",
    "x_test[num] = scaler.transform(x_test[num])"
   ]
  },
  {
   "cell_type": "code",
   "execution_count": 28,
   "id": "660f9dfb",
   "metadata": {
    "execution": {
     "iopub.execute_input": "2022-03-10T10:47:56.967032Z",
     "iopub.status.busy": "2022-03-10T10:47:56.966344Z",
     "iopub.status.idle": "2022-03-10T10:47:56.998690Z",
     "shell.execute_reply": "2022-03-10T10:47:56.999341Z"
    },
    "id": "jQ80xLzJi7qK",
    "papermill": {
     "duration": 0.122144,
     "end_time": "2022-03-10T10:47:56.999531",
     "exception": false,
     "start_time": "2022-03-10T10:47:56.877387",
     "status": "completed"
    },
    "tags": []
   },
   "outputs": [
    {
     "name": "stderr",
     "output_type": "stream",
     "text": [
      "2022-03-10 10:47:56.963424: I tensorflow/core/common_runtime/process_util.cc:146] Creating new thread pool with default inter op setting: 2. Tune using inter_op_parallelism_threads for best performance.\n"
     ]
    }
   ],
   "source": [
    "#Pasamos a preparar los datos para tensorflow\n",
    "\n",
    "#Conjunto de entrenamiento\n",
    "X_train=tf.convert_to_tensor(x_train, np.float16)\n",
    "y_train=tf.convert_to_tensor(Y_train,np.float16)\n",
    "\n",
    "#Conjunto de test\n",
    "X_test=tf.convert_to_tensor(x_test, np.float16)\n",
    "y_test=tf.convert_to_tensor(Y_test,np.float16)"
   ]
  },
  {
   "cell_type": "markdown",
   "id": "06e18fb6",
   "metadata": {
    "id": "louJSVO8IxHH",
    "papermill": {
     "duration": 0.065173,
     "end_time": "2022-03-10T10:47:57.131831",
     "exception": false,
     "start_time": "2022-03-10T10:47:57.066658",
     "status": "completed"
    },
    "tags": []
   },
   "source": [
    "## Creación y entrenamiento del modelo"
   ]
  },
  {
   "cell_type": "code",
   "execution_count": 29,
   "id": "80735217",
   "metadata": {
    "execution": {
     "iopub.execute_input": "2022-03-10T10:47:57.267147Z",
     "iopub.status.busy": "2022-03-10T10:47:57.266203Z",
     "iopub.status.idle": "2022-03-10T10:47:57.792269Z",
     "shell.execute_reply": "2022-03-10T10:47:57.791688Z"
    },
    "id": "8wzdGSJQIuuQ",
    "outputId": "5cec1af2-e2e3-4626-ac6c-521775359523",
    "papermill": {
     "duration": 0.594853,
     "end_time": "2022-03-10T10:47:57.792450",
     "exception": false,
     "start_time": "2022-03-10T10:47:57.197597",
     "status": "completed"
    },
    "tags": []
   },
   "outputs": [
    {
     "name": "stdout",
     "output_type": "stream",
     "text": [
      "Model: \"Clasificacion_multiclase\"\n",
      "_________________________________________________________________\n",
      "Layer (type)                 Output Shape              Param #   \n",
      "=================================================================\n",
      "flatten (Flatten)            (None, 8)                 0         \n",
      "_________________________________________________________________\n",
      "dense (Dense)                (None, 32)                288       \n",
      "_________________________________________________________________\n",
      "dense_1 (Dense)              (None, 96)                3168      \n",
      "_________________________________________________________________\n",
      "dense_2 (Dense)              (None, 192)               18624     \n",
      "_________________________________________________________________\n",
      "dense_3 (Dense)              (None, 500)               96500     \n",
      "_________________________________________________________________\n",
      "dense_4 (Dense)              (None, 4)                 2004      \n",
      "=================================================================\n",
      "Total params: 120,584\n",
      "Trainable params: 120,584\n",
      "Non-trainable params: 0\n",
      "_________________________________________________________________\n"
     ]
    }
   ],
   "source": [
    "layers= [keras.layers.Flatten(input_shape=(8,)),\n",
    "         keras.layers.Dense(32,activation=tf.nn.relu),\n",
    "         keras.layers.Dense(96,activation=tf.nn.relu),\n",
    "         keras.layers.Dense(192,activation=tf.nn.relu),\n",
    "         keras.layers.Dense(500,activation=tf.nn.relu),\n",
    "         keras.layers.Dense(4,activation=tf.nn.softmax) ]\n",
    "\n",
    "model=keras.Sequential(layers, name=\"Clasificacion_multiclase\")\n",
    "\n",
    "model.compile(optimizer=\"adam\",\n",
    "              loss='categorical_crossentropy',\n",
    "              metrics=[\"accuracy\"])\n",
    "\n",
    "model.summary()"
   ]
  },
  {
   "cell_type": "code",
   "execution_count": 30,
   "id": "aca0a753",
   "metadata": {
    "execution": {
     "iopub.execute_input": "2022-03-10T10:47:57.933307Z",
     "iopub.status.busy": "2022-03-10T10:47:57.932494Z",
     "iopub.status.idle": "2022-03-10T10:48:39.624425Z",
     "shell.execute_reply": "2022-03-10T10:48:39.623886Z"
    },
    "id": "_5b1jP8oJDHf",
    "outputId": "bd631ea9-3634-45da-87b1-9783e4b82b8c",
    "papermill": {
     "duration": 41.764181,
     "end_time": "2022-03-10T10:48:39.624577",
     "exception": false,
     "start_time": "2022-03-10T10:47:57.860396",
     "status": "completed"
    },
    "tags": []
   },
   "outputs": [
    {
     "name": "stderr",
     "output_type": "stream",
     "text": [
      "2022-03-10 10:47:57.932689: I tensorflow/core/profiler/lib/profiler_session.cc:131] Profiler session initializing.\n",
      "2022-03-10 10:47:57.932872: I tensorflow/core/profiler/lib/profiler_session.cc:146] Profiler session started.\n",
      "2022-03-10 10:47:57.934020: I tensorflow/core/profiler/lib/profiler_session.cc:164] Profiler session tear down.\n",
      "2022-03-10 10:47:58.030034: I tensorflow/compiler/mlir/mlir_graph_optimization_pass.cc:185] None of the MLIR Optimization Passes are enabled (registered 2)\n"
     ]
    },
    {
     "name": "stdout",
     "output_type": "stream",
     "text": [
      "Epoch 1/50\n",
      "2/4 [==============>...............] - ETA: 0s - loss: 1.3697 - accuracy: 0.3166"
     ]
    },
    {
     "name": "stderr",
     "output_type": "stream",
     "text": [
      "2022-03-10 10:47:59.014520: I tensorflow/core/profiler/lib/profiler_session.cc:131] Profiler session initializing.\n",
      "2022-03-10 10:47:59.014704: I tensorflow/core/profiler/lib/profiler_session.cc:146] Profiler session started.\n",
      "2022-03-10 10:47:59.168480: I tensorflow/core/profiler/lib/profiler_session.cc:66] Profiler session collecting data.\n",
      "2022-03-10 10:47:59.174438: I tensorflow/core/profiler/lib/profiler_session.cc:164] Profiler session tear down.\n",
      "2022-03-10 10:47:59.182252: I tensorflow/core/profiler/rpc/client/save_profile.cc:136] Creating directory: logs/train/plugins/profile/2022_03_10_10_47_59\n",
      "\n",
      "2022-03-10 10:47:59.183605: I tensorflow/core/profiler/rpc/client/save_profile.cc:142] Dumped gzipped tool data for trace.json.gz to logs/train/plugins/profile/2022_03_10_10_47_59/95b79d7be3cf.trace.json.gz\n",
      "2022-03-10 10:47:59.197517: I tensorflow/core/profiler/rpc/client/save_profile.cc:136] Creating directory: logs/train/plugins/profile/2022_03_10_10_47_59\n",
      "\n",
      "2022-03-10 10:47:59.198601: I tensorflow/core/profiler/rpc/client/save_profile.cc:142] Dumped gzipped tool data for memory_profile.json.gz to logs/train/plugins/profile/2022_03_10_10_47_59/95b79d7be3cf.memory_profile.json.gz\n",
      "2022-03-10 10:47:59.199170: I tensorflow/core/profiler/rpc/client/capture_profile.cc:251] Creating directory: logs/train/plugins/profile/2022_03_10_10_47_59\n",
      "Dumped tool data for xplane.pb to logs/train/plugins/profile/2022_03_10_10_47_59/95b79d7be3cf.xplane.pb\n",
      "Dumped tool data for overview_page.pb to logs/train/plugins/profile/2022_03_10_10_47_59/95b79d7be3cf.overview_page.pb\n",
      "Dumped tool data for input_pipeline.pb to logs/train/plugins/profile/2022_03_10_10_47_59/95b79d7be3cf.input_pipeline.pb\n",
      "Dumped tool data for tensorflow_stats.pb to logs/train/plugins/profile/2022_03_10_10_47_59/95b79d7be3cf.tensorflow_stats.pb\n",
      "Dumped tool data for kernel_stats.pb to logs/train/plugins/profile/2022_03_10_10_47_59/95b79d7be3cf.kernel_stats.pb\n",
      "\n"
     ]
    },
    {
     "name": "stdout",
     "output_type": "stream",
     "text": [
      "4/4 [==============================] - 2s 247ms/step - loss: 1.3400 - accuracy: 0.4379 - val_loss: 1.2550 - val_accuracy: 0.5778\n",
      "Epoch 2/50\n",
      "4/4 [==============================] - 1s 155ms/step - loss: 1.2098 - accuracy: 0.5743 - val_loss: 1.1124 - val_accuracy: 0.5778\n",
      "Epoch 3/50\n",
      "4/4 [==============================] - 1s 153ms/step - loss: 1.0683 - accuracy: 0.5743 - val_loss: 0.9860 - val_accuracy: 0.5778\n",
      "Epoch 4/50\n",
      "4/4 [==============================] - 1s 159ms/step - loss: 0.9650 - accuracy: 0.5743 - val_loss: 0.9072 - val_accuracy: 0.5778\n",
      "Epoch 5/50\n",
      "4/4 [==============================] - 1s 151ms/step - loss: 0.8785 - accuracy: 0.5743 - val_loss: 0.8095 - val_accuracy: 0.5778\n",
      "Epoch 6/50\n",
      "4/4 [==============================] - 1s 149ms/step - loss: 0.7787 - accuracy: 0.5743 - val_loss: 0.7051 - val_accuracy: 0.5778\n",
      "Epoch 7/50\n",
      "4/4 [==============================] - 1s 147ms/step - loss: 0.6663 - accuracy: 0.5743 - val_loss: 0.5861 - val_accuracy: 0.5778\n",
      "Epoch 8/50\n",
      "4/4 [==============================] - 1s 152ms/step - loss: 0.5438 - accuracy: 0.7174 - val_loss: 0.4652 - val_accuracy: 0.9915\n",
      "Epoch 9/50\n",
      "4/4 [==============================] - 1s 149ms/step - loss: 0.4295 - accuracy: 0.9533 - val_loss: 0.3678 - val_accuracy: 0.8081\n",
      "Epoch 10/50\n",
      "4/4 [==============================] - 1s 152ms/step - loss: 0.3439 - accuracy: 0.7957 - val_loss: 0.3020 - val_accuracy: 0.8081\n",
      "Epoch 11/50\n",
      "4/4 [==============================] - 1s 150ms/step - loss: 0.2871 - accuracy: 0.9400 - val_loss: 0.2590 - val_accuracy: 0.9895\n",
      "Epoch 12/50\n",
      "4/4 [==============================] - 1s 166ms/step - loss: 0.2450 - accuracy: 0.9920 - val_loss: 0.2210 - val_accuracy: 0.9891\n",
      "Epoch 13/50\n",
      "4/4 [==============================] - 1s 151ms/step - loss: 0.2047 - accuracy: 0.9916 - val_loss: 0.1819 - val_accuracy: 0.9891\n",
      "Epoch 14/50\n",
      "4/4 [==============================] - 1s 149ms/step - loss: 0.1625 - accuracy: 0.9914 - val_loss: 0.1399 - val_accuracy: 0.9891\n",
      "Epoch 15/50\n",
      "4/4 [==============================] - 1s 154ms/step - loss: 0.1206 - accuracy: 0.9916 - val_loss: 0.1033 - val_accuracy: 0.9891\n",
      "Epoch 16/50\n",
      "4/4 [==============================] - 1s 222ms/step - loss: 0.0866 - accuracy: 0.9916 - val_loss: 0.0788 - val_accuracy: 0.9891\n",
      "Epoch 17/50\n",
      "4/4 [==============================] - 1s 228ms/step - loss: 0.0652 - accuracy: 0.9916 - val_loss: 0.0657 - val_accuracy: 0.9891\n",
      "Epoch 18/50\n",
      "4/4 [==============================] - 1s 147ms/step - loss: 0.0539 - accuracy: 0.9916 - val_loss: 0.0594 - val_accuracy: 0.9891\n",
      "Epoch 19/50\n",
      "4/4 [==============================] - 1s 154ms/step - loss: 0.0483 - accuracy: 0.9916 - val_loss: 0.0559 - val_accuracy: 0.9891\n",
      "Epoch 20/50\n",
      "4/4 [==============================] - 1s 152ms/step - loss: 0.0453 - accuracy: 0.9916 - val_loss: 0.0537 - val_accuracy: 0.9891\n",
      "Epoch 21/50\n",
      "4/4 [==============================] - 1s 150ms/step - loss: 0.0431 - accuracy: 0.9916 - val_loss: 0.0515 - val_accuracy: 0.9891\n",
      "Epoch 22/50\n",
      "4/4 [==============================] - 1s 149ms/step - loss: 0.0412 - accuracy: 0.9916 - val_loss: 0.0495 - val_accuracy: 0.9891\n",
      "Epoch 23/50\n",
      "4/4 [==============================] - 1s 149ms/step - loss: 0.0394 - accuracy: 0.9916 - val_loss: 0.0473 - val_accuracy: 0.9891\n",
      "Epoch 24/50\n",
      "4/4 [==============================] - 1s 152ms/step - loss: 0.0378 - accuracy: 0.9916 - val_loss: 0.0453 - val_accuracy: 0.9891\n",
      "Epoch 25/50\n",
      "4/4 [==============================] - 1s 151ms/step - loss: 0.0361 - accuracy: 0.9916 - val_loss: 0.0431 - val_accuracy: 0.9908\n",
      "Epoch 26/50\n",
      "4/4 [==============================] - 1s 155ms/step - loss: 0.0344 - accuracy: 0.9919 - val_loss: 0.0412 - val_accuracy: 0.9908\n",
      "Epoch 27/50\n",
      "4/4 [==============================] - 1s 150ms/step - loss: 0.0330 - accuracy: 0.9919 - val_loss: 0.0394 - val_accuracy: 0.9908\n",
      "Epoch 28/50\n",
      "4/4 [==============================] - 1s 147ms/step - loss: 0.0315 - accuracy: 0.9926 - val_loss: 0.0377 - val_accuracy: 0.9953\n",
      "Epoch 29/50\n",
      "4/4 [==============================] - 1s 170ms/step - loss: 0.0302 - accuracy: 0.9960 - val_loss: 0.0363 - val_accuracy: 0.9953\n",
      "Epoch 30/50\n",
      "4/4 [==============================] - 1s 150ms/step - loss: 0.0291 - accuracy: 0.9960 - val_loss: 0.0351 - val_accuracy: 0.9953\n",
      "Epoch 31/50\n",
      "4/4 [==============================] - 1s 152ms/step - loss: 0.0282 - accuracy: 0.9960 - val_loss: 0.0342 - val_accuracy: 0.9953\n",
      "Epoch 32/50\n",
      "4/4 [==============================] - 1s 155ms/step - loss: 0.0274 - accuracy: 0.9961 - val_loss: 0.0334 - val_accuracy: 0.9953\n",
      "Epoch 33/50\n",
      "4/4 [==============================] - 1s 148ms/step - loss: 0.0268 - accuracy: 0.9961 - val_loss: 0.0328 - val_accuracy: 0.9953\n",
      "Epoch 34/50\n",
      "4/4 [==============================] - 1s 152ms/step - loss: 0.0263 - accuracy: 0.9961 - val_loss: 0.0322 - val_accuracy: 0.9953\n",
      "Epoch 35/50\n",
      "4/4 [==============================] - 1s 150ms/step - loss: 0.0259 - accuracy: 0.9961 - val_loss: 0.0317 - val_accuracy: 0.9953\n",
      "Epoch 36/50\n",
      "4/4 [==============================] - 1s 148ms/step - loss: 0.0255 - accuracy: 0.9961 - val_loss: 0.0313 - val_accuracy: 0.9953\n",
      "Epoch 37/50\n",
      "4/4 [==============================] - 1s 146ms/step - loss: 0.0252 - accuracy: 0.9962 - val_loss: 0.0309 - val_accuracy: 0.9953\n",
      "Epoch 38/50\n",
      "4/4 [==============================] - 1s 147ms/step - loss: 0.0248 - accuracy: 0.9961 - val_loss: 0.0305 - val_accuracy: 0.9956\n",
      "Epoch 39/50\n",
      "4/4 [==============================] - 1s 148ms/step - loss: 0.0245 - accuracy: 0.9964 - val_loss: 0.0302 - val_accuracy: 0.9956\n",
      "Epoch 40/50\n",
      "4/4 [==============================] - 1s 149ms/step - loss: 0.0243 - accuracy: 0.9964 - val_loss: 0.0299 - val_accuracy: 0.9956\n",
      "Epoch 41/50\n",
      "4/4 [==============================] - 1s 146ms/step - loss: 0.0240 - accuracy: 0.9964 - val_loss: 0.0295 - val_accuracy: 0.9956\n",
      "Epoch 42/50\n",
      "4/4 [==============================] - 1s 146ms/step - loss: 0.0238 - accuracy: 0.9964 - val_loss: 0.0292 - val_accuracy: 0.9956\n",
      "Epoch 43/50\n",
      "4/4 [==============================] - 1s 144ms/step - loss: 0.0236 - accuracy: 0.9964 - val_loss: 0.0289 - val_accuracy: 0.9956\n",
      "Epoch 44/50\n",
      "4/4 [==============================] - 1s 153ms/step - loss: 0.0233 - accuracy: 0.9964 - val_loss: 0.0287 - val_accuracy: 0.9956\n",
      "Epoch 45/50\n",
      "4/4 [==============================] - 1s 151ms/step - loss: 0.0231 - accuracy: 0.9964 - val_loss: 0.0283 - val_accuracy: 0.9956\n",
      "Epoch 46/50\n",
      "4/4 [==============================] - 1s 149ms/step - loss: 0.0230 - accuracy: 0.9964 - val_loss: 0.0282 - val_accuracy: 0.9956\n",
      "Epoch 47/50\n",
      "4/4 [==============================] - 1s 180ms/step - loss: 0.0228 - accuracy: 0.9964 - val_loss: 0.0280 - val_accuracy: 0.9956\n",
      "Epoch 48/50\n",
      "4/4 [==============================] - 1s 157ms/step - loss: 0.0227 - accuracy: 0.9964 - val_loss: 0.0277 - val_accuracy: 0.9956\n",
      "Epoch 49/50\n",
      "4/4 [==============================] - 1s 151ms/step - loss: 0.0225 - accuracy: 0.9964 - val_loss: 0.0277 - val_accuracy: 0.9956\n",
      "Epoch 50/50\n",
      "4/4 [==============================] - 1s 147ms/step - loss: 0.0224 - accuracy: 0.9964 - val_loss: 0.0274 - val_accuracy: 0.9956\n"
     ]
    },
    {
     "data": {
      "text/plain": [
       "<keras.callbacks.History at 0x7f56fa639150>"
      ]
     },
     "execution_count": 30,
     "metadata": {},
     "output_type": "execute_result"
    }
   ],
   "source": [
    "tensorboard_callback= TensorBoard(log_dir=\"logs\") \n",
    "\n",
    "model.fit(\n",
    "    X_train,\n",
    "    y_train,\n",
    "    epochs=50, \n",
    "    batch_size=15000, \n",
    "    validation_split=0.05, \n",
    "    callbacks=[tensorboard_callback]\n",
    ")"
   ]
  },
  {
   "cell_type": "markdown",
   "id": "2b06e98d",
   "metadata": {
    "id": "j3f7cQjlWKYm",
    "papermill": {
     "duration": 0.176188,
     "end_time": "2022-03-10T10:48:39.977167",
     "exception": false,
     "start_time": "2022-03-10T10:48:39.800979",
     "status": "completed"
    },
    "tags": []
   },
   "source": [
    "## Evaluación y visualización de resultados\n"
   ]
  },
  {
   "cell_type": "code",
   "execution_count": 31,
   "id": "35dcc1d6",
   "metadata": {
    "execution": {
     "iopub.execute_input": "2022-03-10T10:48:40.337813Z",
     "iopub.status.busy": "2022-03-10T10:48:40.334492Z",
     "iopub.status.idle": "2022-03-10T10:48:40.837021Z",
     "shell.execute_reply": "2022-03-10T10:48:40.838263Z"
    },
    "id": "SeJRTg7wOs9f",
    "outputId": "eb7adf7d-3de6-4c5c-d055-e0a258325f45",
    "papermill": {
     "duration": 0.683168,
     "end_time": "2022-03-10T10:48:40.838489",
     "exception": false,
     "start_time": "2022-03-10T10:48:40.155321",
     "status": "completed"
    },
    "tags": []
   },
   "outputs": [
    {
     "name": "stdout",
     "output_type": "stream",
     "text": [
      "205/205 [==============================] - 0s 2ms/step - loss: 0.0211 - accuracy: 0.9963\n",
      "0.02114724926650524\n",
      "0.9963381290435791\n"
     ]
    }
   ],
   "source": [
    "#Hará la evaluación según la métrica y función de loss entrenada\n",
    "test_loss,test_acc= model.evaluate(X_test,y_test)\n",
    "print(test_loss)\n",
    "print(test_acc)"
   ]
  },
  {
   "cell_type": "code",
   "execution_count": 32,
   "id": "dd9da4f3",
   "metadata": {
    "execution": {
     "iopub.execute_input": "2022-03-10T10:48:41.245051Z",
     "iopub.status.busy": "2022-03-10T10:48:41.244063Z",
     "iopub.status.idle": "2022-03-10T10:48:46.293376Z",
     "shell.execute_reply": "2022-03-10T10:48:46.294144Z"
    },
    "id": "RuhP_ZS7WQ4E",
    "outputId": "8c30ea00-ec2c-4fa4-d90b-439652e7fd24",
    "papermill": {
     "duration": 5.269597,
     "end_time": "2022-03-10T10:48:46.294383",
     "exception": false,
     "start_time": "2022-03-10T10:48:41.024786",
     "status": "completed"
    },
    "tags": []
   },
   "outputs": [
    {
     "data": {
      "text/html": [
       "\n",
       "      <iframe id=\"tensorboard-frame-c5cb0329fb7f041c\" width=\"100%\" height=\"800\" frameborder=\"0\">\n",
       "      </iframe>\n",
       "      <script>\n",
       "        (function() {\n",
       "          const frame = document.getElementById(\"tensorboard-frame-c5cb0329fb7f041c\");\n",
       "          const url = new URL(\"/\", window.location);\n",
       "          const port = 6006;\n",
       "          if (port) {\n",
       "            url.port = port;\n",
       "          }\n",
       "          frame.src = url;\n",
       "        })();\n",
       "      </script>\n",
       "    "
      ],
      "text/plain": [
       "<IPython.core.display.HTML object>"
      ]
     },
     "metadata": {},
     "output_type": "display_data"
    }
   ],
   "source": [
    "%tensorboard --logdir logs"
   ]
  },
  {
   "cell_type": "code",
   "execution_count": 33,
   "id": "ff7cb4df",
   "metadata": {
    "execution": {
     "iopub.execute_input": "2022-03-10T10:48:46.668412Z",
     "iopub.status.busy": "2022-03-10T10:48:46.667075Z",
     "iopub.status.idle": "2022-03-10T10:48:47.230627Z",
     "shell.execute_reply": "2022-03-10T10:48:47.230027Z"
    },
    "id": "HoxNgMuiYfWi",
    "outputId": "34b4d09d-81d4-48aa-eac6-886568b48688",
    "papermill": {
     "duration": 0.750763,
     "end_time": "2022-03-10T10:48:47.230785",
     "exception": false,
     "start_time": "2022-03-10T10:48:46.480022",
     "status": "completed"
    },
    "tags": []
   },
   "outputs": [
    {
     "name": "stdout",
     "output_type": "stream",
     "text": [
      "              precision    recall  f1-score   support\n",
      "\n",
      "           0       1.00      1.00      1.00      3756\n",
      "           1       1.00      1.00      1.00      1276\n",
      "           2       0.99      0.99      0.99      1517\n",
      "           3       0.00      0.00      0.00         5\n",
      "\n",
      "   micro avg       1.00      1.00      1.00      6554\n",
      "   macro avg       0.75      0.75      0.75      6554\n",
      "weighted avg       1.00      1.00      1.00      6554\n",
      " samples avg       1.00      1.00      1.00      6554\n",
      "\n"
     ]
    },
    {
     "name": "stderr",
     "output_type": "stream",
     "text": [
      "/opt/conda/lib/python3.7/site-packages/sklearn/metrics/_classification.py:1308: UndefinedMetricWarning: Precision and F-score are ill-defined and being set to 0.0 in labels with no predicted samples. Use `zero_division` parameter to control this behavior.\n",
      "  _warn_prf(average, modifier, msg_start, len(result))\n"
     ]
    }
   ],
   "source": [
    "report = classification_report(y_test, tf.math.round(model.predict(X_test)) )\n",
    "print(report)"
   ]
  },
  {
   "cell_type": "markdown",
   "id": "908f9515",
   "metadata": {
    "id": "HbAPmRcpZrLJ",
    "papermill": {
     "duration": 0.184513,
     "end_time": "2022-03-10T10:48:47.609412",
     "exception": false,
     "start_time": "2022-03-10T10:48:47.424899",
     "status": "completed"
    },
    "tags": []
   },
   "source": [
    "## Conclusiones\n",
    "Hemos hecho un buen trabajo, hemos conseguido obtener buenas métricas excepto en el apartado de macro avg pero es debido a la categoría reset-both que como vemos hemos tenido tan pocos datos de ella en el entrenamiento que luego nuestro modelo no ha sabido clasificarla correctamente. A pesar de ello hemos hecho un buen trabajo."
   ]
  },
  {
   "cell_type": "code",
   "execution_count": null,
   "id": "8ec514a9",
   "metadata": {
    "id": "eOmJyqKGaYvX",
    "papermill": {
     "duration": 0.185863,
     "end_time": "2022-03-10T10:48:47.978524",
     "exception": false,
     "start_time": "2022-03-10T10:48:47.792661",
     "status": "completed"
    },
    "tags": []
   },
   "outputs": [],
   "source": []
  }
 ],
 "metadata": {
  "kernelspec": {
   "display_name": "Python 3",
   "language": "python",
   "name": "python3"
  },
  "language_info": {
   "codemirror_mode": {
    "name": "ipython",
    "version": 3
   },
   "file_extension": ".py",
   "mimetype": "text/x-python",
   "name": "python",
   "nbconvert_exporter": "python",
   "pygments_lexer": "ipython3",
   "version": "3.7.12"
  },
  "papermill": {
   "default_parameters": {},
   "duration": 110.764357,
   "end_time": "2022-03-10T10:48:51.421618",
   "environment_variables": {},
   "exception": null,
   "input_path": "__notebook__.ipynb",
   "output_path": "__notebook__.ipynb",
   "parameters": {},
   "start_time": "2022-03-10T10:47:00.657261",
   "version": "2.3.3"
  }
 },
 "nbformat": 4,
 "nbformat_minor": 5
}
