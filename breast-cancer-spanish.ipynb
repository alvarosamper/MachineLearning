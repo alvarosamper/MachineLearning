{
 "cells": [
  {
   "cell_type": "markdown",
   "id": "55affa2c",
   "metadata": {
    "papermill": {
     "duration": 0.038527,
     "end_time": "2021-08-16T09:03:44.398300",
     "exception": false,
     "start_time": "2021-08-16T09:03:44.359773",
     "status": "completed"
    },
    "tags": []
   },
   "source": [
    "# Breast Cancer Wisconsin"
   ]
  },
  {
   "cell_type": "markdown",
   "id": "837aa3e2",
   "metadata": {
    "papermill": {
     "duration": 0.035986,
     "end_time": "2021-08-16T09:03:44.472286",
     "exception": false,
     "start_time": "2021-08-16T09:03:44.436300",
     "status": "completed"
    },
    "tags": []
   },
   "source": [
    "## Define el problema y sus objetivos"
   ]
  },
  {
   "cell_type": "markdown",
   "id": "eb110dab",
   "metadata": {
    "papermill": {
     "duration": 0.034087,
     "end_time": "2021-08-16T09:03:44.541487",
     "exception": false,
     "start_time": "2021-08-16T09:03:44.507400",
     "status": "completed"
    },
    "tags": []
   },
   "source": [
    "El objetivo de nuestro estudio va a ser realizar un módelo que según una serie de características que han sido tomadas del nucleo celular sea capaz de predecir el diagnóstico simplemente analizando estas características."
   ]
  },
  {
   "cell_type": "markdown",
   "id": "09010b87",
   "metadata": {
    "papermill": {
     "duration": 0.035086,
     "end_time": "2021-08-16T09:03:44.610071",
     "exception": false,
     "start_time": "2021-08-16T09:03:44.574985",
     "status": "completed"
    },
    "tags": []
   },
   "source": [
    "## Carga y explicación del problema "
   ]
  },
  {
   "cell_type": "code",
   "execution_count": 1,
   "id": "4c0399dc",
   "metadata": {
    "execution": {
     "iopub.execute_input": "2021-08-16T09:03:44.695005Z",
     "iopub.status.busy": "2021-08-16T09:03:44.689510Z",
     "iopub.status.idle": "2021-08-16T09:03:47.374709Z",
     "shell.execute_reply": "2021-08-16T09:03:47.373912Z",
     "shell.execute_reply.started": "2021-08-16T09:02:19.200909Z"
    },
    "papermill": {
     "duration": 2.730222,
     "end_time": "2021-08-16T09:03:47.374875",
     "exception": false,
     "start_time": "2021-08-16T09:03:44.644653",
     "status": "completed"
    },
    "tags": []
   },
   "outputs": [],
   "source": [
    "import pandas as pd\n",
    "import numpy as np\n",
    "\n",
    "import seaborn as sns\n",
    "import matplotlib.pyplot as plt\n",
    "%matplotlib inline \n",
    "import plotly.express as px\n",
    "import plotly.graph_objects as go\n",
    "plt.rcParams['figure.figsize'] = 20, 16\n",
    "plt.style.use(\"fivethirtyeight\")\n",
    "pd.options.plotting.backend = \"plotly\"\n",
    "\n",
    "\n",
    "#Modelos\n",
    "from sklearn.model_selection import train_test_split\n",
    "from sklearn.tree import DecisionTreeClassifier\n",
    "from sklearn.linear_model import LogisticRegression\n",
    "from sklearn.svm import SVC\n",
    "from sklearn.ensemble import RandomForestClassifier\n",
    "from sklearn.neighbors import KNeighborsClassifier\n",
    "from sklearn.naive_bayes import GaussianNB\n",
    "\n",
    "from sklearn.metrics import accuracy_score,plot_confusion_matrix,classification_report"
   ]
  },
  {
   "cell_type": "code",
   "execution_count": 2,
   "id": "a45310ce",
   "metadata": {
    "execution": {
     "iopub.execute_input": "2021-08-16T09:03:47.445777Z",
     "iopub.status.busy": "2021-08-16T09:03:47.445133Z",
     "iopub.status.idle": "2021-08-16T09:03:47.460061Z",
     "shell.execute_reply": "2021-08-16T09:03:47.460514Z",
     "shell.execute_reply.started": "2021-08-16T09:02:28.298505Z"
    },
    "papermill": {
     "duration": 0.052588,
     "end_time": "2021-08-16T09:03:47.460723",
     "exception": false,
     "start_time": "2021-08-16T09:03:47.408135",
     "status": "completed"
    },
    "tags": []
   },
   "outputs": [],
   "source": [
    "data=pd.read_csv(\"../input/breast-cancer-prediction-dataset/Breast_cancer_data.csv\")"
   ]
  },
  {
   "cell_type": "code",
   "execution_count": 3,
   "id": "0412169c",
   "metadata": {
    "execution": {
     "iopub.execute_input": "2021-08-16T09:03:47.540221Z",
     "iopub.status.busy": "2021-08-16T09:03:47.539535Z",
     "iopub.status.idle": "2021-08-16T09:03:47.562460Z",
     "shell.execute_reply": "2021-08-16T09:03:47.561973Z",
     "shell.execute_reply.started": "2021-08-16T09:02:29.166925Z"
    },
    "papermill": {
     "duration": 0.067229,
     "end_time": "2021-08-16T09:03:47.562613",
     "exception": false,
     "start_time": "2021-08-16T09:03:47.495384",
     "status": "completed"
    },
    "tags": []
   },
   "outputs": [
    {
     "data": {
      "text/html": [
       "<div>\n",
       "<style scoped>\n",
       "    .dataframe tbody tr th:only-of-type {\n",
       "        vertical-align: middle;\n",
       "    }\n",
       "\n",
       "    .dataframe tbody tr th {\n",
       "        vertical-align: top;\n",
       "    }\n",
       "\n",
       "    .dataframe thead th {\n",
       "        text-align: right;\n",
       "    }\n",
       "</style>\n",
       "<table border=\"1\" class=\"dataframe\">\n",
       "  <thead>\n",
       "    <tr style=\"text-align: right;\">\n",
       "      <th></th>\n",
       "      <th>mean_radius</th>\n",
       "      <th>mean_texture</th>\n",
       "      <th>mean_perimeter</th>\n",
       "      <th>mean_area</th>\n",
       "      <th>mean_smoothness</th>\n",
       "      <th>diagnosis</th>\n",
       "    </tr>\n",
       "  </thead>\n",
       "  <tbody>\n",
       "    <tr>\n",
       "      <th>0</th>\n",
       "      <td>17.99</td>\n",
       "      <td>10.38</td>\n",
       "      <td>122.80</td>\n",
       "      <td>1001.0</td>\n",
       "      <td>0.11840</td>\n",
       "      <td>0</td>\n",
       "    </tr>\n",
       "    <tr>\n",
       "      <th>1</th>\n",
       "      <td>20.57</td>\n",
       "      <td>17.77</td>\n",
       "      <td>132.90</td>\n",
       "      <td>1326.0</td>\n",
       "      <td>0.08474</td>\n",
       "      <td>0</td>\n",
       "    </tr>\n",
       "    <tr>\n",
       "      <th>2</th>\n",
       "      <td>19.69</td>\n",
       "      <td>21.25</td>\n",
       "      <td>130.00</td>\n",
       "      <td>1203.0</td>\n",
       "      <td>0.10960</td>\n",
       "      <td>0</td>\n",
       "    </tr>\n",
       "    <tr>\n",
       "      <th>3</th>\n",
       "      <td>11.42</td>\n",
       "      <td>20.38</td>\n",
       "      <td>77.58</td>\n",
       "      <td>386.1</td>\n",
       "      <td>0.14250</td>\n",
       "      <td>0</td>\n",
       "    </tr>\n",
       "    <tr>\n",
       "      <th>4</th>\n",
       "      <td>20.29</td>\n",
       "      <td>14.34</td>\n",
       "      <td>135.10</td>\n",
       "      <td>1297.0</td>\n",
       "      <td>0.10030</td>\n",
       "      <td>0</td>\n",
       "    </tr>\n",
       "  </tbody>\n",
       "</table>\n",
       "</div>"
      ],
      "text/plain": [
       "   mean_radius  mean_texture  mean_perimeter  mean_area  mean_smoothness  \\\n",
       "0        17.99         10.38          122.80     1001.0          0.11840   \n",
       "1        20.57         17.77          132.90     1326.0          0.08474   \n",
       "2        19.69         21.25          130.00     1203.0          0.10960   \n",
       "3        11.42         20.38           77.58      386.1          0.14250   \n",
       "4        20.29         14.34          135.10     1297.0          0.10030   \n",
       "\n",
       "   diagnosis  \n",
       "0          0  \n",
       "1          0  \n",
       "2          0  \n",
       "3          0  \n",
       "4          0  "
      ]
     },
     "execution_count": 3,
     "metadata": {},
     "output_type": "execute_result"
    }
   ],
   "source": [
    "data.head()"
   ]
  },
  {
   "cell_type": "markdown",
   "id": "f47a34ce",
   "metadata": {
    "papermill": {
     "duration": 0.034275,
     "end_time": "2021-08-16T09:03:47.631042",
     "exception": false,
     "start_time": "2021-08-16T09:03:47.596767",
     "status": "completed"
    },
    "tags": []
   },
   "source": [
    "Vamos a definir las columnas, cabe mencionar que estamos trabajando con los datos medios de las observaciones:\n",
    "* radius= radio observado\n",
    "* texture = desviación estándar de la escala de grises\n",
    "* permiter = el perímetro que ocupa el núcleo de la célula\n",
    "* area = área\n",
    "* smoothness= Podríamos traducirlo como la suavidad o textura\n",
    "* diagnosis = Es el diagnóstico que será una variable catagórico, tomando 0 como maligno y  como menigno 1"
   ]
  },
  {
   "cell_type": "markdown",
   "id": "163f5f65",
   "metadata": {
    "papermill": {
     "duration": 0.033473,
     "end_time": "2021-08-16T09:03:47.698666",
     "exception": false,
     "start_time": "2021-08-16T09:03:47.665193",
     "status": "completed"
    },
    "tags": []
   },
   "source": [
    "Vamos ahora a comprobar la cantidad de datos nulos o NAN que tenemos:"
   ]
  },
  {
   "cell_type": "code",
   "execution_count": 4,
   "id": "1e001d29",
   "metadata": {
    "execution": {
     "iopub.execute_input": "2021-08-16T09:03:47.786177Z",
     "iopub.status.busy": "2021-08-16T09:03:47.785444Z",
     "iopub.status.idle": "2021-08-16T09:03:47.789532Z",
     "shell.execute_reply": "2021-08-16T09:03:47.788989Z",
     "shell.execute_reply.started": "2021-08-16T09:02:31.503703Z"
    },
    "papermill": {
     "duration": 0.056532,
     "end_time": "2021-08-16T09:03:47.789683",
     "exception": false,
     "start_time": "2021-08-16T09:03:47.733151",
     "status": "completed"
    },
    "tags": []
   },
   "outputs": [
    {
     "name": "stdout",
     "output_type": "stream",
     "text": [
      "<class 'pandas.core.frame.DataFrame'>\n",
      "RangeIndex: 569 entries, 0 to 568\n",
      "Data columns (total 6 columns):\n",
      " #   Column           Non-Null Count  Dtype  \n",
      "---  ------           --------------  -----  \n",
      " 0   mean_radius      569 non-null    float64\n",
      " 1   mean_texture     569 non-null    float64\n",
      " 2   mean_perimeter   569 non-null    float64\n",
      " 3   mean_area        569 non-null    float64\n",
      " 4   mean_smoothness  569 non-null    float64\n",
      " 5   diagnosis        569 non-null    int64  \n",
      "dtypes: float64(5), int64(1)\n",
      "memory usage: 26.8 KB\n"
     ]
    }
   ],
   "source": [
    "data.info()"
   ]
  },
  {
   "cell_type": "markdown",
   "id": "b557a12b",
   "metadata": {
    "papermill": {
     "duration": 0.033714,
     "end_time": "2021-08-16T09:03:47.859340",
     "exception": false,
     "start_time": "2021-08-16T09:03:47.825626",
     "status": "completed"
    },
    "tags": []
   },
   "source": [
    "Observamos que afortunadamente tenemos unos datos completos y todos númericos."
   ]
  },
  {
   "cell_type": "code",
   "execution_count": 5,
   "id": "9d55c195",
   "metadata": {
    "execution": {
     "iopub.execute_input": "2021-08-16T09:03:47.936679Z",
     "iopub.status.busy": "2021-08-16T09:03:47.936037Z",
     "iopub.status.idle": "2021-08-16T09:03:47.963116Z",
     "shell.execute_reply": "2021-08-16T09:03:47.962579Z",
     "shell.execute_reply.started": "2021-08-16T09:02:32.558344Z"
    },
    "papermill": {
     "duration": 0.068912,
     "end_time": "2021-08-16T09:03:47.963255",
     "exception": false,
     "start_time": "2021-08-16T09:03:47.894343",
     "status": "completed"
    },
    "tags": []
   },
   "outputs": [
    {
     "data": {
      "text/html": [
       "<div>\n",
       "<style scoped>\n",
       "    .dataframe tbody tr th:only-of-type {\n",
       "        vertical-align: middle;\n",
       "    }\n",
       "\n",
       "    .dataframe tbody tr th {\n",
       "        vertical-align: top;\n",
       "    }\n",
       "\n",
       "    .dataframe thead th {\n",
       "        text-align: right;\n",
       "    }\n",
       "</style>\n",
       "<table border=\"1\" class=\"dataframe\">\n",
       "  <thead>\n",
       "    <tr style=\"text-align: right;\">\n",
       "      <th></th>\n",
       "      <th>mean_radius</th>\n",
       "      <th>mean_texture</th>\n",
       "      <th>mean_perimeter</th>\n",
       "      <th>mean_area</th>\n",
       "      <th>mean_smoothness</th>\n",
       "      <th>diagnosis</th>\n",
       "    </tr>\n",
       "  </thead>\n",
       "  <tbody>\n",
       "    <tr>\n",
       "      <th>count</th>\n",
       "      <td>569.000000</td>\n",
       "      <td>569.000000</td>\n",
       "      <td>569.000000</td>\n",
       "      <td>569.000000</td>\n",
       "      <td>569.000000</td>\n",
       "      <td>569.000000</td>\n",
       "    </tr>\n",
       "    <tr>\n",
       "      <th>mean</th>\n",
       "      <td>14.127292</td>\n",
       "      <td>19.289649</td>\n",
       "      <td>91.969033</td>\n",
       "      <td>654.889104</td>\n",
       "      <td>0.096360</td>\n",
       "      <td>0.627417</td>\n",
       "    </tr>\n",
       "    <tr>\n",
       "      <th>std</th>\n",
       "      <td>3.524049</td>\n",
       "      <td>4.301036</td>\n",
       "      <td>24.298981</td>\n",
       "      <td>351.914129</td>\n",
       "      <td>0.014064</td>\n",
       "      <td>0.483918</td>\n",
       "    </tr>\n",
       "    <tr>\n",
       "      <th>min</th>\n",
       "      <td>6.981000</td>\n",
       "      <td>9.710000</td>\n",
       "      <td>43.790000</td>\n",
       "      <td>143.500000</td>\n",
       "      <td>0.052630</td>\n",
       "      <td>0.000000</td>\n",
       "    </tr>\n",
       "    <tr>\n",
       "      <th>25%</th>\n",
       "      <td>11.700000</td>\n",
       "      <td>16.170000</td>\n",
       "      <td>75.170000</td>\n",
       "      <td>420.300000</td>\n",
       "      <td>0.086370</td>\n",
       "      <td>0.000000</td>\n",
       "    </tr>\n",
       "    <tr>\n",
       "      <th>50%</th>\n",
       "      <td>13.370000</td>\n",
       "      <td>18.840000</td>\n",
       "      <td>86.240000</td>\n",
       "      <td>551.100000</td>\n",
       "      <td>0.095870</td>\n",
       "      <td>1.000000</td>\n",
       "    </tr>\n",
       "    <tr>\n",
       "      <th>75%</th>\n",
       "      <td>15.780000</td>\n",
       "      <td>21.800000</td>\n",
       "      <td>104.100000</td>\n",
       "      <td>782.700000</td>\n",
       "      <td>0.105300</td>\n",
       "      <td>1.000000</td>\n",
       "    </tr>\n",
       "    <tr>\n",
       "      <th>max</th>\n",
       "      <td>28.110000</td>\n",
       "      <td>39.280000</td>\n",
       "      <td>188.500000</td>\n",
       "      <td>2501.000000</td>\n",
       "      <td>0.163400</td>\n",
       "      <td>1.000000</td>\n",
       "    </tr>\n",
       "  </tbody>\n",
       "</table>\n",
       "</div>"
      ],
      "text/plain": [
       "       mean_radius  mean_texture  mean_perimeter    mean_area  \\\n",
       "count   569.000000    569.000000      569.000000   569.000000   \n",
       "mean     14.127292     19.289649       91.969033   654.889104   \n",
       "std       3.524049      4.301036       24.298981   351.914129   \n",
       "min       6.981000      9.710000       43.790000   143.500000   \n",
       "25%      11.700000     16.170000       75.170000   420.300000   \n",
       "50%      13.370000     18.840000       86.240000   551.100000   \n",
       "75%      15.780000     21.800000      104.100000   782.700000   \n",
       "max      28.110000     39.280000      188.500000  2501.000000   \n",
       "\n",
       "       mean_smoothness   diagnosis  \n",
       "count       569.000000  569.000000  \n",
       "mean          0.096360    0.627417  \n",
       "std           0.014064    0.483918  \n",
       "min           0.052630    0.000000  \n",
       "25%           0.086370    0.000000  \n",
       "50%           0.095870    1.000000  \n",
       "75%           0.105300    1.000000  \n",
       "max           0.163400    1.000000  "
      ]
     },
     "execution_count": 5,
     "metadata": {},
     "output_type": "execute_result"
    }
   ],
   "source": [
    "#Vamos a observar alguna característica de los datos\n",
    "data.describe()"
   ]
  },
  {
   "cell_type": "markdown",
   "id": "4b0ff6df",
   "metadata": {
    "papermill": {
     "duration": 0.036599,
     "end_time": "2021-08-16T09:03:48.034224",
     "exception": false,
     "start_time": "2021-08-16T09:03:47.997625",
     "status": "completed"
    },
    "tags": []
   },
   "source": [
    "## Exploración de los datos"
   ]
  },
  {
   "cell_type": "markdown",
   "id": "2f6eca18",
   "metadata": {
    "papermill": {
     "duration": 0.034153,
     "end_time": "2021-08-16T09:03:48.103332",
     "exception": false,
     "start_time": "2021-08-16T09:03:48.069179",
     "status": "completed"
    },
    "tags": []
   },
   "source": [
    "Exceptuando la columna de diagnosis, podemos ver que son todo variables numerícas contínuas. Dado el caso, vamos a optar por correlacionar características numéricas mediante la visualización, para ver si acabamos haciendo categóricas algunas variables."
   ]
  },
  {
   "cell_type": "code",
   "execution_count": 6,
   "id": "e0cfe05d",
   "metadata": {
    "execution": {
     "iopub.execute_input": "2021-08-16T09:03:48.194389Z",
     "iopub.status.busy": "2021-08-16T09:03:48.193401Z",
     "iopub.status.idle": "2021-08-16T09:03:50.218960Z",
     "shell.execute_reply": "2021-08-16T09:03:50.218364Z",
     "shell.execute_reply.started": "2021-08-16T09:02:34.149668Z"
    },
    "papermill": {
     "duration": 2.08119,
     "end_time": "2021-08-16T09:03:50.219110",
     "exception": false,
     "start_time": "2021-08-16T09:03:48.137920",
     "status": "completed"
    },
    "tags": []
   },
   "outputs": [
    {
     "data": {
      "image/png": "[encoded data removed]",
      "text/plain": [
       "<Figure size 432x216 with 2 Axes>"
      ]
     },
     "metadata": {},
     "output_type": "display_data"
    },
    {
     "data": {
      "image/png": "[encoded data removed]",
      "text/plain": [
       "<Figure size 432x216 with 2 Axes>"
      ]
     },
     "metadata": {},
     "output_type": "display_data"
    },
    {
     "data": {
      "image/png": "[encoded data removed]",
      "text/plain": [
       "<Figure size 432x216 with 2 Axes>"
      ]
     },
     "metadata": {},
     "output_type": "display_data"
    },
    {
     "data": {
      "image/png": "[encoded data removed]",
      "text/plain": [
       "<Figure size 432x216 with 2 Axes>"
      ]
     },
     "metadata": {},
     "output_type": "display_data"
    },
    {
     "data": {
      "image/png": "[encoded data removed]",
      "text/plain": [
       "<Figure size 432x216 with 2 Axes>"
      ]
     },
     "metadata": {},
     "output_type": "display_data"
    }
   ],
   "source": [
    "for columna in data.drop([\"diagnosis\"],axis=1).columns.values.tolist():\n",
    "    g= sns.FacetGrid(data, col=\"diagnosis\")\n",
    "    g.map(plt.hist, columna ,bins=20)"
   ]
  },
  {
   "cell_type": "markdown",
   "id": "65e0ff7b",
   "metadata": {
    "papermill": {
     "duration": 0.037723,
     "end_time": "2021-08-16T09:03:50.295950",
     "exception": false,
     "start_time": "2021-08-16T09:03:50.258227",
     "status": "completed"
    },
    "tags": []
   },
   "source": [
    "Con una primera visualización, podemos ver que realmente todas nuestras columnas parecen tener relevancia. \n"
   ]
  },
  {
   "cell_type": "markdown",
   "id": "0c096ab3",
   "metadata": {
    "papermill": {
     "duration": 0.036881,
     "end_time": "2021-08-16T09:03:50.370185",
     "exception": false,
     "start_time": "2021-08-16T09:03:50.333304",
     "status": "completed"
    },
    "tags": []
   },
   "source": [
    "No obstante, hay una cosa que me llama la atención, ya que como estamos trabajando con los núcleos de las células y aún no sabiendo mucho acerca de biología pueden ser bastante circulares. Lo que quiero decir con esto es que seguramente, el radio esté relacionado con el área y el perímetro, para ello vamos a realizar unas representaciones."
   ]
  },
  {
   "cell_type": "code",
   "execution_count": 7,
   "id": "941d1e60",
   "metadata": {
    "execution": {
     "iopub.execute_input": "2021-08-16T09:03:50.451975Z",
     "iopub.status.busy": "2021-08-16T09:03:50.451172Z",
     "iopub.status.idle": "2021-08-16T09:03:51.796792Z",
     "shell.execute_reply": "2021-08-16T09:03:51.796192Z",
     "shell.execute_reply.started": "2021-08-16T09:02:36.390254Z"
    },
    "papermill": {
     "duration": 1.389415,
     "end_time": "2021-08-16T09:03:51.796942",
     "exception": false,
     "start_time": "2021-08-16T09:03:50.407527",
     "status": "completed"
    },
    "tags": []
   },
   "outputs": [
    {
     "data": {
      "text/html": [
       "        <script type=\"text/javascript\">\n",
       "        window.PlotlyConfig = {MathJaxConfig: 'local'};\n",
       "        if (window.MathJax) {MathJax.Hub.Config({SVG: {font: \"STIX-Web\"}});}\n",
       "        if (typeof require !== 'undefined') {\n",
       "        require.undef(\"plotly\");\n",
       "        requirejs.config({\n",
       "            paths: {\n",
       "                'plotly': ['https://cdn.plot.ly/plotly-2.2.0.min']\n",
       "            }\n",
       "        });\n",
       "        require(['plotly'], function(Plotly) {\n",
       "            window._Plotly = Plotly;\n",
       "        });\n",
       "        }\n",
       "        </script>\n",
       "        "
      ]
     },
     "metadata": {},
     "output_type": "display_data"
    },
    {
     "data": {
      "text/html": [
       "<div>                            <div id=\"2ad88483-ef0a-4326-af34-b6aab18b1f45\" class=\"plotly-graph-div\" style=\"height:525px; width:100%;\"></div>            <script type=\"text/javascript\">                require([\"plotly\"], function(Plotly) {                    window.PLOTLYENV=window.PLOTLYENV || {};                                    if (document.getElementById(\"2ad88483-ef0a-4326-af34-b6aab18b1f45\")) {                    Plotly.newPlot(                        \"2ad88483-ef0a-4326-af34-b6aab18b1f45\",                        [{\"dimensions\":[{\"axis\":{\"matches\":true},\"label\":\"mean_area\",\"values\":[1001.0,1326.0,1203.0,386.1,1297.0,477.1,1040.0,577.9,519.8,475.9,797.8,781.0,1123.0,782.7,578.3,658.8,684.5,798.8,1260.0,566.3,520.0,273.9,704.4,1404.0,904.6,912.7,644.8,1094.0,732.4,955.1,1088.0,440.6,899.3,1162.0,807.2,869.5,633.0,523.8,698.8,559.2,563.0,371.1,1104.0,545.2,531.5,1076.0,201.9,534.6,449.3,561.0,427.9,571.8,437.6,1033.0,712.8,409.0,1152.0,656.9,527.2,224.5,311.9,221.8,645.7,260.9,499.0,668.3,269.4,394.1,250.5,502.5,1130.0,244.0,929.4,584.1,470.9,817.7,559.2,1006.0,1245.0,506.3,401.5,520.0,1878.0,1132.0,443.3,1075.0,648.2,1076.0,466.1,651.9,662.7,728.2,551.7,555.1,705.6,1264.0,451.1,294.5,412.6,642.5,582.7,143.5,458.7,298.3,336.1,530.2,412.5,466.7,1509.0,396.5,290.2,480.4,629.9,334.2,230.9,438.6,245.2,682.5,782.6,982.0,403.3,1077.0,1761.0,640.7,553.5,588.7,572.6,1138.0,674.5,1192.0,455.8,748.9,809.8,761.7,1075.0,506.3,423.6,399.8,678.1,384.8,288.5,813.0,398.0,512.2,355.3,432.8,432.0,689.5,640.1,585.0,519.4,203.9,300.2,381.9,538.9,460.3,963.7,880.2,448.6,366.8,419.8,1157.0,1214.0,464.5,1686.0,690.2,357.6,886.3,984.6,685.9,464.1,565.4,736.9,372.7,349.6,227.2,302.4,832.9,526.4,508.8,2250.0,1311.0,766.6,402.0,710.6,317.5,1041.0,420.3,428.9,463.7,609.9,507.4,288.1,477.4,671.4,516.4,588.9,1024.0,1148.0,642.7,461.0,951.6,1685.0,597.8,481.9,716.6,295.4,904.3,529.4,725.5,1290.0,428.0,2499.0,948.0,610.7,578.9,432.2,321.2,1230.0,1223.0,568.9,561.3,313.1,761.3,546.4,641.2,329.6,684.5,496.4,503.2,895.0,395.7,386.8,1319.0,279.6,603.4,1670.0,1306.0,623.9,920.6,575.3,476.5,389.4,590.0,1155.0,337.7,541.6,512.2,347.0,406.3,1364.0,407.4,1206.0,928.2,1169.0,602.4,1207.0,713.3,773.5,744.9,1288.0,933.1,947.8,758.6,928.3,1419.0,346.4,561.0,512.2,344.9,632.6,388.0,1491.0,289.9,998.9,435.6,396.6,1102.0,572.3,587.4,1138.0,427.3,1145.0,805.1,516.6,489.0,441.0,515.9,394.1,396.0,651.0,687.3,513.7,432.7,492.1,582.7,363.7,431.1,633.1,334.2,1217.0,471.3,1247.0,334.3,403.1,417.2,537.3,246.3,566.2,530.6,418.7,664.9,504.1,409.1,221.2,481.6,461.4,1027.0,244.5,477.3,324.2,1274.0,504.8,1264.0,457.9,489.9,616.5,446.0,813.7,826.8,793.2,514.0,387.3,390.0,464.4,918.6,514.3,1092.0,310.8,1747.0,641.2,280.5,373.9,1194.0,420.3,321.6,445.3,668.7,402.7,426.7,421.0,758.6,2010.0,716.6,384.6,485.8,512.0,593.7,241.0,278.6,491.9,546.1,496.6,838.1,552.4,1293.0,1234.0,458.4,1546.0,1482.0,840.4,711.8,1386.0,1335.0,579.1,788.5,338.3,562.1,580.6,361.6,386.3,372.7,447.8,462.9,541.8,664.7,462.0,596.6,392.0,1174.0,321.6,234.3,744.7,1407.0,446.2,609.1,558.1,508.3,378.2,431.9,994.0,442.7,525.2,507.6,469.1,370.0,800.0,514.5,991.7,466.1,399.8,373.2,268.8,693.7,719.5,433.8,271.2,803.1,495.0,380.3,409.7,656.1,408.2,575.3,289.7,307.3,333.6,359.9,381.1,501.3,685.0,467.8,1250.0,1110.0,673.7,599.5,509.2,611.2,592.6,606.5,371.5,928.8,585.9,340.9,990.0,441.3,981.6,674.8,659.7,1384.0,432.0,1191.0,442.5,644.2,492.9,557.2,415.1,537.9,520.2,290.9,930.9,2501.0,646.1,412.7,537.3,542.9,536.9,286.3,980.5,408.8,289.1,449.9,686.9,465.4,358.9,506.9,618.4,599.4,404.9,815.8,455.3,602.9,546.3,571.1,747.2,476.7,666.0,1167.0,420.5,857.6,466.5,992.1,1007.0,477.3,538.7,680.9,485.6,480.1,1068.0,1320.0,689.4,595.9,476.3,1682.0,248.7,272.5,453.1,366.5,819.8,731.3,426.0,680.7,556.7,658.8,701.9,391.2,1052.0,1214.0,493.1,493.8,257.8,1841.0,388.1,571.0,293.2,221.3,551.1,468.5,594.2,445.2,422.9,416.2,575.5,1299.0,365.6,1308.0,629.8,406.4,178.8,170.4,402.9,656.4,668.6,538.4,584.8,573.2,324.9,320.8,285.7,361.6,360.5,378.4,507.9,264.0,514.3,321.4,311.7,271.3,657.1,403.5,600.4,386.0,716.9,1347.0,1479.0,1261.0,858.1,1265.0,181.0]},{\"axis\":{\"matches\":true},\"label\":\"mean_perimeter\",\"values\":[122.8,132.9,130.0,77.58,135.1,82.57,119.6,90.2,87.5,83.97,102.7,103.6,132.4,103.7,93.6,96.73,94.74,108.1,130.0,87.46,85.63,60.34,102.5,137.2,110.0,116.0,97.41,122.1,102.4,115.0,124.8,77.93,112.8,127.9,107.0,110.1,93.63,82.61,95.54,88.4,86.18,71.9,128.3,87.32,85.42,123.7,51.71,85.98,78.04,86.91,74.72,87.21,75.71,120.3,97.26,73.34,125.5,95.55,82.61,54.34,64.55,54.66,96.42,59.2,82.69,97.4,60.11,71.8,58.79,81.37,123.6,58.79,114.2,90.43,79.19,104.1,87.91,120.2,143.7,83.19,73.81,86.49,171.5,129.1,76.95,121.1,94.25,122.0,79.78,95.77,94.57,100.2,84.74,86.6,100.3,132.4,77.79,62.11,74.34,94.48,88.05,43.79,77.22,63.95,67.41,87.21,75.17,79.01,152.8,72.48,62.5,82.15,97.83,68.64,55.84,76.53,58.74,98.64,105.7,114.2,73.34,121.4,166.2,94.28,86.1,88.44,87.76,123.4,99.58,130.4,79.08,101.7,106.2,102.0,120.2,81.72,74.72,73.06,96.85,73.0,61.24,105.1,73.66,83.74,68.26,78.11,78.99,97.84,93.97,88.12,83.51,53.27,63.78,70.87,85.31,78.27,117.4,108.4,76.84,68.69,76.1,126.3,130.7,79.85,152.1,95.5,68.77,109.3,116.1,96.22,78.85,85.84,102.5,70.21,67.49,54.42,64.6,109.3,82.01,81.29,182.1,142.7,101.2,73.53,98.92,63.76,118.6,74.68,75.27,78.83,94.37,82.02,60.73,81.15,100.4,82.53,90.63,117.4,127.5,94.49,78.54,115.1,158.9,91.56,81.09,98.78,62.92,109.7,87.02,98.17,134.7,75.51,188.5,114.5,92.87,90.96,77.32,65.05,129.7,128.0,87.88,88.59,65.12,102.6,84.55,92.51,66.62,97.45,81.35,85.26,113.4,71.76,70.79,134.4,60.21,89.79,153.5,132.5,92.55,113.4,87.38,78.61,73.93,88.54,129.1,66.72,84.13,84.95,68.01,73.87,138.9,73.28,130.7,113.0,126.5,91.43,133.6,103.2,110.2,103.7,132.9,111.0,114.4,100.0,111.6,135.7,69.28,87.16,82.38,69.5,90.3,72.23,147.3,61.5,115.2,76.2,71.79,120.9,86.24,88.99,126.2,74.24,127.2,108.8,84.08,79.83,77.87,81.89,73.72,72.17,96.03,97.03,83.14,75.54,81.78,88.06,69.14,75.0,91.22,66.85,129.5,80.43,134.7,66.86,73.59,74.23,84.07,56.36,85.69,82.71,74.33,92.68,82.29,73.73,54.09,79.19,77.25,118.7,60.07,78.6,66.52,131.1,82.82,135.9,78.01,81.25,90.03,76.09,106.9,107.5,105.8,84.52,71.94,71.38,77.88,111.8,84.08,122.9,64.41,155.1,94.15,61.64,71.49,129.9,75.03,66.2,76.66,94.87,73.02,77.23,73.7,107.1,174.2,98.0,71.24,81.92,85.09,88.52,56.74,59.82,79.42,85.24,81.87,106.6,85.48,133.8,133.7,78.31,140.9,147.2,109.0,97.65,141.3,134.8,87.84,106.3,70.15,85.89,88.27,73.3,73.16,70.67,78.75,80.64,85.79,93.97,78.78,88.37,73.38,128.9,65.75,55.27,102.4,144.4,78.07,89.75,88.1,83.05,70.31,75.26,124.4,76.14,84.18,83.18,78.29,70.39,104.3,82.63,117.8,78.41,72.49,70.92,59.75,97.53,96.71,76.39,59.6,102.9,80.88,70.95,74.2,98.22,75.46,89.46,61.93,63.19,67.49,68.79,70.47,80.98,102.1,81.47,133.8,123.7,94.89,91.12,82.67,89.78,88.68,89.59,71.73,112.4,88.37,66.82,117.5,77.61,117.3,95.88,94.25,138.1,76.83,127.7,76.77,93.86,80.62,86.34,74.87,84.1,82.61,61.68,111.2,186.9,92.25,73.88,84.28,86.87,85.98,61.06,119.0,76.38,61.49,76.85,96.45,77.42,70.41,82.89,92.41,88.97,73.99,109.8,78.29,88.73,87.32,87.76,102.8,82.85,94.21,128.1,75.49,107.1,78.18,114.6,118.4,78.83,84.06,96.12,82.69,80.45,121.3,137.8,98.73,92.33,81.25,152.1,61.49,64.12,79.47,71.25,104.7,103.8,76.31,94.66,88.64,94.29,97.26,72.76,120.8,130.5,84.45,82.51,59.96,165.5,71.3,88.73,63.0,54.53,87.44,78.94,90.31,77.83,75.89,75.21,87.76,134.7,70.79,137.8,93.77,76.37,47.98,48.34,74.65,95.81,94.7,84.88,89.77,87.19,65.31,65.85,61.05,68.89,68.51,71.49,81.35,59.01,82.5,65.67,64.73,59.26,96.39,74.52,91.38,70.67,103.4,143.0,142.0,131.2,108.3,140.1,47.92]},{\"axis\":{\"matches\":true},\"label\":\"mean_radius\",\"values\":[17.99,20.57,19.69,11.42,20.29,12.45,18.25,13.71,13.0,12.46,16.02,15.78,19.17,15.85,13.73,14.54,14.68,16.13,19.81,13.54,13.08,9.504,15.34,21.16,16.65,17.14,14.58,18.61,15.3,17.57,18.63,11.84,17.02,19.27,16.13,16.74,14.25,13.03,14.99,13.48,13.44,10.95,19.07,13.28,13.17,18.65,8.196,13.17,12.05,13.49,11.76,13.64,11.94,18.22,15.1,11.52,19.21,14.71,13.05,8.618,10.17,8.598,14.25,9.173,12.68,14.78,9.465,11.31,9.029,12.78,18.94,8.888,17.2,13.8,12.31,16.07,13.53,18.05,20.18,12.86,11.45,13.34,25.22,19.1,12.0,18.46,14.48,19.02,12.36,14.64,14.62,15.37,13.27,13.45,15.06,20.26,12.18,9.787,11.6,14.42,13.61,6.981,12.18,9.876,10.49,13.11,11.64,12.36,22.27,11.34,9.777,12.63,14.26,10.51,8.726,11.93,8.95,14.87,15.78,17.95,11.41,18.66,24.25,14.5,13.37,13.85,13.61,19.0,15.1,19.79,12.19,15.46,16.16,15.71,18.45,12.77,11.71,11.43,14.95,11.28,9.738,16.11,11.43,12.9,10.75,11.9,11.8,14.95,14.44,13.74,13.0,8.219,9.731,11.15,13.15,12.25,17.68,16.84,12.06,10.9,11.75,19.19,19.59,12.34,23.27,14.97,10.8,16.78,17.47,14.97,12.32,13.43,15.46,11.08,10.66,8.671,9.904,16.46,13.01,12.81,27.22,21.09,15.7,11.41,15.28,10.08,18.31,11.71,11.81,12.3,14.22,12.77,9.72,12.34,14.86,12.91,13.77,18.08,19.18,14.45,12.23,17.54,23.29,13.81,12.47,15.12,9.876,17.01,13.11,15.27,20.58,11.84,28.11,17.42,14.19,13.86,11.89,10.2,19.8,19.53,13.65,13.56,10.18,15.75,13.27,14.34,10.44,15.0,12.62,12.83,17.05,11.32,11.22,20.51,9.567,14.03,23.21,20.48,14.22,17.46,13.64,12.42,11.3,13.75,19.4,10.48,13.2,12.89,10.65,11.52,20.94,11.5,19.73,17.3,19.45,13.96,19.55,15.32,15.66,15.53,20.31,17.35,17.29,15.61,17.19,20.73,10.6,13.59,12.87,10.71,14.29,11.29,21.75,9.742,17.93,11.89,11.33,18.81,13.59,13.85,19.16,11.74,19.4,16.24,12.89,12.58,11.94,12.89,11.26,11.37,14.41,14.96,12.95,11.85,12.72,13.77,10.91,11.76,14.26,10.51,19.53,12.46,20.09,10.49,11.46,11.6,13.2,9.0,13.5,13.05,11.7,14.61,12.76,11.54,8.597,12.49,12.18,18.22,9.042,12.43,10.25,20.16,12.86,20.34,12.2,12.67,14.11,12.03,16.27,16.26,16.03,12.98,11.22,11.25,12.3,17.06,12.99,18.77,10.05,23.51,14.42,9.606,11.06,19.68,11.71,10.26,12.06,14.76,11.47,11.95,11.66,15.75,25.73,15.08,11.14,12.56,13.05,13.87,8.878,9.436,12.54,13.3,12.76,16.5,13.4,20.44,20.2,12.21,21.71,22.01,16.35,15.19,21.37,20.64,13.69,16.17,10.57,13.46,13.66,11.08,11.27,11.04,12.05,12.39,13.28,14.6,12.21,13.88,11.27,19.55,10.26,8.734,15.49,21.61,12.1,14.06,13.51,12.8,11.06,11.8,17.91,11.93,12.96,12.94,12.34,10.94,16.14,12.85,17.99,12.27,11.36,11.04,9.397,14.99,15.13,11.89,9.405,15.5,12.7,11.16,11.57,14.69,11.61,13.66,9.742,10.03,10.48,10.8,11.13,12.72,14.9,12.4,20.18,18.82,14.86,13.98,12.87,14.04,13.85,14.02,10.97,17.27,13.78,10.57,18.03,11.99,17.75,14.8,14.53,21.1,11.87,19.59,12.0,14.53,12.62,13.38,11.63,13.21,13.0,9.755,17.08,27.42,14.4,11.6,13.17,13.24,13.14,9.668,17.6,11.62,9.667,12.04,14.92,12.27,10.88,12.83,14.2,13.9,11.49,16.25,12.16,13.9,13.47,13.7,15.73,12.45,14.64,19.44,11.68,16.69,12.25,17.85,18.01,12.46,13.16,14.87,12.65,12.47,18.49,20.59,15.04,13.82,12.54,23.09,9.268,9.676,12.22,11.06,16.3,15.46,11.74,14.81,13.4,14.58,15.05,11.34,18.31,19.89,12.88,12.75,9.295,24.63,11.26,13.71,9.847,8.571,13.46,12.34,13.94,12.07,11.75,11.67,13.68,20.47,10.96,20.55,14.27,11.69,7.729,7.691,11.54,14.47,14.74,13.21,13.87,13.62,10.32,10.26,9.683,10.82,10.86,11.13,12.77,9.333,12.88,10.29,10.16,9.423,14.59,11.51,14.05,11.2,15.22,20.92,21.56,20.13,16.6,20.6,7.76]}],\"hovertemplate\":\"%{xaxis.title.text}=%{x}<br>%{yaxis.title.text}=%{y}<extra></extra>\",\"legendgroup\":\"\",\"marker\":{\"color\":\"#636efa\",\"symbol\":\"circle\"},\"name\":\"\",\"showlegend\":false,\"type\":\"splom\"}],                        {\"dragmode\":\"select\",\"legend\":{\"tracegroupgap\":0},\"margin\":{\"t\":60},\"template\":{\"data\":{\"bar\":[{\"error_x\":{\"color\":\"#2a3f5f\"},\"error_y\":{\"color\":\"#2a3f5f\"},\"marker\":{\"line\":{\"color\":\"#E5ECF6\",\"width\":0.5},\"pattern\":{\"fillmode\":\"overlay\",\"size\":10,\"solidity\":0.2}},\"type\":\"bar\"}],\"barpolar\":[{\"marker\":{\"line\":{\"color\":\"#E5ECF6\",\"width\":0.5},\"pattern\":{\"fillmode\":\"overlay\",\"size\":10,\"solidity\":0.2}},\"type\":\"barpolar\"}],\"carpet\":[{\"aaxis\":{\"endlinecolor\":\"#2a3f5f\",\"gridcolor\":\"white\",\"linecolor\":\"white\",\"minorgridcolor\":\"white\",\"startlinecolor\":\"#2a3f5f\"},\"baxis\":{\"endlinecolor\":\"#2a3f5f\",\"gridcolor\":\"white\",\"linecolor\":\"white\",\"minorgridcolor\":\"white\",\"startlinecolor\":\"#2a3f5f\"},\"type\":\"carpet\"}],\"choropleth\":[{\"colorbar\":{\"outlinewidth\":0,\"ticks\":\"\"},\"type\":\"choropleth\"}],\"contour\":[{\"colorbar\":{\"outlinewidth\":0,\"ticks\":\"\"},\"colorscale\":[[0.0,\"#0d0887\"],[0.1111111111111111,\"#46039f\"],[0.2222222222222222,\"#7201a8\"],[0.3333333333333333,\"#9c179e\"],[0.4444444444444444,\"#bd3786\"],[0.5555555555555556,\"#d8576b\"],[0.6666666666666666,\"#ed7953\"],[0.7777777777777778,\"#fb9f3a\"],[0.8888888888888888,\"#fdca26\"],[1.0,\"#f0f921\"]],\"type\":\"contour\"}],\"contourcarpet\":[{\"colorbar\":{\"outlinewidth\":0,\"ticks\":\"\"},\"type\":\"contourcarpet\"}],\"heatmap\":[{\"colorbar\":{\"outlinewidth\":0,\"ticks\":\"\"},\"colorscale\":[[0.0,\"#0d0887\"],[0.1111111111111111,\"#46039f\"],[0.2222222222222222,\"#7201a8\"],[0.3333333333333333,\"#9c179e\"],[0.4444444444444444,\"#bd3786\"],[0.5555555555555556,\"#d8576b\"],[0.6666666666666666,\"#ed7953\"],[0.7777777777777778,\"#fb9f3a\"],[0.8888888888888888,\"#fdca26\"],[1.0,\"#f0f921\"]],\"type\":\"heatmap\"}],\"heatmapgl\":[{\"colorbar\":{\"outlinewidth\":0,\"ticks\":\"\"},\"colorscale\":[[0.0,\"#0d0887\"],[0.1111111111111111,\"#46039f\"],[0.2222222222222222,\"#7201a8\"],[0.3333333333333333,\"#9c179e\"],[0.4444444444444444,\"#bd3786\"],[0.5555555555555556,\"#d8576b\"],[0.6666666666666666,\"#ed7953\"],[0.7777777777777778,\"#fb9f3a\"],[0.8888888888888888,\"#fdca26\"],[1.0,\"#f0f921\"]],\"type\":\"heatmapgl\"}],\"histogram\":[{\"marker\":{\"pattern\":{\"fillmode\":\"overlay\",\"size\":10,\"solidity\":0.2}},\"type\":\"histogram\"}],\"histogram2d\":[{\"colorbar\":{\"outlinewidth\":0,\"ticks\":\"\"},\"colorscale\":[[0.0,\"#0d0887\"],[0.1111111111111111,\"#46039f\"],[0.2222222222222222,\"#7201a8\"],[0.3333333333333333,\"#9c179e\"],[0.4444444444444444,\"#bd3786\"],[0.5555555555555556,\"#d8576b\"],[0.6666666666666666,\"#ed7953\"],[0.7777777777777778,\"#fb9f3a\"],[0.8888888888888888,\"#fdca26\"],[1.0,\"#f0f921\"]],\"type\":\"histogram2d\"}],\"histogram2dcontour\":[{\"colorbar\":{\"outlinewidth\":0,\"ticks\":\"\"},\"colorscale\":[[0.0,\"#0d0887\"],[0.1111111111111111,\"#46039f\"],[0.2222222222222222,\"#7201a8\"],[0.3333333333333333,\"#9c179e\"],[0.4444444444444444,\"#bd3786\"],[0.5555555555555556,\"#d8576b\"],[0.6666666666666666,\"#ed7953\"],[0.7777777777777778,\"#fb9f3a\"],[0.8888888888888888,\"#fdca26\"],[1.0,\"#f0f921\"]],\"type\":\"histogram2dcontour\"}],\"mesh3d\":[{\"colorbar\":{\"outlinewidth\":0,\"ticks\":\"\"},\"type\":\"mesh3d\"}],\"parcoords\":[{\"line\":{\"colorbar\":{\"outlinewidth\":0,\"ticks\":\"\"}},\"type\":\"parcoords\"}],\"pie\":[{\"automargin\":true,\"type\":\"pie\"}],\"scatter\":[{\"marker\":{\"colorbar\":{\"outlinewidth\":0,\"ticks\":\"\"}},\"type\":\"scatter\"}],\"scatter3d\":[{\"line\":{\"colorbar\":{\"outlinewidth\":0,\"ticks\":\"\"}},\"marker\":{\"colorbar\":{\"outlinewidth\":0,\"ticks\":\"\"}},\"type\":\"scatter3d\"}],\"scattercarpet\":[{\"marker\":{\"colorbar\":{\"outlinewidth\":0,\"ticks\":\"\"}},\"type\":\"scattercarpet\"}],\"scattergeo\":[{\"marker\":{\"colorbar\":{\"outlinewidth\":0,\"ticks\":\"\"}},\"type\":\"scattergeo\"}],\"scattergl\":[{\"marker\":{\"colorbar\":{\"outlinewidth\":0,\"ticks\":\"\"}},\"type\":\"scattergl\"}],\"scattermapbox\":[{\"marker\":{\"colorbar\":{\"outlinewidth\":0,\"ticks\":\"\"}},\"type\":\"scattermapbox\"}],\"scatterpolar\":[{\"marker\":{\"colorbar\":{\"outlinewidth\":0,\"ticks\":\"\"}},\"type\":\"scatterpolar\"}],\"scatterpolargl\":[{\"marker\":{\"colorbar\":{\"outlinewidth\":0,\"ticks\":\"\"}},\"type\":\"scatterpolargl\"}],\"scatterternary\":[{\"marker\":{\"colorbar\":{\"outlinewidth\":0,\"ticks\":\"\"}},\"type\":\"scatterternary\"}],\"surface\":[{\"colorbar\":{\"outlinewidth\":0,\"ticks\":\"\"},\"colorscale\":[[0.0,\"#0d0887\"],[0.1111111111111111,\"#46039f\"],[0.2222222222222222,\"#7201a8\"],[0.3333333333333333,\"#9c179e\"],[0.4444444444444444,\"#bd3786\"],[0.5555555555555556,\"#d8576b\"],[0.6666666666666666,\"#ed7953\"],[0.7777777777777778,\"#fb9f3a\"],[0.8888888888888888,\"#fdca26\"],[1.0,\"#f0f921\"]],\"type\":\"surface\"}],\"table\":[{\"cells\":{\"fill\":{\"color\":\"#EBF0F8\"},\"line\":{\"color\":\"white\"}},\"header\":{\"fill\":{\"color\":\"#C8D4E3\"},\"line\":{\"color\":\"white\"}},\"type\":\"table\"}]},\"layout\":{\"annotationdefaults\":{\"arrowcolor\":\"#2a3f5f\",\"arrowhead\":0,\"arrowwidth\":1},\"autotypenumbers\":\"strict\",\"coloraxis\":{\"colorbar\":{\"outlinewidth\":0,\"ticks\":\"\"}},\"colorscale\":{\"diverging\":[[0,\"#8e0152\"],[0.1,\"#c51b7d\"],[0.2,\"#de77ae\"],[0.3,\"#f1b6da\"],[0.4,\"#fde0ef\"],[0.5,\"#f7f7f7\"],[0.6,\"#e6f5d0\"],[0.7,\"#b8e186\"],[0.8,\"#7fbc41\"],[0.9,\"#4d9221\"],[1,\"#276419\"]],\"sequential\":[[0.0,\"#0d0887\"],[0.1111111111111111,\"#46039f\"],[0.2222222222222222,\"#7201a8\"],[0.3333333333333333,\"#9c179e\"],[0.4444444444444444,\"#bd3786\"],[0.5555555555555556,\"#d8576b\"],[0.6666666666666666,\"#ed7953\"],[0.7777777777777778,\"#fb9f3a\"],[0.8888888888888888,\"#fdca26\"],[1.0,\"#f0f921\"]],\"sequentialminus\":[[0.0,\"#0d0887\"],[0.1111111111111111,\"#46039f\"],[0.2222222222222222,\"#7201a8\"],[0.3333333333333333,\"#9c179e\"],[0.4444444444444444,\"#bd3786\"],[0.5555555555555556,\"#d8576b\"],[0.6666666666666666,\"#ed7953\"],[0.7777777777777778,\"#fb9f3a\"],[0.8888888888888888,\"#fdca26\"],[1.0,\"#f0f921\"]]},\"colorway\":[\"#636efa\",\"#EF553B\",\"#00cc96\",\"#ab63fa\",\"#FFA15A\",\"#19d3f3\",\"#FF6692\",\"#B6E880\",\"#FF97FF\",\"#FECB52\"],\"font\":{\"color\":\"#2a3f5f\"},\"geo\":{\"bgcolor\":\"white\",\"lakecolor\":\"white\",\"landcolor\":\"#E5ECF6\",\"showlakes\":true,\"showland\":true,\"subunitcolor\":\"white\"},\"hoverlabel\":{\"align\":\"left\"},\"hovermode\":\"closest\",\"mapbox\":{\"style\":\"light\"},\"paper_bgcolor\":\"white\",\"plot_bgcolor\":\"#E5ECF6\",\"polar\":{\"angularaxis\":{\"gridcolor\":\"white\",\"linecolor\":\"white\",\"ticks\":\"\"},\"bgcolor\":\"#E5ECF6\",\"radialaxis\":{\"gridcolor\":\"white\",\"linecolor\":\"white\",\"ticks\":\"\"}},\"scene\":{\"xaxis\":{\"backgroundcolor\":\"#E5ECF6\",\"gridcolor\":\"white\",\"gridwidth\":2,\"linecolor\":\"white\",\"showbackground\":true,\"ticks\":\"\",\"zerolinecolor\":\"white\"},\"yaxis\":{\"backgroundcolor\":\"#E5ECF6\",\"gridcolor\":\"white\",\"gridwidth\":2,\"linecolor\":\"white\",\"showbackground\":true,\"ticks\":\"\",\"zerolinecolor\":\"white\"},\"zaxis\":{\"backgroundcolor\":\"#E5ECF6\",\"gridcolor\":\"white\",\"gridwidth\":2,\"linecolor\":\"white\",\"showbackground\":true,\"ticks\":\"\",\"zerolinecolor\":\"white\"}},\"shapedefaults\":{\"line\":{\"color\":\"#2a3f5f\"}},\"ternary\":{\"aaxis\":{\"gridcolor\":\"white\",\"linecolor\":\"white\",\"ticks\":\"\"},\"baxis\":{\"gridcolor\":\"white\",\"linecolor\":\"white\",\"ticks\":\"\"},\"bgcolor\":\"#E5ECF6\",\"caxis\":{\"gridcolor\":\"white\",\"linecolor\":\"white\",\"ticks\":\"\"}},\"title\":{\"x\":0.05},\"xaxis\":{\"automargin\":true,\"gridcolor\":\"white\",\"linecolor\":\"white\",\"ticks\":\"\",\"title\":{\"standoff\":15},\"zerolinecolor\":\"white\",\"zerolinewidth\":2},\"yaxis\":{\"automargin\":true,\"gridcolor\":\"white\",\"linecolor\":\"white\",\"ticks\":\"\",\"title\":{\"standoff\":15},\"zerolinecolor\":\"white\",\"zerolinewidth\":2}}},\"title\":{\"text\":\"Matriz de dispersi\\u00f3n (Scatter Matrix) para las columnas\"}},                        {\"responsive\": true}                    ).then(function(){\n",
       "                            \n",
       "var gd = document.getElementById('2ad88483-ef0a-4326-af34-b6aab18b1f45');\n",
       "var x = new MutationObserver(function (mutations, observer) {{\n",
       "        var display = window.getComputedStyle(gd).display;\n",
       "        if (!display || display === 'none') {{\n",
       "            console.log([gd, 'removed!']);\n",
       "            Plotly.purge(gd);\n",
       "            observer.disconnect();\n",
       "        }}\n",
       "}});\n",
       "\n",
       "// Listen for the removal of the full notebook cells\n",
       "var notebookContainer = gd.closest('#notebook-container');\n",
       "if (notebookContainer) {{\n",
       "    x.observe(notebookContainer, {childList: true});\n",
       "}}\n",
       "\n",
       "// Listen for the clearing of the current output cell\n",
       "var outputEl = gd.closest('.output');\n",
       "if (outputEl) {{\n",
       "    x.observe(outputEl, {childList: true});\n",
       "}}\n",
       "\n",
       "                        })                };                });            </script>        </div>"
      ]
     },
     "metadata": {},
     "output_type": "display_data"
    }
   ],
   "source": [
    "fig = px.scatter_matrix(data[[\"mean_area\",\"mean_perimeter\",\"mean_radius\"]])\n",
    "fig.update_layout(title=\"Matriz de dispersión (Scatter Matrix) para las columnas\")\n",
    "fig.show()"
   ]
  },
  {
   "cell_type": "markdown",
   "id": "a6a5093b",
   "metadata": {
    "papermill": {
     "duration": 0.03862,
     "end_time": "2021-08-16T09:03:51.875270",
     "exception": false,
     "start_time": "2021-08-16T09:03:51.836650",
     "status": "completed"
    },
    "tags": []
   },
   "source": [
    "Vemos que hay una relación lineal bastante definida pero para asegurarnos aún más vamos a realizar una matriz de correlación para averiguar el r^2"
   ]
  },
  {
   "cell_type": "code",
   "execution_count": 8,
   "id": "44341162",
   "metadata": {
    "execution": {
     "iopub.execute_input": "2021-08-16T09:03:51.960402Z",
     "iopub.status.busy": "2021-08-16T09:03:51.959519Z",
     "iopub.status.idle": "2021-08-16T09:03:51.962885Z",
     "shell.execute_reply": "2021-08-16T09:03:51.962346Z",
     "shell.execute_reply.started": "2021-08-16T09:02:37.707364Z"
    },
    "papermill": {
     "duration": 0.048943,
     "end_time": "2021-08-16T09:03:51.963038",
     "exception": false,
     "start_time": "2021-08-16T09:03:51.914095",
     "status": "completed"
    },
    "tags": []
   },
   "outputs": [],
   "source": [
    "data2=data.drop([\"mean_smoothness\",\"mean_texture\",\"diagnosis\"],axis=1)"
   ]
  },
  {
   "cell_type": "code",
   "execution_count": 9,
   "id": "ebf450fd",
   "metadata": {
    "execution": {
     "iopub.execute_input": "2021-08-16T09:03:52.073078Z",
     "iopub.status.busy": "2021-08-16T09:03:52.065742Z",
     "iopub.status.idle": "2021-08-16T09:03:52.328249Z",
     "shell.execute_reply": "2021-08-16T09:03:52.327758Z",
     "shell.execute_reply.started": "2021-08-16T09:02:37.714738Z"
    },
    "papermill": {
     "duration": 0.325709,
     "end_time": "2021-08-16T09:03:52.328392",
     "exception": false,
     "start_time": "2021-08-16T09:03:52.002683",
     "status": "completed"
    },
    "tags": []
   },
   "outputs": [
    {
     "data": {
      "text/plain": [
       "<AxesSubplot:>"
      ]
     },
     "execution_count": 9,
     "metadata": {},
     "output_type": "execute_result"
    },
    {
     "data": {
      "image/png": "[encoded data removed]",
      "text/plain": [
       "<Figure size 720x360 with 2 Axes>"
      ]
     },
     "metadata": {},
     "output_type": "display_data"
    }
   ],
   "source": [
    "plt.figure(figsize=(10,5))\n",
    "sns.heatmap(data2.corr(), annot=True, cmap=\"coolwarm\")"
   ]
  },
  {
   "cell_type": "markdown",
   "id": "998f3288",
   "metadata": {
    "papermill": {
     "duration": 0.041501,
     "end_time": "2021-08-16T09:03:52.410310",
     "exception": false,
     "start_time": "2021-08-16T09:03:52.368809",
     "status": "completed"
    },
    "tags": []
   },
   "source": [
    "Como sospechábamos se ajustan extremadamente, por lo que a la hora de realizar el modelo usaremos una sola columna de estas, ya que al ser tan dependientes  utilizar las 3 solo haría que hagamos trabajar más al ordenador de manera innecesaria."
   ]
  },
  {
   "cell_type": "code",
   "execution_count": 10,
   "id": "e63de33a",
   "metadata": {
    "execution": {
     "iopub.execute_input": "2021-08-16T09:03:52.502925Z",
     "iopub.status.busy": "2021-08-16T09:03:52.502237Z",
     "iopub.status.idle": "2021-08-16T09:03:52.506550Z",
     "shell.execute_reply": "2021-08-16T09:03:52.506073Z",
     "shell.execute_reply.started": "2021-08-16T09:02:38.464396Z"
    },
    "papermill": {
     "duration": 0.0561,
     "end_time": "2021-08-16T09:03:52.506739",
     "exception": false,
     "start_time": "2021-08-16T09:03:52.450639",
     "status": "completed"
    },
    "tags": []
   },
   "outputs": [
    {
     "data": {
      "text/html": [
       "<div>\n",
       "<style scoped>\n",
       "    .dataframe tbody tr th:only-of-type {\n",
       "        vertical-align: middle;\n",
       "    }\n",
       "\n",
       "    .dataframe tbody tr th {\n",
       "        vertical-align: top;\n",
       "    }\n",
       "\n",
       "    .dataframe thead th {\n",
       "        text-align: right;\n",
       "    }\n",
       "</style>\n",
       "<table border=\"1\" class=\"dataframe\">\n",
       "  <thead>\n",
       "    <tr style=\"text-align: right;\">\n",
       "      <th></th>\n",
       "      <th>mean_radius</th>\n",
       "      <th>mean_texture</th>\n",
       "      <th>mean_perimeter</th>\n",
       "      <th>mean_area</th>\n",
       "      <th>mean_smoothness</th>\n",
       "      <th>diagnosis</th>\n",
       "    </tr>\n",
       "  </thead>\n",
       "  <tbody>\n",
       "    <tr>\n",
       "      <th>0</th>\n",
       "      <td>17.99</td>\n",
       "      <td>10.38</td>\n",
       "      <td>122.80</td>\n",
       "      <td>1001.0</td>\n",
       "      <td>0.11840</td>\n",
       "      <td>0</td>\n",
       "    </tr>\n",
       "    <tr>\n",
       "      <th>1</th>\n",
       "      <td>20.57</td>\n",
       "      <td>17.77</td>\n",
       "      <td>132.90</td>\n",
       "      <td>1326.0</td>\n",
       "      <td>0.08474</td>\n",
       "      <td>0</td>\n",
       "    </tr>\n",
       "    <tr>\n",
       "      <th>2</th>\n",
       "      <td>19.69</td>\n",
       "      <td>21.25</td>\n",
       "      <td>130.00</td>\n",
       "      <td>1203.0</td>\n",
       "      <td>0.10960</td>\n",
       "      <td>0</td>\n",
       "    </tr>\n",
       "    <tr>\n",
       "      <th>3</th>\n",
       "      <td>11.42</td>\n",
       "      <td>20.38</td>\n",
       "      <td>77.58</td>\n",
       "      <td>386.1</td>\n",
       "      <td>0.14250</td>\n",
       "      <td>0</td>\n",
       "    </tr>\n",
       "    <tr>\n",
       "      <th>4</th>\n",
       "      <td>20.29</td>\n",
       "      <td>14.34</td>\n",
       "      <td>135.10</td>\n",
       "      <td>1297.0</td>\n",
       "      <td>0.10030</td>\n",
       "      <td>0</td>\n",
       "    </tr>\n",
       "  </tbody>\n",
       "</table>\n",
       "</div>"
      ],
      "text/plain": [
       "   mean_radius  mean_texture  mean_perimeter  mean_area  mean_smoothness  \\\n",
       "0        17.99         10.38          122.80     1001.0          0.11840   \n",
       "1        20.57         17.77          132.90     1326.0          0.08474   \n",
       "2        19.69         21.25          130.00     1203.0          0.10960   \n",
       "3        11.42         20.38           77.58      386.1          0.14250   \n",
       "4        20.29         14.34          135.10     1297.0          0.10030   \n",
       "\n",
       "   diagnosis  \n",
       "0          0  \n",
       "1          0  \n",
       "2          0  \n",
       "3          0  \n",
       "4          0  "
      ]
     },
     "execution_count": 10,
     "metadata": {},
     "output_type": "execute_result"
    }
   ],
   "source": [
    "data.head()"
   ]
  },
  {
   "cell_type": "code",
   "execution_count": 11,
   "id": "db585532",
   "metadata": {
    "execution": {
     "iopub.execute_input": "2021-08-16T09:03:52.599644Z",
     "iopub.status.busy": "2021-08-16T09:03:52.598988Z",
     "iopub.status.idle": "2021-08-16T09:03:52.603739Z",
     "shell.execute_reply": "2021-08-16T09:03:52.603243Z",
     "shell.execute_reply.started": "2021-08-16T09:02:39.123451Z"
    },
    "papermill": {
     "duration": 0.05666,
     "end_time": "2021-08-16T09:03:52.603885",
     "exception": false,
     "start_time": "2021-08-16T09:03:52.547225",
     "status": "completed"
    },
    "tags": []
   },
   "outputs": [
    {
     "data": {
      "text/html": [
       "<div>\n",
       "<style scoped>\n",
       "    .dataframe tbody tr th:only-of-type {\n",
       "        vertical-align: middle;\n",
       "    }\n",
       "\n",
       "    .dataframe tbody tr th {\n",
       "        vertical-align: top;\n",
       "    }\n",
       "\n",
       "    .dataframe thead th {\n",
       "        text-align: right;\n",
       "    }\n",
       "</style>\n",
       "<table border=\"1\" class=\"dataframe\">\n",
       "  <thead>\n",
       "    <tr style=\"text-align: right;\">\n",
       "      <th></th>\n",
       "      <th>mean_radius</th>\n",
       "      <th>mean_texture</th>\n",
       "      <th>mean_smoothness</th>\n",
       "      <th>diagnosis</th>\n",
       "    </tr>\n",
       "  </thead>\n",
       "  <tbody>\n",
       "    <tr>\n",
       "      <th>0</th>\n",
       "      <td>17.99</td>\n",
       "      <td>10.38</td>\n",
       "      <td>0.11840</td>\n",
       "      <td>0</td>\n",
       "    </tr>\n",
       "    <tr>\n",
       "      <th>1</th>\n",
       "      <td>20.57</td>\n",
       "      <td>17.77</td>\n",
       "      <td>0.08474</td>\n",
       "      <td>0</td>\n",
       "    </tr>\n",
       "    <tr>\n",
       "      <th>2</th>\n",
       "      <td>19.69</td>\n",
       "      <td>21.25</td>\n",
       "      <td>0.10960</td>\n",
       "      <td>0</td>\n",
       "    </tr>\n",
       "    <tr>\n",
       "      <th>3</th>\n",
       "      <td>11.42</td>\n",
       "      <td>20.38</td>\n",
       "      <td>0.14250</td>\n",
       "      <td>0</td>\n",
       "    </tr>\n",
       "    <tr>\n",
       "      <th>4</th>\n",
       "      <td>20.29</td>\n",
       "      <td>14.34</td>\n",
       "      <td>0.10030</td>\n",
       "      <td>0</td>\n",
       "    </tr>\n",
       "  </tbody>\n",
       "</table>\n",
       "</div>"
      ],
      "text/plain": [
       "   mean_radius  mean_texture  mean_smoothness  diagnosis\n",
       "0        17.99         10.38          0.11840          0\n",
       "1        20.57         17.77          0.08474          0\n",
       "2        19.69         21.25          0.10960          0\n",
       "3        11.42         20.38          0.14250          0\n",
       "4        20.29         14.34          0.10030          0"
      ]
     },
     "execution_count": 11,
     "metadata": {},
     "output_type": "execute_result"
    }
   ],
   "source": [
    "data3=data.drop([\"mean_perimeter\",\"mean_area\"],axis=1)\n",
    "data3.head()"
   ]
  },
  {
   "cell_type": "markdown",
   "id": "bf8a0d90",
   "metadata": {
    "papermill": {
     "duration": 0.040776,
     "end_time": "2021-08-16T09:03:52.685263",
     "exception": false,
     "start_time": "2021-08-16T09:03:52.644487",
     "status": "completed"
    },
    "tags": []
   },
   "source": [
    "### Variables numéricas a variables categóricas, mediante la función .cut y la función .map"
   ]
  },
  {
   "cell_type": "markdown",
   "id": "a36bc1a3",
   "metadata": {
    "papermill": {
     "duration": 0.041291,
     "end_time": "2021-08-16T09:03:52.768440",
     "exception": false,
     "start_time": "2021-08-16T09:03:52.727149",
     "status": "completed"
    },
    "tags": []
   },
   "source": [
    "#### Variable radio"
   ]
  },
  {
   "cell_type": "code",
   "execution_count": 12,
   "id": "607d34a3",
   "metadata": {
    "execution": {
     "iopub.execute_input": "2021-08-16T09:03:52.864912Z",
     "iopub.status.busy": "2021-08-16T09:03:52.855628Z",
     "iopub.status.idle": "2021-08-16T09:03:52.872724Z",
     "shell.execute_reply": "2021-08-16T09:03:52.873207Z",
     "shell.execute_reply.started": "2021-08-16T09:02:40.582258Z"
    },
    "papermill": {
     "duration": 0.064173,
     "end_time": "2021-08-16T09:03:52.873373",
     "exception": false,
     "start_time": "2021-08-16T09:03:52.809200",
     "status": "completed"
    },
    "tags": []
   },
   "outputs": [],
   "source": [
    "#La variable radios la partimos en 5 y ya sería suficiente\n",
    "data3['radios'] = pd.cut(data3['mean_radius'], 5)\n",
    "#La variable texture quedan los rangos mejor definidos si la partimos en 7\n",
    "data3['texture'] = pd.cut(data3['mean_texture'], 7)\n",
    "# Smoothness también la cortamos en 5 partes\n",
    "data3['smooth'] = pd.cut(data3['mean_smoothness'], 5)\n"
   ]
  },
  {
   "cell_type": "markdown",
   "id": "e797e8f9",
   "metadata": {
    "papermill": {
     "duration": 0.041155,
     "end_time": "2021-08-16T09:03:52.955201",
     "exception": false,
     "start_time": "2021-08-16T09:03:52.914046",
     "status": "completed"
    },
    "tags": []
   },
   "source": [
    "Para ver ahora las 7 particiones, vamos a realizar un groupby"
   ]
  },
  {
   "cell_type": "code",
   "execution_count": 13,
   "id": "20af35b6",
   "metadata": {
    "execution": {
     "iopub.execute_input": "2021-08-16T09:03:53.040312Z",
     "iopub.status.busy": "2021-08-16T09:03:53.039736Z",
     "iopub.status.idle": "2021-08-16T09:03:53.057253Z",
     "shell.execute_reply": "2021-08-16T09:03:53.056653Z",
     "shell.execute_reply.started": "2021-08-16T09:02:41.576033Z"
    },
    "papermill": {
     "duration": 0.061213,
     "end_time": "2021-08-16T09:03:53.057388",
     "exception": false,
     "start_time": "2021-08-16T09:03:52.996175",
     "status": "completed"
    },
    "tags": []
   },
   "outputs": [
    {
     "data": {
      "text/html": [
       "<div>\n",
       "<style scoped>\n",
       "    .dataframe tbody tr th:only-of-type {\n",
       "        vertical-align: middle;\n",
       "    }\n",
       "\n",
       "    .dataframe tbody tr th {\n",
       "        vertical-align: top;\n",
       "    }\n",
       "\n",
       "    .dataframe thead th {\n",
       "        text-align: right;\n",
       "    }\n",
       "</style>\n",
       "<table border=\"1\" class=\"dataframe\">\n",
       "  <thead>\n",
       "    <tr style=\"text-align: right;\">\n",
       "      <th></th>\n",
       "      <th>radios</th>\n",
       "      <th>diagnosis</th>\n",
       "    </tr>\n",
       "  </thead>\n",
       "  <tbody>\n",
       "    <tr>\n",
       "      <th>0</th>\n",
       "      <td>(6.96, 11.207]</td>\n",
       "      <td>0.979592</td>\n",
       "    </tr>\n",
       "    <tr>\n",
       "      <th>1</th>\n",
       "      <td>(11.207, 15.433]</td>\n",
       "      <td>0.805732</td>\n",
       "    </tr>\n",
       "    <tr>\n",
       "      <th>2</th>\n",
       "      <td>(15.433, 19.658]</td>\n",
       "      <td>0.076190</td>\n",
       "    </tr>\n",
       "    <tr>\n",
       "      <th>3</th>\n",
       "      <td>(19.658, 23.884]</td>\n",
       "      <td>0.000000</td>\n",
       "    </tr>\n",
       "    <tr>\n",
       "      <th>4</th>\n",
       "      <td>(23.884, 28.11]</td>\n",
       "      <td>0.000000</td>\n",
       "    </tr>\n",
       "  </tbody>\n",
       "</table>\n",
       "</div>"
      ],
      "text/plain": [
       "             radios  diagnosis\n",
       "0    (6.96, 11.207]   0.979592\n",
       "1  (11.207, 15.433]   0.805732\n",
       "2  (15.433, 19.658]   0.076190\n",
       "3  (19.658, 23.884]   0.000000\n",
       "4   (23.884, 28.11]   0.000000"
      ]
     },
     "execution_count": 13,
     "metadata": {},
     "output_type": "execute_result"
    }
   ],
   "source": [
    "data3[[\"radios\",\"diagnosis\"]].groupby(['radios'], as_index=False).mean().sort_values(by='radios', ascending=True)"
   ]
  },
  {
   "cell_type": "code",
   "execution_count": 14,
   "id": "d6d6cea6",
   "metadata": {
    "execution": {
     "iopub.execute_input": "2021-08-16T09:03:53.144041Z",
     "iopub.status.busy": "2021-08-16T09:03:53.143459Z",
     "iopub.status.idle": "2021-08-16T09:03:53.153703Z",
     "shell.execute_reply": "2021-08-16T09:03:53.154259Z",
     "shell.execute_reply.started": "2021-08-16T09:02:42.115795Z"
    },
    "papermill": {
     "duration": 0.055591,
     "end_time": "2021-08-16T09:03:53.154431",
     "exception": false,
     "start_time": "2021-08-16T09:03:53.098840",
     "status": "completed"
    },
    "tags": []
   },
   "outputs": [],
   "source": [
    "data3.loc[ data3['mean_radius'] <= 11.207, 'mean_radius'] = 0\n",
    "data3.loc[(data3['mean_radius'] > 11.027) & (data3['mean_radius'] <= 15.433), 'mean_radius'] = 1\n",
    "data3.loc[(data3['mean_radius'] > 15.433) & (data3['mean_radius'] <= 19.658), 'mean_radius'] = 2\n",
    "data3.loc[(data3['mean_radius'] > 19.658) & (data3['mean_radius'] <= 23.884), 'mean_radius'] = 3\n",
    "data3.loc[ data3['mean_radius'] > 23.884, 'mean_radius']=4"
   ]
  },
  {
   "cell_type": "code",
   "execution_count": 15,
   "id": "059f9c82",
   "metadata": {
    "execution": {
     "iopub.execute_input": "2021-08-16T09:03:53.239863Z",
     "iopub.status.busy": "2021-08-16T09:03:53.239059Z",
     "iopub.status.idle": "2021-08-16T09:03:53.253633Z",
     "shell.execute_reply": "2021-08-16T09:03:53.254049Z",
     "shell.execute_reply.started": "2021-08-16T09:02:42.622698Z"
    },
    "papermill": {
     "duration": 0.058479,
     "end_time": "2021-08-16T09:03:53.254228",
     "exception": false,
     "start_time": "2021-08-16T09:03:53.195749",
     "status": "completed"
    },
    "tags": []
   },
   "outputs": [
    {
     "data": {
      "text/html": [
       "<div>\n",
       "<style scoped>\n",
       "    .dataframe tbody tr th:only-of-type {\n",
       "        vertical-align: middle;\n",
       "    }\n",
       "\n",
       "    .dataframe tbody tr th {\n",
       "        vertical-align: top;\n",
       "    }\n",
       "\n",
       "    .dataframe thead th {\n",
       "        text-align: right;\n",
       "    }\n",
       "</style>\n",
       "<table border=\"1\" class=\"dataframe\">\n",
       "  <thead>\n",
       "    <tr style=\"text-align: right;\">\n",
       "      <th></th>\n",
       "      <th>mean_radius</th>\n",
       "      <th>mean_texture</th>\n",
       "      <th>mean_smoothness</th>\n",
       "      <th>diagnosis</th>\n",
       "      <th>texture</th>\n",
       "      <th>smooth</th>\n",
       "    </tr>\n",
       "  </thead>\n",
       "  <tbody>\n",
       "    <tr>\n",
       "      <th>0</th>\n",
       "      <td>2.0</td>\n",
       "      <td>10.38</td>\n",
       "      <td>0.11840</td>\n",
       "      <td>0</td>\n",
       "      <td>(9.68, 13.934]</td>\n",
       "      <td>(0.0969, 0.119]</td>\n",
       "    </tr>\n",
       "    <tr>\n",
       "      <th>1</th>\n",
       "      <td>3.0</td>\n",
       "      <td>17.77</td>\n",
       "      <td>0.08474</td>\n",
       "      <td>0</td>\n",
       "      <td>(13.934, 18.159]</td>\n",
       "      <td>(0.0748, 0.0969]</td>\n",
       "    </tr>\n",
       "    <tr>\n",
       "      <th>2</th>\n",
       "      <td>3.0</td>\n",
       "      <td>21.25</td>\n",
       "      <td>0.10960</td>\n",
       "      <td>0</td>\n",
       "      <td>(18.159, 22.383]</td>\n",
       "      <td>(0.0969, 0.119]</td>\n",
       "    </tr>\n",
       "    <tr>\n",
       "      <th>3</th>\n",
       "      <td>1.0</td>\n",
       "      <td>20.38</td>\n",
       "      <td>0.14250</td>\n",
       "      <td>0</td>\n",
       "      <td>(18.159, 22.383]</td>\n",
       "      <td>(0.141, 0.163]</td>\n",
       "    </tr>\n",
       "    <tr>\n",
       "      <th>4</th>\n",
       "      <td>3.0</td>\n",
       "      <td>14.34</td>\n",
       "      <td>0.10030</td>\n",
       "      <td>0</td>\n",
       "      <td>(13.934, 18.159]</td>\n",
       "      <td>(0.0969, 0.119]</td>\n",
       "    </tr>\n",
       "  </tbody>\n",
       "</table>\n",
       "</div>"
      ],
      "text/plain": [
       "   mean_radius  mean_texture  mean_smoothness  diagnosis           texture  \\\n",
       "0          2.0         10.38          0.11840          0    (9.68, 13.934]   \n",
       "1          3.0         17.77          0.08474          0  (13.934, 18.159]   \n",
       "2          3.0         21.25          0.10960          0  (18.159, 22.383]   \n",
       "3          1.0         20.38          0.14250          0  (18.159, 22.383]   \n",
       "4          3.0         14.34          0.10030          0  (13.934, 18.159]   \n",
       "\n",
       "             smooth  \n",
       "0   (0.0969, 0.119]  \n",
       "1  (0.0748, 0.0969]  \n",
       "2   (0.0969, 0.119]  \n",
       "3    (0.141, 0.163]  \n",
       "4   (0.0969, 0.119]  "
      ]
     },
     "execution_count": 15,
     "metadata": {},
     "output_type": "execute_result"
    }
   ],
   "source": [
    "#Eliminamos ya la columna radios\n",
    "data3=data3.drop([\"radios\"],axis=1)\n",
    "data3.head()"
   ]
  },
  {
   "cell_type": "markdown",
   "id": "67bde2f1",
   "metadata": {
    "papermill": {
     "duration": 0.041286,
     "end_time": "2021-08-16T09:03:53.337899",
     "exception": false,
     "start_time": "2021-08-16T09:03:53.296613",
     "status": "completed"
    },
    "tags": []
   },
   "source": [
    "#### Variable texture"
   ]
  },
  {
   "cell_type": "code",
   "execution_count": 16,
   "id": "f17c07a7",
   "metadata": {
    "execution": {
     "iopub.execute_input": "2021-08-16T09:03:53.425160Z",
     "iopub.status.busy": "2021-08-16T09:03:53.424234Z",
     "iopub.status.idle": "2021-08-16T09:03:53.439139Z",
     "shell.execute_reply": "2021-08-16T09:03:53.439580Z",
     "shell.execute_reply.started": "2021-08-16T09:02:43.623409Z"
    },
    "papermill": {
     "duration": 0.059788,
     "end_time": "2021-08-16T09:03:53.439765",
     "exception": false,
     "start_time": "2021-08-16T09:03:53.379977",
     "status": "completed"
    },
    "tags": []
   },
   "outputs": [
    {
     "data": {
      "text/html": [
       "<div>\n",
       "<style scoped>\n",
       "    .dataframe tbody tr th:only-of-type {\n",
       "        vertical-align: middle;\n",
       "    }\n",
       "\n",
       "    .dataframe tbody tr th {\n",
       "        vertical-align: top;\n",
       "    }\n",
       "\n",
       "    .dataframe thead th {\n",
       "        text-align: right;\n",
       "    }\n",
       "</style>\n",
       "<table border=\"1\" class=\"dataframe\">\n",
       "  <thead>\n",
       "    <tr style=\"text-align: right;\">\n",
       "      <th></th>\n",
       "      <th>texture</th>\n",
       "      <th>diagnosis</th>\n",
       "    </tr>\n",
       "  </thead>\n",
       "  <tbody>\n",
       "    <tr>\n",
       "      <th>0</th>\n",
       "      <td>(9.68, 13.934]</td>\n",
       "      <td>0.961538</td>\n",
       "    </tr>\n",
       "    <tr>\n",
       "      <th>1</th>\n",
       "      <td>(13.934, 18.159]</td>\n",
       "      <td>0.829787</td>\n",
       "    </tr>\n",
       "    <tr>\n",
       "      <th>2</th>\n",
       "      <td>(18.159, 22.383]</td>\n",
       "      <td>0.518868</td>\n",
       "    </tr>\n",
       "    <tr>\n",
       "      <th>3</th>\n",
       "      <td>(22.383, 26.607]</td>\n",
       "      <td>0.287500</td>\n",
       "    </tr>\n",
       "    <tr>\n",
       "      <th>4</th>\n",
       "      <td>(26.607, 30.831]</td>\n",
       "      <td>0.531250</td>\n",
       "    </tr>\n",
       "    <tr>\n",
       "      <th>5</th>\n",
       "      <td>(30.831, 35.056]</td>\n",
       "      <td>0.250000</td>\n",
       "    </tr>\n",
       "    <tr>\n",
       "      <th>6</th>\n",
       "      <td>(35.056, 39.28]</td>\n",
       "      <td>0.000000</td>\n",
       "    </tr>\n",
       "  </tbody>\n",
       "</table>\n",
       "</div>"
      ],
      "text/plain": [
       "            texture  diagnosis\n",
       "0    (9.68, 13.934]   0.961538\n",
       "1  (13.934, 18.159]   0.829787\n",
       "2  (18.159, 22.383]   0.518868\n",
       "3  (22.383, 26.607]   0.287500\n",
       "4  (26.607, 30.831]   0.531250\n",
       "5  (30.831, 35.056]   0.250000\n",
       "6   (35.056, 39.28]   0.000000"
      ]
     },
     "execution_count": 16,
     "metadata": {},
     "output_type": "execute_result"
    }
   ],
   "source": [
    "data3[[\"texture\",\"diagnosis\"]].groupby(['texture'], as_index=False).mean().sort_values(by='texture', ascending=True)"
   ]
  },
  {
   "cell_type": "code",
   "execution_count": 17,
   "id": "6e3c1dcb",
   "metadata": {
    "execution": {
     "iopub.execute_input": "2021-08-16T09:03:53.527231Z",
     "iopub.status.busy": "2021-08-16T09:03:53.526280Z",
     "iopub.status.idle": "2021-08-16T09:03:53.539846Z",
     "shell.execute_reply": "2021-08-16T09:03:53.540276Z",
     "shell.execute_reply.started": "2021-08-16T09:02:44.392248Z"
    },
    "papermill": {
     "duration": 0.059156,
     "end_time": "2021-08-16T09:03:53.540461",
     "exception": false,
     "start_time": "2021-08-16T09:03:53.481305",
     "status": "completed"
    },
    "tags": []
   },
   "outputs": [],
   "source": [
    "data3.loc[ data3['mean_texture'] <= 13.934, 'mean_texture'] = 0\n",
    "data3.loc[(data3['mean_texture'] > 13.934) & (data3['mean_texture'] <= 18.159), 'mean_texture'] = 1\n",
    "data3.loc[(data3['mean_texture'] > 18.159) & (data3['mean_texture'] <= 22.383), 'mean_texture'] = 2\n",
    "data3.loc[(data3['mean_texture'] > 22.383) & (data3['mean_texture'] <= 26.607), 'mean_texture'] = 3\n",
    "data3.loc[(data3['mean_texture'] >26.607) & (data3['mean_texture'] <= 30.831), 'mean_texture'] = 4\n",
    "data3.loc[(data3['mean_texture'] > 30.831) & (data3['mean_texture'] <= 35.056), 'mean_texture'] = 5\n",
    "data3.loc[(data3['mean_texture'] > 35.056), 'mean_radius'] = 6"
   ]
  },
  {
   "cell_type": "code",
   "execution_count": 18,
   "id": "d9e8f804",
   "metadata": {
    "execution": {
     "iopub.execute_input": "2021-08-16T09:03:53.628397Z",
     "iopub.status.busy": "2021-08-16T09:03:53.627490Z",
     "iopub.status.idle": "2021-08-16T09:03:53.641124Z",
     "shell.execute_reply": "2021-08-16T09:03:53.641529Z",
     "shell.execute_reply.started": "2021-08-16T09:02:44.640329Z"
    },
    "papermill": {
     "duration": 0.059026,
     "end_time": "2021-08-16T09:03:53.641716",
     "exception": false,
     "start_time": "2021-08-16T09:03:53.582690",
     "status": "completed"
    },
    "tags": []
   },
   "outputs": [
    {
     "data": {
      "text/html": [
       "<div>\n",
       "<style scoped>\n",
       "    .dataframe tbody tr th:only-of-type {\n",
       "        vertical-align: middle;\n",
       "    }\n",
       "\n",
       "    .dataframe tbody tr th {\n",
       "        vertical-align: top;\n",
       "    }\n",
       "\n",
       "    .dataframe thead th {\n",
       "        text-align: right;\n",
       "    }\n",
       "</style>\n",
       "<table border=\"1\" class=\"dataframe\">\n",
       "  <thead>\n",
       "    <tr style=\"text-align: right;\">\n",
       "      <th></th>\n",
       "      <th>mean_radius</th>\n",
       "      <th>mean_texture</th>\n",
       "      <th>mean_smoothness</th>\n",
       "      <th>diagnosis</th>\n",
       "      <th>smooth</th>\n",
       "    </tr>\n",
       "  </thead>\n",
       "  <tbody>\n",
       "    <tr>\n",
       "      <th>0</th>\n",
       "      <td>2.0</td>\n",
       "      <td>0.0</td>\n",
       "      <td>0.11840</td>\n",
       "      <td>0</td>\n",
       "      <td>(0.0969, 0.119]</td>\n",
       "    </tr>\n",
       "    <tr>\n",
       "      <th>1</th>\n",
       "      <td>3.0</td>\n",
       "      <td>1.0</td>\n",
       "      <td>0.08474</td>\n",
       "      <td>0</td>\n",
       "      <td>(0.0748, 0.0969]</td>\n",
       "    </tr>\n",
       "    <tr>\n",
       "      <th>2</th>\n",
       "      <td>3.0</td>\n",
       "      <td>2.0</td>\n",
       "      <td>0.10960</td>\n",
       "      <td>0</td>\n",
       "      <td>(0.0969, 0.119]</td>\n",
       "    </tr>\n",
       "    <tr>\n",
       "      <th>3</th>\n",
       "      <td>1.0</td>\n",
       "      <td>2.0</td>\n",
       "      <td>0.14250</td>\n",
       "      <td>0</td>\n",
       "      <td>(0.141, 0.163]</td>\n",
       "    </tr>\n",
       "    <tr>\n",
       "      <th>4</th>\n",
       "      <td>3.0</td>\n",
       "      <td>1.0</td>\n",
       "      <td>0.10030</td>\n",
       "      <td>0</td>\n",
       "      <td>(0.0969, 0.119]</td>\n",
       "    </tr>\n",
       "  </tbody>\n",
       "</table>\n",
       "</div>"
      ],
      "text/plain": [
       "   mean_radius  mean_texture  mean_smoothness  diagnosis            smooth\n",
       "0          2.0           0.0          0.11840          0   (0.0969, 0.119]\n",
       "1          3.0           1.0          0.08474          0  (0.0748, 0.0969]\n",
       "2          3.0           2.0          0.10960          0   (0.0969, 0.119]\n",
       "3          1.0           2.0          0.14250          0    (0.141, 0.163]\n",
       "4          3.0           1.0          0.10030          0   (0.0969, 0.119]"
      ]
     },
     "execution_count": 18,
     "metadata": {},
     "output_type": "execute_result"
    }
   ],
   "source": [
    "#Eliminamos ya la columna texture\n",
    "data3=data3.drop([\"texture\"],axis=1)\n",
    "data3.head()"
   ]
  },
  {
   "cell_type": "markdown",
   "id": "6ded4180",
   "metadata": {
    "papermill": {
     "duration": 0.043851,
     "end_time": "2021-08-16T09:03:53.733084",
     "exception": false,
     "start_time": "2021-08-16T09:03:53.689233",
     "status": "completed"
    },
    "tags": []
   },
   "source": [
    "#### Variable smoothness"
   ]
  },
  {
   "cell_type": "code",
   "execution_count": 19,
   "id": "8ef99f7c",
   "metadata": {
    "execution": {
     "iopub.execute_input": "2021-08-16T09:03:53.822313Z",
     "iopub.status.busy": "2021-08-16T09:03:53.821386Z",
     "iopub.status.idle": "2021-08-16T09:03:53.835878Z",
     "shell.execute_reply": "2021-08-16T09:03:53.836271Z",
     "shell.execute_reply.started": "2021-08-16T09:02:45.646418Z"
    },
    "papermill": {
     "duration": 0.059716,
     "end_time": "2021-08-16T09:03:53.836445",
     "exception": false,
     "start_time": "2021-08-16T09:03:53.776729",
     "status": "completed"
    },
    "tags": []
   },
   "outputs": [
    {
     "data": {
      "text/html": [
       "<div>\n",
       "<style scoped>\n",
       "    .dataframe tbody tr th:only-of-type {\n",
       "        vertical-align: middle;\n",
       "    }\n",
       "\n",
       "    .dataframe tbody tr th {\n",
       "        vertical-align: top;\n",
       "    }\n",
       "\n",
       "    .dataframe thead th {\n",
       "        text-align: right;\n",
       "    }\n",
       "</style>\n",
       "<table border=\"1\" class=\"dataframe\">\n",
       "  <thead>\n",
       "    <tr style=\"text-align: right;\">\n",
       "      <th></th>\n",
       "      <th>smooth</th>\n",
       "      <th>diagnosis</th>\n",
       "    </tr>\n",
       "  </thead>\n",
       "  <tbody>\n",
       "    <tr>\n",
       "      <th>0</th>\n",
       "      <td>(0.0525, 0.0748]</td>\n",
       "      <td>0.964286</td>\n",
       "    </tr>\n",
       "    <tr>\n",
       "      <th>1</th>\n",
       "      <td>(0.0748, 0.0969]</td>\n",
       "      <td>0.751852</td>\n",
       "    </tr>\n",
       "    <tr>\n",
       "      <th>2</th>\n",
       "      <td>(0.0969, 0.119]</td>\n",
       "      <td>0.477366</td>\n",
       "    </tr>\n",
       "    <tr>\n",
       "      <th>3</th>\n",
       "      <td>(0.119, 0.141]</td>\n",
       "      <td>0.400000</td>\n",
       "    </tr>\n",
       "    <tr>\n",
       "      <th>4</th>\n",
       "      <td>(0.141, 0.163]</td>\n",
       "      <td>0.333333</td>\n",
       "    </tr>\n",
       "  </tbody>\n",
       "</table>\n",
       "</div>"
      ],
      "text/plain": [
       "             smooth  diagnosis\n",
       "0  (0.0525, 0.0748]   0.964286\n",
       "1  (0.0748, 0.0969]   0.751852\n",
       "2   (0.0969, 0.119]   0.477366\n",
       "3    (0.119, 0.141]   0.400000\n",
       "4    (0.141, 0.163]   0.333333"
      ]
     },
     "execution_count": 19,
     "metadata": {},
     "output_type": "execute_result"
    }
   ],
   "source": [
    "data3[[\"smooth\",\"diagnosis\"]].groupby(['smooth'], as_index=False).mean().sort_values(by='smooth', ascending=True)"
   ]
  },
  {
   "cell_type": "code",
   "execution_count": 20,
   "id": "315037db",
   "metadata": {
    "execution": {
     "iopub.execute_input": "2021-08-16T09:03:53.933072Z",
     "iopub.status.busy": "2021-08-16T09:03:53.931152Z",
     "iopub.status.idle": "2021-08-16T09:03:53.935060Z",
     "shell.execute_reply": "2021-08-16T09:03:53.935488Z",
     "shell.execute_reply.started": "2021-08-16T09:02:46.127864Z"
    },
    "papermill": {
     "duration": 0.056755,
     "end_time": "2021-08-16T09:03:53.935674",
     "exception": false,
     "start_time": "2021-08-16T09:03:53.878919",
     "status": "completed"
    },
    "tags": []
   },
   "outputs": [],
   "source": [
    "data3.loc[ data3['mean_smoothness'] <= 0.0748, 'mean_smoothness'] = 0\n",
    "data3.loc[(data3['mean_smoothness'] > 0.0748) & (data3['mean_smoothness'] <= 0.0969), 'mean_smoothness'] = 1\n",
    "data3.loc[(data3['mean_smoothness'] > 0.0969) & (data3['mean_smoothness'] <= 0.119), 'mean_smoothness'] = 2\n",
    "data3.loc[(data3['mean_smoothness'] > 0.119) & (data3['mean_smoothness'] <= 0.141), 'mean_smoothness'] = 3\n",
    "data3.loc[ data3['mean_smoothness'] > 0.141, 'mean_smoothness']=4"
   ]
  },
  {
   "cell_type": "code",
   "execution_count": 21,
   "id": "caff71ae",
   "metadata": {
    "execution": {
     "iopub.execute_input": "2021-08-16T09:03:54.026085Z",
     "iopub.status.busy": "2021-08-16T09:03:54.025148Z",
     "iopub.status.idle": "2021-08-16T09:03:54.037325Z",
     "shell.execute_reply": "2021-08-16T09:03:54.037746Z",
     "shell.execute_reply.started": "2021-08-16T09:02:46.635361Z"
    },
    "papermill": {
     "duration": 0.059498,
     "end_time": "2021-08-16T09:03:54.037916",
     "exception": false,
     "start_time": "2021-08-16T09:03:53.978418",
     "status": "completed"
    },
    "tags": []
   },
   "outputs": [
    {
     "data": {
      "text/html": [
       "<div>\n",
       "<style scoped>\n",
       "    .dataframe tbody tr th:only-of-type {\n",
       "        vertical-align: middle;\n",
       "    }\n",
       "\n",
       "    .dataframe tbody tr th {\n",
       "        vertical-align: top;\n",
       "    }\n",
       "\n",
       "    .dataframe thead th {\n",
       "        text-align: right;\n",
       "    }\n",
       "</style>\n",
       "<table border=\"1\" class=\"dataframe\">\n",
       "  <thead>\n",
       "    <tr style=\"text-align: right;\">\n",
       "      <th></th>\n",
       "      <th>mean_radius</th>\n",
       "      <th>mean_texture</th>\n",
       "      <th>mean_smoothness</th>\n",
       "      <th>diagnosis</th>\n",
       "    </tr>\n",
       "  </thead>\n",
       "  <tbody>\n",
       "    <tr>\n",
       "      <th>0</th>\n",
       "      <td>2.0</td>\n",
       "      <td>0.0</td>\n",
       "      <td>4.0</td>\n",
       "      <td>0</td>\n",
       "    </tr>\n",
       "    <tr>\n",
       "      <th>1</th>\n",
       "      <td>3.0</td>\n",
       "      <td>1.0</td>\n",
       "      <td>4.0</td>\n",
       "      <td>0</td>\n",
       "    </tr>\n",
       "    <tr>\n",
       "      <th>2</th>\n",
       "      <td>3.0</td>\n",
       "      <td>2.0</td>\n",
       "      <td>4.0</td>\n",
       "      <td>0</td>\n",
       "    </tr>\n",
       "    <tr>\n",
       "      <th>3</th>\n",
       "      <td>1.0</td>\n",
       "      <td>2.0</td>\n",
       "      <td>4.0</td>\n",
       "      <td>0</td>\n",
       "    </tr>\n",
       "    <tr>\n",
       "      <th>4</th>\n",
       "      <td>3.0</td>\n",
       "      <td>1.0</td>\n",
       "      <td>4.0</td>\n",
       "      <td>0</td>\n",
       "    </tr>\n",
       "  </tbody>\n",
       "</table>\n",
       "</div>"
      ],
      "text/plain": [
       "   mean_radius  mean_texture  mean_smoothness  diagnosis\n",
       "0          2.0           0.0              4.0          0\n",
       "1          3.0           1.0              4.0          0\n",
       "2          3.0           2.0              4.0          0\n",
       "3          1.0           2.0              4.0          0\n",
       "4          3.0           1.0              4.0          0"
      ]
     },
     "execution_count": 21,
     "metadata": {},
     "output_type": "execute_result"
    }
   ],
   "source": [
    "#Eliminamos ya la columna smooth\n",
    "data3=data3.drop([\"smooth\"],axis=1)\n",
    "data3.head()"
   ]
  },
  {
   "cell_type": "markdown",
   "id": "f1833d00",
   "metadata": {
    "papermill": {
     "duration": 0.043045,
     "end_time": "2021-08-16T09:03:54.123835",
     "exception": false,
     "start_time": "2021-08-16T09:03:54.080790",
     "status": "completed"
    },
    "tags": []
   },
   "source": [
    "## Modelo a escoger"
   ]
  },
  {
   "cell_type": "markdown",
   "id": "703ffdb1",
   "metadata": {
    "papermill": {
     "duration": 0.042318,
     "end_time": "2021-08-16T09:03:54.210090",
     "exception": false,
     "start_time": "2021-08-16T09:03:54.167772",
     "status": "completed"
    },
    "tags": []
   },
   "source": [
    "Como sabemos el resultado de nuestro análisis sabemos que se trata de aprendizaje supervisado y como el resultado solo puede tomar 2 valores 0 o 1 pues sabemos que se trata de clasificación y también de regresión. Dicho esto, vamos a probar unos cuantos modelos de manera directa y cuando seleccionemos los mejores  observaremos las matrices de confusión."
   ]
  },
  {
   "cell_type": "code",
   "execution_count": 22,
   "id": "5b65820c",
   "metadata": {
    "execution": {
     "iopub.execute_input": "2021-08-16T09:03:54.299356Z",
     "iopub.status.busy": "2021-08-16T09:03:54.298433Z",
     "iopub.status.idle": "2021-08-16T09:03:54.305102Z",
     "shell.execute_reply": "2021-08-16T09:03:54.305511Z",
     "shell.execute_reply.started": "2021-08-16T09:02:48.089039Z"
    },
    "papermill": {
     "duration": 0.052807,
     "end_time": "2021-08-16T09:03:54.305717",
     "exception": false,
     "start_time": "2021-08-16T09:03:54.252910",
     "status": "completed"
    },
    "tags": []
   },
   "outputs": [],
   "source": [
    "#En primer lugar vamos a separar entre entrenamiento y test.\n",
    "X_train, X_test, y_train, y_test = train_test_split(data3.drop([\"diagnosis\"],axis=1),data3[\"diagnosis\"] , \n",
    "                                                    test_size = 0.2, random_state=20)\n"
   ]
  },
  {
   "cell_type": "code",
   "execution_count": 23,
   "id": "a1a3273e",
   "metadata": {
    "execution": {
     "iopub.execute_input": "2021-08-16T09:03:54.396037Z",
     "iopub.status.busy": "2021-08-16T09:03:54.395087Z",
     "iopub.status.idle": "2021-08-16T09:03:54.406441Z",
     "shell.execute_reply": "2021-08-16T09:03:54.406962Z",
     "shell.execute_reply.started": "2021-08-16T09:02:48.903164Z"
    },
    "papermill": {
     "duration": 0.057893,
     "end_time": "2021-08-16T09:03:54.407132",
     "exception": false,
     "start_time": "2021-08-16T09:03:54.349239",
     "status": "completed"
    },
    "tags": []
   },
   "outputs": [
    {
     "data": {
      "text/html": [
       "<div>\n",
       "<style scoped>\n",
       "    .dataframe tbody tr th:only-of-type {\n",
       "        vertical-align: middle;\n",
       "    }\n",
       "\n",
       "    .dataframe tbody tr th {\n",
       "        vertical-align: top;\n",
       "    }\n",
       "\n",
       "    .dataframe thead th {\n",
       "        text-align: right;\n",
       "    }\n",
       "</style>\n",
       "<table border=\"1\" class=\"dataframe\">\n",
       "  <thead>\n",
       "    <tr style=\"text-align: right;\">\n",
       "      <th></th>\n",
       "      <th>mean_radius</th>\n",
       "      <th>mean_texture</th>\n",
       "      <th>mean_smoothness</th>\n",
       "    </tr>\n",
       "  </thead>\n",
       "  <tbody>\n",
       "    <tr>\n",
       "      <th>412</th>\n",
       "      <td>0.0</td>\n",
       "      <td>2.0</td>\n",
       "      <td>4.0</td>\n",
       "    </tr>\n",
       "    <tr>\n",
       "      <th>461</th>\n",
       "      <td>4.0</td>\n",
       "      <td>3.0</td>\n",
       "      <td>4.0</td>\n",
       "    </tr>\n",
       "    <tr>\n",
       "      <th>532</th>\n",
       "      <td>1.0</td>\n",
       "      <td>1.0</td>\n",
       "      <td>4.0</td>\n",
       "    </tr>\n",
       "    <tr>\n",
       "      <th>495</th>\n",
       "      <td>1.0</td>\n",
       "      <td>2.0</td>\n",
       "      <td>4.0</td>\n",
       "    </tr>\n",
       "    <tr>\n",
       "      <th>13</th>\n",
       "      <td>2.0</td>\n",
       "      <td>3.0</td>\n",
       "      <td>4.0</td>\n",
       "    </tr>\n",
       "  </tbody>\n",
       "</table>\n",
       "</div>"
      ],
      "text/plain": [
       "     mean_radius  mean_texture  mean_smoothness\n",
       "412          0.0           2.0              4.0\n",
       "461          4.0           3.0              4.0\n",
       "532          1.0           1.0              4.0\n",
       "495          1.0           2.0              4.0\n",
       "13           2.0           3.0              4.0"
      ]
     },
     "execution_count": 23,
     "metadata": {},
     "output_type": "execute_result"
    }
   ],
   "source": [
    "X_train.head()"
   ]
  },
  {
   "cell_type": "markdown",
   "id": "28902603",
   "metadata": {
    "papermill": {
     "duration": 0.043244,
     "end_time": "2021-08-16T09:03:54.494392",
     "exception": false,
     "start_time": "2021-08-16T09:03:54.451148",
     "status": "completed"
    },
    "tags": []
   },
   "source": [
    "#### Logistic Regression"
   ]
  },
  {
   "cell_type": "code",
   "execution_count": 24,
   "id": "bb70f6a6",
   "metadata": {
    "execution": {
     "iopub.execute_input": "2021-08-16T09:03:54.586021Z",
     "iopub.status.busy": "2021-08-16T09:03:54.585072Z",
     "iopub.status.idle": "2021-08-16T09:03:54.726354Z",
     "shell.execute_reply": "2021-08-16T09:03:54.725850Z",
     "shell.execute_reply.started": "2021-08-16T09:02:50.158680Z"
    },
    "papermill": {
     "duration": 0.188843,
     "end_time": "2021-08-16T09:03:54.726508",
     "exception": false,
     "start_time": "2021-08-16T09:03:54.537665",
     "status": "completed"
    },
    "tags": []
   },
   "outputs": [
    {
     "name": "stdout",
     "output_type": "stream",
     "text": [
      "La precisión (accuracy) de la regresión logistica es 87.72%\n"
     ]
    }
   ],
   "source": [
    "model = LogisticRegression()\n",
    "model.fit(X_train,y_train)\n",
    "prediction_logistic = model.predict(X_test)\n",
    "acc_log = round(accuracy_score(prediction_logistic,y_test) * 100, 2)\n",
    "print('La precisión (accuracy) de la regresión logistica es {}%'.format(acc_log))"
   ]
  },
  {
   "cell_type": "markdown",
   "id": "b26f690a",
   "metadata": {
    "papermill": {
     "duration": 0.045535,
     "end_time": "2021-08-16T09:03:54.817985",
     "exception": false,
     "start_time": "2021-08-16T09:03:54.772450",
     "status": "completed"
    },
    "tags": []
   },
   "source": [
    "#### Decision Tree Classifier"
   ]
  },
  {
   "cell_type": "code",
   "execution_count": 25,
   "id": "a42c1096",
   "metadata": {
    "execution": {
     "iopub.execute_input": "2021-08-16T09:03:54.916480Z",
     "iopub.status.busy": "2021-08-16T09:03:54.915429Z",
     "iopub.status.idle": "2021-08-16T09:03:54.922765Z",
     "shell.execute_reply": "2021-08-16T09:03:54.923273Z",
     "shell.execute_reply.started": "2021-08-16T09:02:51.234552Z"
    },
    "papermill": {
     "duration": 0.060688,
     "end_time": "2021-08-16T09:03:54.923445",
     "exception": false,
     "start_time": "2021-08-16T09:03:54.862757",
     "status": "completed"
    },
    "tags": []
   },
   "outputs": [
    {
     "name": "stdout",
     "output_type": "stream",
     "text": [
      "La precisión (accuracy) del decision tree clasiffier es 92.98%\n"
     ]
    }
   ],
   "source": [
    "model = DecisionTreeClassifier()\n",
    "model.fit(X_train, y_train)\n",
    "prediction_tree = model.predict(X_test)\n",
    "acc_tree = round(accuracy_score(prediction_tree,y_test) * 100, 2)\n",
    "print('La precisión (accuracy) del decision tree clasiffier es {}%'.format(acc_tree))"
   ]
  },
  {
   "cell_type": "markdown",
   "id": "217044a6",
   "metadata": {
    "papermill": {
     "duration": 0.043504,
     "end_time": "2021-08-16T09:03:55.013356",
     "exception": false,
     "start_time": "2021-08-16T09:03:54.969852",
     "status": "completed"
    },
    "tags": []
   },
   "source": [
    "#### Support Vector Machine"
   ]
  },
  {
   "cell_type": "code",
   "execution_count": 26,
   "id": "3bd497ac",
   "metadata": {
    "execution": {
     "iopub.execute_input": "2021-08-16T09:03:55.106765Z",
     "iopub.status.busy": "2021-08-16T09:03:55.106069Z",
     "iopub.status.idle": "2021-08-16T09:03:55.120292Z",
     "shell.execute_reply": "2021-08-16T09:03:55.119747Z",
     "shell.execute_reply.started": "2021-08-16T09:02:52.241048Z"
    },
    "papermill": {
     "duration": 0.062389,
     "end_time": "2021-08-16T09:03:55.120427",
     "exception": false,
     "start_time": "2021-08-16T09:03:55.058038",
     "status": "completed"
    },
    "tags": []
   },
   "outputs": [
    {
     "name": "stdout",
     "output_type": "stream",
     "text": [
      "La precisión (accuracy) del SVC es 90.35%\n"
     ]
    }
   ],
   "source": [
    "model=SVC()\n",
    "model.fit(X_train,y_train)\n",
    "prediction_svc=model.predict(X_test)\n",
    "acc_svc=round(accuracy_score(prediction_svc,y_test) * 100, 2)\n",
    "print('La precisión (accuracy) del SVC es {}%'.format(acc_svc))"
   ]
  },
  {
   "cell_type": "markdown",
   "id": "cca93b8c",
   "metadata": {
    "papermill": {
     "duration": 0.047382,
     "end_time": "2021-08-16T09:03:55.214538",
     "exception": false,
     "start_time": "2021-08-16T09:03:55.167156",
     "status": "completed"
    },
    "tags": []
   },
   "source": [
    "#### k Neighbors Classifier"
   ]
  },
  {
   "cell_type": "code",
   "execution_count": 27,
   "id": "8b72c54e",
   "metadata": {
    "execution": {
     "iopub.execute_input": "2021-08-16T09:03:55.313697Z",
     "iopub.status.busy": "2021-08-16T09:03:55.312118Z",
     "iopub.status.idle": "2021-08-16T09:03:55.640670Z",
     "shell.execute_reply": "2021-08-16T09:03:55.641125Z",
     "shell.execute_reply.started": "2021-08-16T09:02:53.321049Z"
    },
    "papermill": {
     "duration": 0.382418,
     "end_time": "2021-08-16T09:03:55.641288",
     "exception": false,
     "start_time": "2021-08-16T09:03:55.258870",
     "status": "completed"
    },
    "tags": []
   },
   "outputs": [
    {
     "data": {
      "text/plain": [
       "([<matplotlib.axis.XTick at 0x7f3855eda990>,\n",
       "  <matplotlib.axis.XTick at 0x7f3855eda090>,\n",
       "  <matplotlib.axis.XTick at 0x7f3855ed08d0>,\n",
       "  <matplotlib.axis.XTick at 0x7f3845e061d0>,\n",
       "  <matplotlib.axis.XTick at 0x7f3845e062d0>],\n",
       " [Text(0, 0, ''),\n",
       "  Text(0, 0, ''),\n",
       "  Text(0, 0, ''),\n",
       "  Text(0, 0, ''),\n",
       "  Text(0, 0, '')])"
      ]
     },
     "execution_count": 27,
     "metadata": {},
     "output_type": "execute_result"
    },
    {
     "data": {
      "image/png": "[encoded data removed]",
      "text/plain": [
       "<Figure size 720x360 with 1 Axes>"
      ]
     },
     "metadata": {},
     "output_type": "display_data"
    }
   ],
   "source": [
    "#Para obtener el número de vecinos, debemos ejecutar un pequeño código\n",
    "k_range = range(1, 20)\n",
    "scores = []\n",
    "for k in k_range:\n",
    "    knn = KNeighborsClassifier(n_neighbors = k)\n",
    "    knn.fit(X_train, y_train)\n",
    "    scores.append(knn.score(X_test, y_test))\n",
    "plt.figure(figsize=(10,5))\n",
    "plt.xlabel('k')\n",
    "plt.ylabel('accuracy')\n",
    "plt.scatter(k_range, scores)\n",
    "plt.xticks([0,5,10,15,20])"
   ]
  },
  {
   "cell_type": "code",
   "execution_count": 28,
   "id": "4ead834a",
   "metadata": {
    "execution": {
     "iopub.execute_input": "2021-08-16T09:03:55.743007Z",
     "iopub.status.busy": "2021-08-16T09:03:55.742373Z",
     "iopub.status.idle": "2021-08-16T09:03:55.751222Z",
     "shell.execute_reply": "2021-08-16T09:03:55.750660Z",
     "shell.execute_reply.started": "2021-08-16T09:02:53.839424Z"
    },
    "papermill": {
     "duration": 0.063173,
     "end_time": "2021-08-16T09:03:55.751364",
     "exception": false,
     "start_time": "2021-08-16T09:03:55.688191",
     "status": "completed"
    },
    "tags": []
   },
   "outputs": [
    {
     "name": "stdout",
     "output_type": "stream",
     "text": [
      "La precisión (accuracy) del decision knn es 92.98%\n"
     ]
    }
   ],
   "source": [
    "model=KNeighborsClassifier(n_neighbors=8)\n",
    "model.fit(X_train,y_train)\n",
    "prediction_knn=model.predict(X_test)\n",
    "acc_knn = round(accuracy_score(prediction_knn,y_test) * 100, 2)\n",
    "print('La precisión (accuracy) del decision knn es {}%'.format(acc_knn))"
   ]
  },
  {
   "cell_type": "markdown",
   "id": "0d6bbf3d",
   "metadata": {
    "papermill": {
     "duration": 0.045761,
     "end_time": "2021-08-16T09:03:55.843145",
     "exception": false,
     "start_time": "2021-08-16T09:03:55.797384",
     "status": "completed"
    },
    "tags": []
   },
   "source": [
    "#### Random Forest "
   ]
  },
  {
   "cell_type": "code",
   "execution_count": 29,
   "id": "6abc2bee",
   "metadata": {
    "execution": {
     "iopub.execute_input": "2021-08-16T09:03:55.952513Z",
     "iopub.status.busy": "2021-08-16T09:03:55.947141Z",
     "iopub.status.idle": "2021-08-16T09:03:56.095518Z",
     "shell.execute_reply": "2021-08-16T09:03:56.095030Z",
     "shell.execute_reply.started": "2021-08-16T09:02:54.954415Z"
    },
    "papermill": {
     "duration": 0.20674,
     "end_time": "2021-08-16T09:03:56.095683",
     "exception": false,
     "start_time": "2021-08-16T09:03:55.888943",
     "status": "completed"
    },
    "tags": []
   },
   "outputs": [
    {
     "name": "stdout",
     "output_type": "stream",
     "text": [
      "La precisión (accuracy) del Random Forest es 92.98%\n"
     ]
    }
   ],
   "source": [
    "model=RandomForestClassifier(n_estimators=100)\n",
    "model.fit(X_train,y_train)\n",
    "prediction_rf=model.predict(X_test)\n",
    "acc_rf = round(accuracy_score(prediction_rf,y_test)*100,2)\n",
    "print('La precisión (accuracy) del Random Forest es {}%'.format(acc_rf))"
   ]
  },
  {
   "cell_type": "markdown",
   "id": "061d61b6",
   "metadata": {
    "papermill": {
     "duration": 0.045442,
     "end_time": "2021-08-16T09:03:56.187115",
     "exception": false,
     "start_time": "2021-08-16T09:03:56.141673",
     "status": "completed"
    },
    "tags": []
   },
   "source": [
    "#### Gaussian Naive Bayes"
   ]
  },
  {
   "cell_type": "code",
   "execution_count": 30,
   "id": "ae4e2c8f",
   "metadata": {
    "execution": {
     "iopub.execute_input": "2021-08-16T09:03:56.285432Z",
     "iopub.status.busy": "2021-08-16T09:03:56.284858Z",
     "iopub.status.idle": "2021-08-16T09:03:56.292139Z",
     "shell.execute_reply": "2021-08-16T09:03:56.291393Z",
     "shell.execute_reply.started": "2021-08-16T09:02:56.047345Z"
    },
    "papermill": {
     "duration": 0.059713,
     "end_time": "2021-08-16T09:03:56.292282",
     "exception": false,
     "start_time": "2021-08-16T09:03:56.232569",
     "status": "completed"
    },
    "tags": []
   },
   "outputs": [
    {
     "name": "stdout",
     "output_type": "stream",
     "text": [
      "La precisión (accuracy) de Gaussian Naive Bayes es 85.96%\n"
     ]
    }
   ],
   "source": [
    "model=GaussianNB()\n",
    "model.fit(X_train,y_train)\n",
    "prediction_gnb=model.predict(X_test)\n",
    "acc_gnb=round(accuracy_score(prediction_gnb,y_test) * 100, 2)\n",
    "print('La precisión (accuracy) de Gaussian Naive Bayes es {}%'.format(acc_gnb))"
   ]
  },
  {
   "cell_type": "markdown",
   "id": "54b0ea1c",
   "metadata": {
    "papermill": {
     "duration": 0.045561,
     "end_time": "2021-08-16T09:03:56.383717",
     "exception": false,
     "start_time": "2021-08-16T09:03:56.338156",
     "status": "completed"
    },
    "tags": []
   },
   "source": [
    "Una vez ya hemos probado unos cuantos modelos, vamos a ordenarlos para quedarnos con los dos mejores."
   ]
  },
  {
   "cell_type": "code",
   "execution_count": 31,
   "id": "f216fa62",
   "metadata": {
    "execution": {
     "iopub.execute_input": "2021-08-16T09:03:56.489733Z",
     "iopub.status.busy": "2021-08-16T09:03:56.488880Z",
     "iopub.status.idle": "2021-08-16T09:03:56.493183Z",
     "shell.execute_reply": "2021-08-16T09:03:56.492713Z",
     "shell.execute_reply.started": "2021-08-16T09:02:57.136226Z"
    },
    "papermill": {
     "duration": 0.063864,
     "end_time": "2021-08-16T09:03:56.493327",
     "exception": false,
     "start_time": "2021-08-16T09:03:56.429463",
     "status": "completed"
    },
    "tags": []
   },
   "outputs": [
    {
     "data": {
      "text/html": [
       "<div>\n",
       "<style scoped>\n",
       "    .dataframe tbody tr th:only-of-type {\n",
       "        vertical-align: middle;\n",
       "    }\n",
       "\n",
       "    .dataframe tbody tr th {\n",
       "        vertical-align: top;\n",
       "    }\n",
       "\n",
       "    .dataframe thead th {\n",
       "        text-align: right;\n",
       "    }\n",
       "</style>\n",
       "<table border=\"1\" class=\"dataframe\">\n",
       "  <thead>\n",
       "    <tr style=\"text-align: right;\">\n",
       "      <th></th>\n",
       "      <th>Model</th>\n",
       "      <th>Score</th>\n",
       "    </tr>\n",
       "  </thead>\n",
       "  <tbody>\n",
       "    <tr>\n",
       "      <th>2</th>\n",
       "      <td>Decision Trees</td>\n",
       "      <td>92.98</td>\n",
       "    </tr>\n",
       "    <tr>\n",
       "      <th>3</th>\n",
       "      <td>Random Forest</td>\n",
       "      <td>92.98</td>\n",
       "    </tr>\n",
       "    <tr>\n",
       "      <th>5</th>\n",
       "      <td>KNN</td>\n",
       "      <td>92.98</td>\n",
       "    </tr>\n",
       "    <tr>\n",
       "      <th>1</th>\n",
       "      <td>SVC</td>\n",
       "      <td>90.35</td>\n",
       "    </tr>\n",
       "    <tr>\n",
       "      <th>0</th>\n",
       "      <td>Logistic Regression</td>\n",
       "      <td>87.72</td>\n",
       "    </tr>\n",
       "    <tr>\n",
       "      <th>4</th>\n",
       "      <td>GaussianNB</td>\n",
       "      <td>85.96</td>\n",
       "    </tr>\n",
       "  </tbody>\n",
       "</table>\n",
       "</div>"
      ],
      "text/plain": [
       "                 Model  Score\n",
       "2       Decision Trees  92.98\n",
       "3        Random Forest  92.98\n",
       "5                  KNN  92.98\n",
       "1                  SVC  90.35\n",
       "0  Logistic Regression  87.72\n",
       "4           GaussianNB  85.96"
      ]
     },
     "execution_count": 31,
     "metadata": {},
     "output_type": "execute_result"
    }
   ],
   "source": [
    "models = pd.DataFrame({\n",
    "    'Model': ['Logistic Regression', 'SVC', 'Decision Trees',\"Random Forest\",\"GaussianNB\",\"KNN\"],\n",
    "    'Score': [acc_log, acc_svc, acc_tree,acc_rf,acc_gnb,acc_knn]})\n",
    "models.sort_values(by='Score', ascending=False)"
   ]
  },
  {
   "cell_type": "markdown",
   "id": "fa0a3621",
   "metadata": {
    "papermill": {
     "duration": 0.046349,
     "end_time": "2021-08-16T09:03:56.587141",
     "exception": false,
     "start_time": "2021-08-16T09:03:56.540792",
     "status": "completed"
    },
    "tags": []
   },
   "source": [
    "Tenemos el mismo accuracy con tres modelos, luego vamos a estudiar random forest y Knn, ya que decision tree es el caso simple de random forest."
   ]
  },
  {
   "cell_type": "markdown",
   "id": "55affba0",
   "metadata": {
    "papermill": {
     "duration": 0.05921,
     "end_time": "2021-08-16T09:03:56.693252",
     "exception": false,
     "start_time": "2021-08-16T09:03:56.634042",
     "status": "completed"
    },
    "tags": []
   },
   "source": [
    "### Random Forest(Evaluación del modelo)"
   ]
  },
  {
   "cell_type": "code",
   "execution_count": 32,
   "id": "3c14b880",
   "metadata": {
    "execution": {
     "iopub.execute_input": "2021-08-16T09:03:56.829497Z",
     "iopub.status.busy": "2021-08-16T09:03:56.824411Z",
     "iopub.status.idle": "2021-08-16T09:03:56.970865Z",
     "shell.execute_reply": "2021-08-16T09:03:56.969568Z",
     "shell.execute_reply.started": "2021-08-16T09:02:58.783244Z"
    },
    "papermill": {
     "duration": 0.210496,
     "end_time": "2021-08-16T09:03:56.971104",
     "exception": false,
     "start_time": "2021-08-16T09:03:56.760608",
     "status": "completed"
    },
    "tags": []
   },
   "outputs": [
    {
     "name": "stdout",
     "output_type": "stream",
     "text": [
      "La precisión (accuracy) del Random Forest es 92.98%\n"
     ]
    }
   ],
   "source": [
    "model=RandomForestClassifier(n_estimators=100)\n",
    "model.fit(X_train,y_train)\n",
    "prediction_rf=model.predict(X_test)\n",
    "acc_rf = round(accuracy_score(prediction_rf,y_test)*100,2)\n",
    "print('La precisión (accuracy) del Random Forest es {}%'.format(acc_rf))"
   ]
  },
  {
   "cell_type": "code",
   "execution_count": 33,
   "id": "59c7f00d",
   "metadata": {
    "execution": {
     "iopub.execute_input": "2021-08-16T09:03:57.074401Z",
     "iopub.status.busy": "2021-08-16T09:03:57.073384Z",
     "iopub.status.idle": "2021-08-16T09:03:57.255087Z",
     "shell.execute_reply": "2021-08-16T09:03:57.254533Z",
     "shell.execute_reply.started": "2021-08-16T09:02:59.310147Z"
    },
    "papermill": {
     "duration": 0.235421,
     "end_time": "2021-08-16T09:03:57.255243",
     "exception": false,
     "start_time": "2021-08-16T09:03:57.019822",
     "status": "completed"
    },
    "tags": []
   },
   "outputs": [
    {
     "data": {
      "image/png": "[encoded data removed]",
      "text/plain": [
       "<Figure size 576x360 with 2 Axes>"
      ]
     },
     "metadata": {},
     "output_type": "display_data"
    }
   ],
   "source": [
    "plt.rcParams['figure.figsize'] = 8, 5\n",
    "plot_confusion_matrix(model, X_test,y_test)\n",
    "\n",
    "plt.title('Random Forest Confusion Matrix')\n",
    "plt.show()"
   ]
  },
  {
   "cell_type": "code",
   "execution_count": 34,
   "id": "f049c231",
   "metadata": {
    "execution": {
     "iopub.execute_input": "2021-08-16T09:03:57.355492Z",
     "iopub.status.busy": "2021-08-16T09:03:57.354483Z",
     "iopub.status.idle": "2021-08-16T09:03:57.362040Z",
     "shell.execute_reply": "2021-08-16T09:03:57.362440Z",
     "shell.execute_reply.started": "2021-08-16T09:03:00.031482Z"
    },
    "papermill": {
     "duration": 0.060216,
     "end_time": "2021-08-16T09:03:57.362629",
     "exception": false,
     "start_time": "2021-08-16T09:03:57.302413",
     "status": "completed"
    },
    "tags": []
   },
   "outputs": [
    {
     "name": "stdout",
     "output_type": "stream",
     "text": [
      "              precision    recall  f1-score   support\n",
      "\n",
      "           0       0.95      0.88      0.91        48\n",
      "           1       0.91      0.97      0.94        66\n",
      "\n",
      "    accuracy                           0.93       114\n",
      "   macro avg       0.93      0.92      0.93       114\n",
      "weighted avg       0.93      0.93      0.93       114\n",
      "\n"
     ]
    }
   ],
   "source": [
    "# Comprobación (f1-score - accuracy)\n",
    "report = classification_report(y_test, prediction_rf)\n",
    "print(report)"
   ]
  },
  {
   "cell_type": "markdown",
   "id": "0528e14c",
   "metadata": {
    "papermill": {
     "duration": 0.046463,
     "end_time": "2021-08-16T09:03:57.456339",
     "exception": false,
     "start_time": "2021-08-16T09:03:57.409876",
     "status": "completed"
    },
    "tags": []
   },
   "source": [
    "Como observamos en la matriz de confusión, se han marcado solo 8 errores, 6 se maracaron como menignos que eran malignos y 2 como malignos que eran malignos. Si observamos el reporte de clasificación pues vemos que tenemos para ambos casos un gran f1. Luego visto todo esto podemos decir que el random forest es un gran algoritmo de clasificación para este problema."
   ]
  },
  {
   "cell_type": "markdown",
   "id": "440dc861",
   "metadata": {
    "papermill": {
     "duration": 0.046642,
     "end_time": "2021-08-16T09:03:57.549974",
     "exception": false,
     "start_time": "2021-08-16T09:03:57.503332",
     "status": "completed"
    },
    "tags": []
   },
   "source": [
    "### KNN(Evaluación)"
   ]
  },
  {
   "cell_type": "code",
   "execution_count": 35,
   "id": "8365651d",
   "metadata": {
    "execution": {
     "iopub.execute_input": "2021-08-16T09:03:57.647906Z",
     "iopub.status.busy": "2021-08-16T09:03:57.647005Z",
     "iopub.status.idle": "2021-08-16T09:03:57.662539Z",
     "shell.execute_reply": "2021-08-16T09:03:57.662071Z",
     "shell.execute_reply.started": "2021-08-16T09:03:02.433391Z"
    },
    "papermill": {
     "duration": 0.065656,
     "end_time": "2021-08-16T09:03:57.662695",
     "exception": false,
     "start_time": "2021-08-16T09:03:57.597039",
     "status": "completed"
    },
    "tags": []
   },
   "outputs": [
    {
     "name": "stdout",
     "output_type": "stream",
     "text": [
      "La precisión (accuracy) del decision knn es 92.98%\n"
     ]
    }
   ],
   "source": [
    "modelo=KNeighborsClassifier(n_neighbors=8)#Seleccionamos 8, porque ya vimos antes cual coger\n",
    "modelo.fit(X_train,y_train)\n",
    "prediction_knn=modelo.predict(X_test)\n",
    "acc_knn = round(accuracy_score(prediction_knn,y_test) * 100, 2)\n",
    "print('La precisión (accuracy) del decision knn es {}%'.format(acc_knn))"
   ]
  },
  {
   "cell_type": "code",
   "execution_count": 36,
   "id": "d21ecea4",
   "metadata": {
    "execution": {
     "iopub.execute_input": "2021-08-16T09:03:57.766101Z",
     "iopub.status.busy": "2021-08-16T09:03:57.765415Z",
     "iopub.status.idle": "2021-08-16T09:03:57.926094Z",
     "shell.execute_reply": "2021-08-16T09:03:57.925572Z",
     "shell.execute_reply.started": "2021-08-16T09:03:03.217415Z"
    },
    "papermill": {
     "duration": 0.216067,
     "end_time": "2021-08-16T09:03:57.926233",
     "exception": false,
     "start_time": "2021-08-16T09:03:57.710166",
     "status": "completed"
    },
    "tags": []
   },
   "outputs": [
    {
     "data": {
      "image/png": "[encoded data removed]",
      "text/plain": [
       "<Figure size 576x360 with 2 Axes>"
      ]
     },
     "metadata": {},
     "output_type": "display_data"
    }
   ],
   "source": [
    "plt.rcParams['figure.figsize'] = 8, 5\n",
    "plot_confusion_matrix(modelo, X_test,y_test)\n",
    "\n",
    "plt.title('KNN Confusion Matrix')\n",
    "plt.show()"
   ]
  },
  {
   "cell_type": "code",
   "execution_count": 37,
   "id": "3c361cfe",
   "metadata": {
    "execution": {
     "iopub.execute_input": "2021-08-16T09:03:58.029245Z",
     "iopub.status.busy": "2021-08-16T09:03:58.028570Z",
     "iopub.status.idle": "2021-08-16T09:03:58.037092Z",
     "shell.execute_reply": "2021-08-16T09:03:58.036647Z",
     "shell.execute_reply.started": "2021-08-16T09:03:03.890041Z"
    },
    "papermill": {
     "duration": 0.061836,
     "end_time": "2021-08-16T09:03:58.037228",
     "exception": false,
     "start_time": "2021-08-16T09:03:57.975392",
     "status": "completed"
    },
    "tags": []
   },
   "outputs": [
    {
     "name": "stdout",
     "output_type": "stream",
     "text": [
      "              precision    recall  f1-score   support\n",
      "\n",
      "           0       0.95      0.88      0.91        48\n",
      "           1       0.91      0.97      0.94        66\n",
      "\n",
      "    accuracy                           0.93       114\n",
      "   macro avg       0.93      0.92      0.93       114\n",
      "weighted avg       0.93      0.93      0.93       114\n",
      "\n"
     ]
    }
   ],
   "source": [
    "report = classification_report(y_test, prediction_knn)\n",
    "print(report)"
   ]
  },
  {
   "cell_type": "markdown",
   "id": "97b8a56a",
   "metadata": {
    "papermill": {
     "duration": 0.049135,
     "end_time": "2021-08-16T09:03:58.135053",
     "exception": false,
     "start_time": "2021-08-16T09:03:58.085918",
     "status": "completed"
    },
    "tags": []
   },
   "source": [
    "Al comprobar la matriz de confusión y el reporte de clasificación vemos que aciertan lo mismo y fallan en los mismos casos, luego ambos modelos son igual de precisos y cualquiera de ellos nos serviría ya que cuentan con una precisión del 92%"
   ]
  },
  {
   "cell_type": "code",
   "execution_count": null,
   "id": "4252c732",
   "metadata": {
    "papermill": {
     "duration": 0.048963,
     "end_time": "2021-08-16T09:03:58.233446",
     "exception": false,
     "start_time": "2021-08-16T09:03:58.184483",
     "status": "completed"
    },
    "tags": []
   },
   "outputs": [],
   "source": []
  }
 ],
 "metadata": {
  "kernelspec": {
   "display_name": "Python 3",
   "language": "python",
   "name": "python3"
  },
  "language_info": {
   "codemirror_mode": {
    "name": "ipython",
    "version": 3
   },
   "file_extension": ".py",
   "mimetype": "text/x-python",
   "name": "python",
   "nbconvert_exporter": "python",
   "pygments_lexer": "ipython3",
   "version": "3.7.10"
  },
  "papermill": {
   "default_parameters": {},
   "duration": 22.86995,
   "end_time": "2021-08-16T09:03:59.759666",
   "environment_variables": {},
   "exception": null,
   "input_path": "__notebook__.ipynb",
   "output_path": "__notebook__.ipynb",
   "parameters": {},
   "start_time": "2021-08-16T09:03:36.889716",
   "version": "2.3.3"
  }
 },
 "nbformat": 4,
 "nbformat_minor": 5
}
